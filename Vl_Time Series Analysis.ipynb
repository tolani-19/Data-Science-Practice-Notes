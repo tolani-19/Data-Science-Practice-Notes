{
 "cells": [
  {
   "cell_type": "markdown",
   "id": "290fa7e2-84b5-4d8d-860f-ddcc128b02d3",
   "metadata": {},
   "source": [
    "## Time Series Analysis"
   ]
  },
  {
   "cell_type": "code",
   "execution_count": 5,
   "id": "340d9d49-6b0b-4ef6-b5d9-95033c8077fb",
   "metadata": {},
   "outputs": [],
   "source": [
    "import pandas as pd\n",
    "import matplotlib.pyplot as plt\n",
    "%matplotlib inline"
   ]
  },
  {
   "cell_type": "code",
   "execution_count": 6,
   "id": "1729020d-2246-4515-a426-d9ca1e5106fc",
   "metadata": {},
   "outputs": [],
   "source": [
    "shampoo=pd.read_csv(\"//Users//motolanikay-salami//Downloads//Shampoo (2).csv\")"
   ]
  },
  {
   "cell_type": "code",
   "execution_count": 7,
   "id": "ffe9dda5-fd72-46af-b27f-9e5a2f5e3066",
   "metadata": {},
   "outputs": [
    {
     "data": {
      "text/html": [
       "<div>\n",
       "<style scoped>\n",
       "    .dataframe tbody tr th:only-of-type {\n",
       "        vertical-align: middle;\n",
       "    }\n",
       "\n",
       "    .dataframe tbody tr th {\n",
       "        vertical-align: top;\n",
       "    }\n",
       "\n",
       "    .dataframe thead th {\n",
       "        text-align: right;\n",
       "    }\n",
       "</style>\n",
       "<table border=\"1\" class=\"dataframe\">\n",
       "  <thead>\n",
       "    <tr style=\"text-align: right;\">\n",
       "      <th></th>\n",
       "      <th>Month</th>\n",
       "      <th>Sales</th>\n",
       "    </tr>\n",
       "  </thead>\n",
       "  <tbody>\n",
       "    <tr>\n",
       "      <th>0</th>\n",
       "      <td>1-01</td>\n",
       "      <td>266.0</td>\n",
       "    </tr>\n",
       "    <tr>\n",
       "      <th>1</th>\n",
       "      <td>1-02</td>\n",
       "      <td>145.9</td>\n",
       "    </tr>\n",
       "    <tr>\n",
       "      <th>2</th>\n",
       "      <td>1-03</td>\n",
       "      <td>183.1</td>\n",
       "    </tr>\n",
       "    <tr>\n",
       "      <th>3</th>\n",
       "      <td>1-04</td>\n",
       "      <td>119.3</td>\n",
       "    </tr>\n",
       "    <tr>\n",
       "      <th>4</th>\n",
       "      <td>1-05</td>\n",
       "      <td>180.3</td>\n",
       "    </tr>\n",
       "  </tbody>\n",
       "</table>\n",
       "</div>"
      ],
      "text/plain": [
       "  Month  Sales\n",
       "0  1-01  266.0\n",
       "1  1-02  145.9\n",
       "2  1-03  183.1\n",
       "3  1-04  119.3\n",
       "4  1-05  180.3"
      ]
     },
     "execution_count": 7,
     "metadata": {},
     "output_type": "execute_result"
    }
   ],
   "source": [
    "shampoo.head()"
   ]
  },
  {
   "cell_type": "code",
   "execution_count": 8,
   "id": "60f4d336-f2a0-4453-a861-2023afa73b45",
   "metadata": {},
   "outputs": [
    {
     "data": {
      "text/plain": [
       "pandas.core.frame.DataFrame"
      ]
     },
     "execution_count": 8,
     "metadata": {},
     "output_type": "execute_result"
    }
   ],
   "source": [
    "type(shampoo)"
   ]
  },
  {
   "cell_type": "code",
   "execution_count": 9,
   "id": "2427a472-2095-409d-8fe3-ce7f1a9eb796",
   "metadata": {},
   "outputs": [],
   "source": [
    "shampoo=pd.read_csv(\"//Users//motolanikay-salami//Downloads//Shampoo (2).csv\", index_col=[0], parse_dates=True, squeeze=True)"
   ]
  },
  {
   "cell_type": "code",
   "execution_count": 10,
   "id": "61e80ac0-0a2b-4afa-a535-70e18628ce19",
   "metadata": {},
   "outputs": [
    {
     "data": {
      "text/plain": [
       "pandas.core.series.Series"
      ]
     },
     "execution_count": 10,
     "metadata": {},
     "output_type": "execute_result"
    }
   ],
   "source": [
    "type(shampoo)"
   ]
  },
  {
   "cell_type": "code",
   "execution_count": 11,
   "id": "8e472bae-86f0-45d8-9b70-e2840c412f4b",
   "metadata": {},
   "outputs": [
    {
     "data": {
      "text/plain": [
       "<AxesSubplot:xlabel='Month'>"
      ]
     },
     "execution_count": 11,
     "metadata": {},
     "output_type": "execute_result"
    },
    {
     "data": {
      "image/png": "[encoded data removed]",
      "text/plain": [
       "<Figure size 432x288 with 1 Axes>"
      ]
     },
     "metadata": {
      "needs_background": "light"
     },
     "output_type": "display_data"
    }
   ],
   "source": [
    "shampoo.plot()"
   ]
  },
  {
   "cell_type": "code",
   "execution_count": 12,
   "id": "7ff38f60-9610-4bba-8bd9-1e5df285cfc6",
   "metadata": {},
   "outputs": [
    {
     "data": {
      "text/plain": [
       "<AxesSubplot:xlabel='Month'>"
      ]
     },
     "execution_count": 12,
     "metadata": {},
     "output_type": "execute_result"
    },
    {
     "data": {
      "image/png": "[encoded data removed]",
      "text/plain": [
       "<Figure size 432x288 with 1 Axes>"
      ]
     },
     "metadata": {
      "needs_background": "light"
     },
     "output_type": "display_data"
    }
   ],
   "source": [
    "shampoo.plot(style=\"k.\")"
   ]
  },
  {
   "cell_type": "code",
   "execution_count": 13,
   "id": "604f279e-0ad8-4af9-aa5e-d967ec1b2b27",
   "metadata": {},
   "outputs": [
    {
     "data": {
      "text/plain": [
       "36"
      ]
     },
     "execution_count": 13,
     "metadata": {},
     "output_type": "execute_result"
    }
   ],
   "source": [
    "shampoo.size"
   ]
  },
  {
   "cell_type": "code",
   "execution_count": 14,
   "id": "984e5beb-acba-401a-97d0-865015dc7ff7",
   "metadata": {},
   "outputs": [
    {
     "data": {
      "text/plain": [
       "count     36.000000\n",
       "mean     312.600000\n",
       "std      148.937164\n",
       "min      119.300000\n",
       "25%      192.450000\n",
       "50%      280.150000\n",
       "75%      411.100000\n",
       "max      682.000000\n",
       "Name: Sales, dtype: float64"
      ]
     },
     "execution_count": 14,
     "metadata": {},
     "output_type": "execute_result"
    }
   ],
   "source": [
    "shampoo.describe()"
   ]
  },
  {
   "cell_type": "code",
   "execution_count": 15,
   "id": "69354395-9c14-4456-bf99-b2a3c329288c",
   "metadata": {},
   "outputs": [],
   "source": [
    "shampoo_ma=shampoo.rolling(window=10).mean()"
   ]
  },
  {
   "cell_type": "code",
   "execution_count": 16,
   "id": "a6d4ee76-66a6-4c3e-9ab0-a15e86c6219b",
   "metadata": {},
   "outputs": [
    {
     "data": {
      "text/plain": [
       "<AxesSubplot:xlabel='Month'>"
      ]
     },
     "execution_count": 16,
     "metadata": {},
     "output_type": "execute_result"
    },
    {
     "data": {
      "image/png": "[encoded data removed]",
      "text/plain": [
       "<Figure size 432x288 with 1 Axes>"
      ]
     },
     "metadata": {
      "needs_background": "light"
     },
     "output_type": "display_data"
    }
   ],
   "source": [
    "shampoo_ma.plot()"
   ]
  },
  {
   "cell_type": "code",
   "execution_count": 17,
   "id": "8584c5c0-9666-4aa4-8eaa-46d95ccbf499",
   "metadata": {},
   "outputs": [
    {
     "data": {
      "text/plain": [
       "Month\n",
       "1-01    266.0\n",
       "1-02    145.9\n",
       "1-03    183.1\n",
       "1-04    119.3\n",
       "1-05    180.3\n",
       "1-06    168.5\n",
       "1-07    231.8\n",
       "1-08    224.5\n",
       "1-09    192.8\n",
       "1-10    122.9\n",
       "1-11    336.5\n",
       "1-12    185.9\n",
       "2-01    194.3\n",
       "2-02    149.5\n",
       "2-03    210.1\n",
       "2-04    273.3\n",
       "2-05    191.4\n",
       "2-06    287.0\n",
       "2-07    226.0\n",
       "2-08    303.6\n",
       "2-09    289.9\n",
       "2-10    421.6\n",
       "2-11    264.5\n",
       "2-12    342.3\n",
       "3-01    339.7\n",
       "3-02    440.4\n",
       "3-03    315.9\n",
       "3-04    439.3\n",
       "3-05    401.3\n",
       "3-06    437.4\n",
       "3-07    575.5\n",
       "3-08    407.6\n",
       "3-09    682.0\n",
       "3-10    475.3\n",
       "3-11    581.3\n",
       "3-12    646.9\n",
       "Name: Sales, dtype: float64"
      ]
     },
     "execution_count": 17,
     "metadata": {},
     "output_type": "execute_result"
    }
   ],
   "source": [
    "shampoo"
   ]
  },
  {
   "cell_type": "code",
   "execution_count": 18,
   "id": "ea603273-a1a7-431c-833f-124333152505",
   "metadata": {},
   "outputs": [],
   "source": [
    "shampoo_base=pd.concat([shampoo, shampoo.shift(1)],axis=1)"
   ]
  },
  {
   "cell_type": "code",
   "execution_count": 19,
   "id": "aabd0b3b-0435-4595-b863-9dab9b6a1573",
   "metadata": {},
   "outputs": [
    {
     "data": {
      "text/html": [
       "<div>\n",
       "<style scoped>\n",
       "    .dataframe tbody tr th:only-of-type {\n",
       "        vertical-align: middle;\n",
       "    }\n",
       "\n",
       "    .dataframe tbody tr th {\n",
       "        vertical-align: top;\n",
       "    }\n",
       "\n",
       "    .dataframe thead th {\n",
       "        text-align: right;\n",
       "    }\n",
       "</style>\n",
       "<table border=\"1\" class=\"dataframe\">\n",
       "  <thead>\n",
       "    <tr style=\"text-align: right;\">\n",
       "      <th></th>\n",
       "      <th>Sales</th>\n",
       "      <th>Sales</th>\n",
       "    </tr>\n",
       "    <tr>\n",
       "      <th>Month</th>\n",
       "      <th></th>\n",
       "      <th></th>\n",
       "    </tr>\n",
       "  </thead>\n",
       "  <tbody>\n",
       "    <tr>\n",
       "      <th>1-01</th>\n",
       "      <td>266.0</td>\n",
       "      <td>NaN</td>\n",
       "    </tr>\n",
       "    <tr>\n",
       "      <th>1-02</th>\n",
       "      <td>145.9</td>\n",
       "      <td>266.0</td>\n",
       "    </tr>\n",
       "    <tr>\n",
       "      <th>1-03</th>\n",
       "      <td>183.1</td>\n",
       "      <td>145.9</td>\n",
       "    </tr>\n",
       "    <tr>\n",
       "      <th>1-04</th>\n",
       "      <td>119.3</td>\n",
       "      <td>183.1</td>\n",
       "    </tr>\n",
       "    <tr>\n",
       "      <th>1-05</th>\n",
       "      <td>180.3</td>\n",
       "      <td>119.3</td>\n",
       "    </tr>\n",
       "    <tr>\n",
       "      <th>1-06</th>\n",
       "      <td>168.5</td>\n",
       "      <td>180.3</td>\n",
       "    </tr>\n",
       "    <tr>\n",
       "      <th>1-07</th>\n",
       "      <td>231.8</td>\n",
       "      <td>168.5</td>\n",
       "    </tr>\n",
       "    <tr>\n",
       "      <th>1-08</th>\n",
       "      <td>224.5</td>\n",
       "      <td>231.8</td>\n",
       "    </tr>\n",
       "    <tr>\n",
       "      <th>1-09</th>\n",
       "      <td>192.8</td>\n",
       "      <td>224.5</td>\n",
       "    </tr>\n",
       "    <tr>\n",
       "      <th>1-10</th>\n",
       "      <td>122.9</td>\n",
       "      <td>192.8</td>\n",
       "    </tr>\n",
       "    <tr>\n",
       "      <th>1-11</th>\n",
       "      <td>336.5</td>\n",
       "      <td>122.9</td>\n",
       "    </tr>\n",
       "    <tr>\n",
       "      <th>1-12</th>\n",
       "      <td>185.9</td>\n",
       "      <td>336.5</td>\n",
       "    </tr>\n",
       "    <tr>\n",
       "      <th>2-01</th>\n",
       "      <td>194.3</td>\n",
       "      <td>185.9</td>\n",
       "    </tr>\n",
       "    <tr>\n",
       "      <th>2-02</th>\n",
       "      <td>149.5</td>\n",
       "      <td>194.3</td>\n",
       "    </tr>\n",
       "    <tr>\n",
       "      <th>2-03</th>\n",
       "      <td>210.1</td>\n",
       "      <td>149.5</td>\n",
       "    </tr>\n",
       "    <tr>\n",
       "      <th>2-04</th>\n",
       "      <td>273.3</td>\n",
       "      <td>210.1</td>\n",
       "    </tr>\n",
       "    <tr>\n",
       "      <th>2-05</th>\n",
       "      <td>191.4</td>\n",
       "      <td>273.3</td>\n",
       "    </tr>\n",
       "    <tr>\n",
       "      <th>2-06</th>\n",
       "      <td>287.0</td>\n",
       "      <td>191.4</td>\n",
       "    </tr>\n",
       "    <tr>\n",
       "      <th>2-07</th>\n",
       "      <td>226.0</td>\n",
       "      <td>287.0</td>\n",
       "    </tr>\n",
       "    <tr>\n",
       "      <th>2-08</th>\n",
       "      <td>303.6</td>\n",
       "      <td>226.0</td>\n",
       "    </tr>\n",
       "    <tr>\n",
       "      <th>2-09</th>\n",
       "      <td>289.9</td>\n",
       "      <td>303.6</td>\n",
       "    </tr>\n",
       "    <tr>\n",
       "      <th>2-10</th>\n",
       "      <td>421.6</td>\n",
       "      <td>289.9</td>\n",
       "    </tr>\n",
       "    <tr>\n",
       "      <th>2-11</th>\n",
       "      <td>264.5</td>\n",
       "      <td>421.6</td>\n",
       "    </tr>\n",
       "    <tr>\n",
       "      <th>2-12</th>\n",
       "      <td>342.3</td>\n",
       "      <td>264.5</td>\n",
       "    </tr>\n",
       "    <tr>\n",
       "      <th>3-01</th>\n",
       "      <td>339.7</td>\n",
       "      <td>342.3</td>\n",
       "    </tr>\n",
       "    <tr>\n",
       "      <th>3-02</th>\n",
       "      <td>440.4</td>\n",
       "      <td>339.7</td>\n",
       "    </tr>\n",
       "    <tr>\n",
       "      <th>3-03</th>\n",
       "      <td>315.9</td>\n",
       "      <td>440.4</td>\n",
       "    </tr>\n",
       "    <tr>\n",
       "      <th>3-04</th>\n",
       "      <td>439.3</td>\n",
       "      <td>315.9</td>\n",
       "    </tr>\n",
       "    <tr>\n",
       "      <th>3-05</th>\n",
       "      <td>401.3</td>\n",
       "      <td>439.3</td>\n",
       "    </tr>\n",
       "    <tr>\n",
       "      <th>3-06</th>\n",
       "      <td>437.4</td>\n",
       "      <td>401.3</td>\n",
       "    </tr>\n",
       "    <tr>\n",
       "      <th>3-07</th>\n",
       "      <td>575.5</td>\n",
       "      <td>437.4</td>\n",
       "    </tr>\n",
       "    <tr>\n",
       "      <th>3-08</th>\n",
       "      <td>407.6</td>\n",
       "      <td>575.5</td>\n",
       "    </tr>\n",
       "    <tr>\n",
       "      <th>3-09</th>\n",
       "      <td>682.0</td>\n",
       "      <td>407.6</td>\n",
       "    </tr>\n",
       "    <tr>\n",
       "      <th>3-10</th>\n",
       "      <td>475.3</td>\n",
       "      <td>682.0</td>\n",
       "    </tr>\n",
       "    <tr>\n",
       "      <th>3-11</th>\n",
       "      <td>581.3</td>\n",
       "      <td>475.3</td>\n",
       "    </tr>\n",
       "    <tr>\n",
       "      <th>3-12</th>\n",
       "      <td>646.9</td>\n",
       "      <td>581.3</td>\n",
       "    </tr>\n",
       "  </tbody>\n",
       "</table>\n",
       "</div>"
      ],
      "text/plain": [
       "       Sales  Sales\n",
       "Month              \n",
       "1-01   266.0    NaN\n",
       "1-02   145.9  266.0\n",
       "1-03   183.1  145.9\n",
       "1-04   119.3  183.1\n",
       "1-05   180.3  119.3\n",
       "1-06   168.5  180.3\n",
       "1-07   231.8  168.5\n",
       "1-08   224.5  231.8\n",
       "1-09   192.8  224.5\n",
       "1-10   122.9  192.8\n",
       "1-11   336.5  122.9\n",
       "1-12   185.9  336.5\n",
       "2-01   194.3  185.9\n",
       "2-02   149.5  194.3\n",
       "2-03   210.1  149.5\n",
       "2-04   273.3  210.1\n",
       "2-05   191.4  273.3\n",
       "2-06   287.0  191.4\n",
       "2-07   226.0  287.0\n",
       "2-08   303.6  226.0\n",
       "2-09   289.9  303.6\n",
       "2-10   421.6  289.9\n",
       "2-11   264.5  421.6\n",
       "2-12   342.3  264.5\n",
       "3-01   339.7  342.3\n",
       "3-02   440.4  339.7\n",
       "3-03   315.9  440.4\n",
       "3-04   439.3  315.9\n",
       "3-05   401.3  439.3\n",
       "3-06   437.4  401.3\n",
       "3-07   575.5  437.4\n",
       "3-08   407.6  575.5\n",
       "3-09   682.0  407.6\n",
       "3-10   475.3  682.0\n",
       "3-11   581.3  475.3\n",
       "3-12   646.9  581.3"
      ]
     },
     "execution_count": 19,
     "metadata": {},
     "output_type": "execute_result"
    }
   ],
   "source": [
    "shampoo_base"
   ]
  },
  {
   "cell_type": "code",
   "execution_count": 20,
   "id": "a9fcef87-3183-413e-a871-5db8998afebd",
   "metadata": {},
   "outputs": [],
   "source": [
    "shampoo_base.columns=[\"Actual_Sales\", \"Forecast_Sales\"]"
   ]
  },
  {
   "cell_type": "code",
   "execution_count": 21,
   "id": "43eb6981-96ac-41f6-a977-16965eca35b5",
   "metadata": {},
   "outputs": [
    {
     "data": {
      "text/html": [
       "<div>\n",
       "<style scoped>\n",
       "    .dataframe tbody tr th:only-of-type {\n",
       "        vertical-align: middle;\n",
       "    }\n",
       "\n",
       "    .dataframe tbody tr th {\n",
       "        vertical-align: top;\n",
       "    }\n",
       "\n",
       "    .dataframe thead th {\n",
       "        text-align: right;\n",
       "    }\n",
       "</style>\n",
       "<table border=\"1\" class=\"dataframe\">\n",
       "  <thead>\n",
       "    <tr style=\"text-align: right;\">\n",
       "      <th></th>\n",
       "      <th>Actual_Sales</th>\n",
       "      <th>Forecast_Sales</th>\n",
       "    </tr>\n",
       "    <tr>\n",
       "      <th>Month</th>\n",
       "      <th></th>\n",
       "      <th></th>\n",
       "    </tr>\n",
       "  </thead>\n",
       "  <tbody>\n",
       "    <tr>\n",
       "      <th>1-01</th>\n",
       "      <td>266.0</td>\n",
       "      <td>NaN</td>\n",
       "    </tr>\n",
       "    <tr>\n",
       "      <th>1-02</th>\n",
       "      <td>145.9</td>\n",
       "      <td>266.0</td>\n",
       "    </tr>\n",
       "    <tr>\n",
       "      <th>1-03</th>\n",
       "      <td>183.1</td>\n",
       "      <td>145.9</td>\n",
       "    </tr>\n",
       "    <tr>\n",
       "      <th>1-04</th>\n",
       "      <td>119.3</td>\n",
       "      <td>183.1</td>\n",
       "    </tr>\n",
       "    <tr>\n",
       "      <th>1-05</th>\n",
       "      <td>180.3</td>\n",
       "      <td>119.3</td>\n",
       "    </tr>\n",
       "  </tbody>\n",
       "</table>\n",
       "</div>"
      ],
      "text/plain": [
       "       Actual_Sales  Forecast_Sales\n",
       "Month                              \n",
       "1-01          266.0             NaN\n",
       "1-02          145.9           266.0\n",
       "1-03          183.1           145.9\n",
       "1-04          119.3           183.1\n",
       "1-05          180.3           119.3"
      ]
     },
     "execution_count": 21,
     "metadata": {},
     "output_type": "execute_result"
    }
   ],
   "source": [
    "shampoo_base.head()"
   ]
  },
  {
   "cell_type": "code",
   "execution_count": 22,
   "id": "bf9de1b6-5540-43ac-8703-d04c7805f205",
   "metadata": {},
   "outputs": [],
   "source": [
    "shampoo_base.dropna(inplace=True)"
   ]
  },
  {
   "cell_type": "code",
   "execution_count": 23,
   "id": "6696fd33-0483-4ec4-bc9e-2add56ad9d1d",
   "metadata": {},
   "outputs": [
    {
     "data": {
      "text/html": [
       "<div>\n",
       "<style scoped>\n",
       "    .dataframe tbody tr th:only-of-type {\n",
       "        vertical-align: middle;\n",
       "    }\n",
       "\n",
       "    .dataframe tbody tr th {\n",
       "        vertical-align: top;\n",
       "    }\n",
       "\n",
       "    .dataframe thead th {\n",
       "        text-align: right;\n",
       "    }\n",
       "</style>\n",
       "<table border=\"1\" class=\"dataframe\">\n",
       "  <thead>\n",
       "    <tr style=\"text-align: right;\">\n",
       "      <th></th>\n",
       "      <th>Actual_Sales</th>\n",
       "      <th>Forecast_Sales</th>\n",
       "    </tr>\n",
       "    <tr>\n",
       "      <th>Month</th>\n",
       "      <th></th>\n",
       "      <th></th>\n",
       "    </tr>\n",
       "  </thead>\n",
       "  <tbody>\n",
       "    <tr>\n",
       "      <th>1-02</th>\n",
       "      <td>145.9</td>\n",
       "      <td>266.0</td>\n",
       "    </tr>\n",
       "    <tr>\n",
       "      <th>1-03</th>\n",
       "      <td>183.1</td>\n",
       "      <td>145.9</td>\n",
       "    </tr>\n",
       "    <tr>\n",
       "      <th>1-04</th>\n",
       "      <td>119.3</td>\n",
       "      <td>183.1</td>\n",
       "    </tr>\n",
       "    <tr>\n",
       "      <th>1-05</th>\n",
       "      <td>180.3</td>\n",
       "      <td>119.3</td>\n",
       "    </tr>\n",
       "    <tr>\n",
       "      <th>1-06</th>\n",
       "      <td>168.5</td>\n",
       "      <td>180.3</td>\n",
       "    </tr>\n",
       "    <tr>\n",
       "      <th>1-07</th>\n",
       "      <td>231.8</td>\n",
       "      <td>168.5</td>\n",
       "    </tr>\n",
       "    <tr>\n",
       "      <th>1-08</th>\n",
       "      <td>224.5</td>\n",
       "      <td>231.8</td>\n",
       "    </tr>\n",
       "    <tr>\n",
       "      <th>1-09</th>\n",
       "      <td>192.8</td>\n",
       "      <td>224.5</td>\n",
       "    </tr>\n",
       "    <tr>\n",
       "      <th>1-10</th>\n",
       "      <td>122.9</td>\n",
       "      <td>192.8</td>\n",
       "    </tr>\n",
       "    <tr>\n",
       "      <th>1-11</th>\n",
       "      <td>336.5</td>\n",
       "      <td>122.9</td>\n",
       "    </tr>\n",
       "    <tr>\n",
       "      <th>1-12</th>\n",
       "      <td>185.9</td>\n",
       "      <td>336.5</td>\n",
       "    </tr>\n",
       "    <tr>\n",
       "      <th>2-01</th>\n",
       "      <td>194.3</td>\n",
       "      <td>185.9</td>\n",
       "    </tr>\n",
       "    <tr>\n",
       "      <th>2-02</th>\n",
       "      <td>149.5</td>\n",
       "      <td>194.3</td>\n",
       "    </tr>\n",
       "    <tr>\n",
       "      <th>2-03</th>\n",
       "      <td>210.1</td>\n",
       "      <td>149.5</td>\n",
       "    </tr>\n",
       "    <tr>\n",
       "      <th>2-04</th>\n",
       "      <td>273.3</td>\n",
       "      <td>210.1</td>\n",
       "    </tr>\n",
       "    <tr>\n",
       "      <th>2-05</th>\n",
       "      <td>191.4</td>\n",
       "      <td>273.3</td>\n",
       "    </tr>\n",
       "    <tr>\n",
       "      <th>2-06</th>\n",
       "      <td>287.0</td>\n",
       "      <td>191.4</td>\n",
       "    </tr>\n",
       "    <tr>\n",
       "      <th>2-07</th>\n",
       "      <td>226.0</td>\n",
       "      <td>287.0</td>\n",
       "    </tr>\n",
       "    <tr>\n",
       "      <th>2-08</th>\n",
       "      <td>303.6</td>\n",
       "      <td>226.0</td>\n",
       "    </tr>\n",
       "    <tr>\n",
       "      <th>2-09</th>\n",
       "      <td>289.9</td>\n",
       "      <td>303.6</td>\n",
       "    </tr>\n",
       "    <tr>\n",
       "      <th>2-10</th>\n",
       "      <td>421.6</td>\n",
       "      <td>289.9</td>\n",
       "    </tr>\n",
       "    <tr>\n",
       "      <th>2-11</th>\n",
       "      <td>264.5</td>\n",
       "      <td>421.6</td>\n",
       "    </tr>\n",
       "    <tr>\n",
       "      <th>2-12</th>\n",
       "      <td>342.3</td>\n",
       "      <td>264.5</td>\n",
       "    </tr>\n",
       "    <tr>\n",
       "      <th>3-01</th>\n",
       "      <td>339.7</td>\n",
       "      <td>342.3</td>\n",
       "    </tr>\n",
       "    <tr>\n",
       "      <th>3-02</th>\n",
       "      <td>440.4</td>\n",
       "      <td>339.7</td>\n",
       "    </tr>\n",
       "    <tr>\n",
       "      <th>3-03</th>\n",
       "      <td>315.9</td>\n",
       "      <td>440.4</td>\n",
       "    </tr>\n",
       "    <tr>\n",
       "      <th>3-04</th>\n",
       "      <td>439.3</td>\n",
       "      <td>315.9</td>\n",
       "    </tr>\n",
       "    <tr>\n",
       "      <th>3-05</th>\n",
       "      <td>401.3</td>\n",
       "      <td>439.3</td>\n",
       "    </tr>\n",
       "    <tr>\n",
       "      <th>3-06</th>\n",
       "      <td>437.4</td>\n",
       "      <td>401.3</td>\n",
       "    </tr>\n",
       "    <tr>\n",
       "      <th>3-07</th>\n",
       "      <td>575.5</td>\n",
       "      <td>437.4</td>\n",
       "    </tr>\n",
       "    <tr>\n",
       "      <th>3-08</th>\n",
       "      <td>407.6</td>\n",
       "      <td>575.5</td>\n",
       "    </tr>\n",
       "    <tr>\n",
       "      <th>3-09</th>\n",
       "      <td>682.0</td>\n",
       "      <td>407.6</td>\n",
       "    </tr>\n",
       "    <tr>\n",
       "      <th>3-10</th>\n",
       "      <td>475.3</td>\n",
       "      <td>682.0</td>\n",
       "    </tr>\n",
       "    <tr>\n",
       "      <th>3-11</th>\n",
       "      <td>581.3</td>\n",
       "      <td>475.3</td>\n",
       "    </tr>\n",
       "    <tr>\n",
       "      <th>3-12</th>\n",
       "      <td>646.9</td>\n",
       "      <td>581.3</td>\n",
       "    </tr>\n",
       "  </tbody>\n",
       "</table>\n",
       "</div>"
      ],
      "text/plain": [
       "       Actual_Sales  Forecast_Sales\n",
       "Month                              \n",
       "1-02          145.9           266.0\n",
       "1-03          183.1           145.9\n",
       "1-04          119.3           183.1\n",
       "1-05          180.3           119.3\n",
       "1-06          168.5           180.3\n",
       "1-07          231.8           168.5\n",
       "1-08          224.5           231.8\n",
       "1-09          192.8           224.5\n",
       "1-10          122.9           192.8\n",
       "1-11          336.5           122.9\n",
       "1-12          185.9           336.5\n",
       "2-01          194.3           185.9\n",
       "2-02          149.5           194.3\n",
       "2-03          210.1           149.5\n",
       "2-04          273.3           210.1\n",
       "2-05          191.4           273.3\n",
       "2-06          287.0           191.4\n",
       "2-07          226.0           287.0\n",
       "2-08          303.6           226.0\n",
       "2-09          289.9           303.6\n",
       "2-10          421.6           289.9\n",
       "2-11          264.5           421.6\n",
       "2-12          342.3           264.5\n",
       "3-01          339.7           342.3\n",
       "3-02          440.4           339.7\n",
       "3-03          315.9           440.4\n",
       "3-04          439.3           315.9\n",
       "3-05          401.3           439.3\n",
       "3-06          437.4           401.3\n",
       "3-07          575.5           437.4\n",
       "3-08          407.6           575.5\n",
       "3-09          682.0           407.6\n",
       "3-10          475.3           682.0\n",
       "3-11          581.3           475.3\n",
       "3-12          646.9           581.3"
      ]
     },
     "execution_count": 23,
     "metadata": {},
     "output_type": "execute_result"
    }
   ],
   "source": [
    "shampoo_base"
   ]
  },
  {
   "cell_type": "code",
   "execution_count": 24,
   "id": "0815ef60-ff24-40dc-a417-9743acd878c1",
   "metadata": {},
   "outputs": [
    {
     "data": {
      "text/html": [
       "<div>\n",
       "<style scoped>\n",
       "    .dataframe tbody tr th:only-of-type {\n",
       "        vertical-align: middle;\n",
       "    }\n",
       "\n",
       "    .dataframe tbody tr th {\n",
       "        vertical-align: top;\n",
       "    }\n",
       "\n",
       "    .dataframe thead th {\n",
       "        text-align: right;\n",
       "    }\n",
       "</style>\n",
       "<table border=\"1\" class=\"dataframe\">\n",
       "  <thead>\n",
       "    <tr style=\"text-align: right;\">\n",
       "      <th></th>\n",
       "      <th>Actual_Sales</th>\n",
       "      <th>Forecast_Sales</th>\n",
       "    </tr>\n",
       "    <tr>\n",
       "      <th>Month</th>\n",
       "      <th></th>\n",
       "      <th></th>\n",
       "    </tr>\n",
       "  </thead>\n",
       "  <tbody>\n",
       "    <tr>\n",
       "      <th>1-02</th>\n",
       "      <td>145.9</td>\n",
       "      <td>266.0</td>\n",
       "    </tr>\n",
       "    <tr>\n",
       "      <th>1-03</th>\n",
       "      <td>183.1</td>\n",
       "      <td>145.9</td>\n",
       "    </tr>\n",
       "    <tr>\n",
       "      <th>1-04</th>\n",
       "      <td>119.3</td>\n",
       "      <td>183.1</td>\n",
       "    </tr>\n",
       "    <tr>\n",
       "      <th>1-05</th>\n",
       "      <td>180.3</td>\n",
       "      <td>119.3</td>\n",
       "    </tr>\n",
       "    <tr>\n",
       "      <th>1-06</th>\n",
       "      <td>168.5</td>\n",
       "      <td>180.3</td>\n",
       "    </tr>\n",
       "  </tbody>\n",
       "</table>\n",
       "</div>"
      ],
      "text/plain": [
       "       Actual_Sales  Forecast_Sales\n",
       "Month                              \n",
       "1-02          145.9           266.0\n",
       "1-03          183.1           145.9\n",
       "1-04          119.3           183.1\n",
       "1-05          180.3           119.3\n",
       "1-06          168.5           180.3"
      ]
     },
     "execution_count": 24,
     "metadata": {},
     "output_type": "execute_result"
    }
   ],
   "source": [
    "shampoo_base.head()"
   ]
  },
  {
   "cell_type": "code",
   "execution_count": 25,
   "id": "8c1efec1-3f26-49cf-bf95-e5717d7e64f9",
   "metadata": {},
   "outputs": [],
   "source": [
    "from sklearn.metrics import mean_squared_error\n",
    "import numpy as np"
   ]
  },
  {
   "cell_type": "code",
   "execution_count": 26,
   "id": "79701d31-d4d0-4755-ab7e-33bbe1763a55",
   "metadata": {},
   "outputs": [],
   "source": [
    "shampoo_error=mean_squared_error(shampoo_base.Actual_Sales,shampoo_base.Forecast_Sales)"
   ]
  },
  {
   "cell_type": "code",
   "execution_count": 27,
   "id": "50c33a7c-b0e4-4e4f-b1f0-cc25b85674b7",
   "metadata": {},
   "outputs": [
    {
     "data": {
      "text/plain": [
       "11715.388285714285"
      ]
     },
     "execution_count": 27,
     "metadata": {},
     "output_type": "execute_result"
    }
   ],
   "source": [
    "shampoo_error"
   ]
  },
  {
   "cell_type": "code",
   "execution_count": 28,
   "id": "0b9ba5d6-eec9-4b59-8e68-e6ee6c528537",
   "metadata": {},
   "outputs": [
    {
     "data": {
      "text/plain": [
       "108.23764726616282"
      ]
     },
     "execution_count": 28,
     "metadata": {},
     "output_type": "execute_result"
    }
   ],
   "source": [
    "np.sqrt(shampoo_error)"
   ]
  },
  {
   "cell_type": "code",
   "execution_count": 29,
   "id": "3f6478b2-3ac3-45fc-95d5-e6b456456b45",
   "metadata": {},
   "outputs": [],
   "source": [
    "from statsmodels.graphics.tsaplots import plot_acf, plot_pacf"
   ]
  },
  {
   "cell_type": "code",
   "execution_count": 30,
   "id": "1ffd4158-1263-4a24-b6bf-a87786a23bf3",
   "metadata": {},
   "outputs": [
    {
     "data": {
      "image/png": "[encoded data removed]",
      "text/plain": [
       "<Figure size 432x288 with 1 Axes>"
      ]
     },
     "execution_count": 30,
     "metadata": {},
     "output_type": "execute_result"
    },
    {
     "data": {
      "image/png": "[encoded data removed]",
      "text/plain": [
       "<Figure size 432x288 with 1 Axes>"
      ]
     },
     "metadata": {
      "needs_background": "light"
     },
     "output_type": "display_data"
    }
   ],
   "source": [
    "plot_acf(shampoo)"
   ]
  },
  {
   "cell_type": "code",
   "execution_count": 31,
   "id": "34bd80c2-1645-4db7-abdd-4a7fdd0b4b03",
   "metadata": {},
   "outputs": [
    {
     "data": {
      "image/png": "[encoded data removed]",
      "text/plain": [
       "<Figure size 432x288 with 1 Axes>"
      ]
     },
     "execution_count": 31,
     "metadata": {},
     "output_type": "execute_result"
    },
    {
     "data": {
      "image/png": "[encoded data removed]",
      "text/plain": [
       "<Figure size 432x288 with 1 Axes>"
      ]
     },
     "metadata": {
      "needs_background": "light"
     },
     "output_type": "display_data"
    }
   ],
   "source": [
    "#Q-3, p-2, d- 0-2\n",
    "plot_pacf(shampoo)"
   ]
  },
  {
   "cell_type": "code",
   "execution_count": 32,
   "id": "0e1a1d0d-e8d7-4bcb-8802-325cab699580",
   "metadata": {},
   "outputs": [],
   "source": [
    "import warnings\n",
    "warnings.filterwarnings('ignore')"
   ]
  },
  {
   "cell_type": "code",
   "execution_count": 33,
   "id": "ca618c19-0268-4a73-b289-c811c6c8e818",
   "metadata": {},
   "outputs": [],
   "source": [
    "from statsmodels.tsa.arima_model import ARIMA"
   ]
  },
  {
   "cell_type": "code",
   "execution_count": 34,
   "id": "feed152e-9aa3-4bd8-a312-0b327d4b7f93",
   "metadata": {},
   "outputs": [],
   "source": [
    "shampoo_train=shampoo[0:25]\n",
    "shampoo_test=shampoo[25:36]"
   ]
  },
  {
   "cell_type": "code",
   "execution_count": 35,
   "id": "23628f8a-bdce-4cb3-81bf-83cf8c51a7aa",
   "metadata": {},
   "outputs": [],
   "source": [
    "shampoo_model=ARIMA(shampoo_train, order=(3,1,2))"
   ]
  },
  {
   "cell_type": "code",
   "execution_count": 36,
   "id": "969afce9-a3ac-4653-9a3e-f4495b8d5bc1",
   "metadata": {},
   "outputs": [
    {
     "name": "stdout",
     "output_type": "stream",
     "text": [
      "RUNNING THE L-BFGS-B CODE\n",
      "\n",
      "           * * *\n",
      "\n",
      "Machine precision = 2.220D-16\n",
      " N =            6     M =           12\n",
      "\n",
      "At X0         0 variables are exactly at the bounds\n",
      "\n",
      "At iterate    0    f=  5.42230D+00    |proj g|=  2.77648D-01\n",
      "\n",
      "At iterate    5    f=  5.38623D+00    |proj g|=  2.43860D-02\n",
      "\n",
      "At iterate   10    f=  5.38353D+00    |proj g|=  1.49036D-03\n",
      "\n",
      "At iterate   15    f=  5.38328D+00    |proj g|=  1.51955D-02\n",
      "\n",
      "At iterate   20    f=  5.38311D+00    |proj g|=  1.09868D-04\n",
      "\n",
      "At iterate   25    f=  5.38311D+00    |proj g|=  7.10543D-07\n",
      "\n",
      "           * * *\n",
      "\n",
      "Tit   = total number of iterations\n",
      "Tnf   = total number of function evaluations\n",
      "Tnint = total number of segments explored during Cauchy searches\n",
      "Skip  = number of BFGS updates skipped\n",
      "Nact  = number of active bounds at final generalized Cauchy point\n",
      "Projg = norm of the final projected gradient\n",
      "F     = final function value\n",
      "\n",
      "           * * *\n",
      "\n",
      "   N    Tit     Tnf  Tnint  Skip  Nact     Projg        F\n",
      "    6     27     33      1     0     0   5.329D-07   5.383D+00\n",
      "  F =   5.3831082251484519     \n",
      "\n",
      "CONVERGENCE: REL_REDUCTION_OF_F_<=_FACTR*EPSMCH             \n"
     ]
    },
    {
     "name": "stderr",
     "output_type": "stream",
     "text": [
      " This problem is unconstrained.\n"
     ]
    }
   ],
   "source": [
    "shampoo_model_fit= shampoo_model.fit()"
   ]
  },
  {
   "cell_type": "code",
   "execution_count": 37,
   "id": "d7c22488-05df-4dd2-a849-8da11054582d",
   "metadata": {},
   "outputs": [
    {
     "data": {
      "text/plain": [
       "272.3891948071257"
      ]
     },
     "execution_count": 37,
     "metadata": {},
     "output_type": "execute_result"
    }
   ],
   "source": [
    "shampoo_model_fit.aic"
   ]
  },
  {
   "cell_type": "code",
   "execution_count": 38,
   "id": "00a4b4ac-3499-45fc-8abb-af935b6bf2a9",
   "metadata": {},
   "outputs": [],
   "source": [
    "shampoo_forecast=shampoo_model_fit.forecast(steps=11)[0]"
   ]
  },
  {
   "cell_type": "code",
   "execution_count": 39,
   "id": "b88660be-e7e8-4716-af39-ffec49590e4a",
   "metadata": {},
   "outputs": [
    {
     "data": {
      "text/plain": [
       "130.92709589724467"
      ]
     },
     "execution_count": 39,
     "metadata": {},
     "output_type": "execute_result"
    }
   ],
   "source": [
    "np.sqrt(mean_squared_error(shampoo_test, shampoo_forecast))"
   ]
  },
  {
   "cell_type": "code",
   "execution_count": 40,
   "id": "bc580bfb-939d-46ca-90bb-e39de9b30efb",
   "metadata": {},
   "outputs": [],
   "source": [
    "p_values=range(0,5)\n",
    "d_values=range(0,3)\n",
    "q_values=range(0,5)"
   ]
  },
  {
   "cell_type": "code",
   "execution_count": 41,
   "id": "eb0769bf-762d-4f94-8254-ac8d6fa28129",
   "metadata": {},
   "outputs": [
    {
     "name": "stdout",
     "output_type": "stream",
     "text": [
      "ARIMA(0, 0, 0) RMSE = 77950.15\n",
      "ARIMA(0, 0, 1) RMSE = 70119.47\n",
      "ARIMA(0, 0, 2) RMSE = 58566.44\n",
      "ARIMA(0, 0, 3) RMSE = 62031.20\n",
      "ARIMA(0, 0, 4) RMSE = 30922.47\n",
      "ARIMA(0, 1, 0) RMSE = 33849.87\n",
      "ARIMA(0, 1, 1) RMSE = 40653.60\n",
      "ARIMA(0, 1, 2) RMSE = 34511.76\n",
      "ARIMA(0, 1, 3) RMSE = 41466.78\n",
      "ARIMA(0, 1, 4) RMSE = 14452.73\n",
      "ARIMA(0, 2, 0) RMSE = 34017.03\n",
      "ARIMA(0, 2, 1) RMSE = 28392.33\n",
      "ARIMA(0, 2, 2) RMSE = 24223.62\n",
      "ARIMA(0, 2, 3) RMSE = 23028.66\n",
      "ARIMA(1, 0, 0) RMSE = 61158.66\n",
      "ARIMA(1, 0, 1) RMSE = 46528.90\n",
      "ARIMA(1, 0, 2) RMSE = 43922.06\n",
      "ARIMA(1, 0, 3) RMSE = 34856.58\n",
      "ARIMA(1, 0, 4) RMSE = 25186.16\n",
      "ARIMA(1, 1, 0) RMSE = 31687.08\n",
      "ARIMA(1, 1, 1) RMSE = 42176.67\n",
      "ARIMA(1, 2, 0) RMSE = 18845.84\n",
      "ARIMA(1, 2, 1) RMSE = 26129.53\n",
      "ARIMA(2, 0, 0) RMSE = 45248.33\n",
      "ARIMA(2, 0, 1) RMSE = 31563.55\n",
      "ARIMA(2, 0, 3) RMSE = 36416.72\n",
      "ARIMA(2, 0, 4) RMSE = 26924.22\n",
      "ARIMA(2, 1, 0) RMSE = 35488.30\n",
      "ARIMA(2, 1, 1) RMSE = 39633.95\n",
      "ARIMA(2, 1, 2) RMSE = 35884.80\n",
      "ARIMA(2, 2, 0) RMSE = 34024.26\n",
      "ARIMA(3, 0, 0) RMSE = 46326.64\n",
      "ARIMA(3, 1, 0) RMSE = 22024.85\n",
      "ARIMA(3, 1, 1) RMSE = 22841.65\n",
      "ARIMA(3, 1, 2) RMSE = 18095.37\n",
      "ARIMA(3, 1, 4) RMSE = 37610.98\n",
      "ARIMA(3, 2, 0) RMSE = 24695.26\n",
      "ARIMA(3, 2, 1) RMSE = 16368.69\n",
      "ARIMA(3, 2, 2) RMSE = 15804.23\n",
      "ARIMA(3, 2, 3) RMSE = 14492.27\n",
      "ARIMA(4, 0, 0) RMSE = 33233.05\n",
      "ARIMA(4, 0, 1) RMSE = 33240.70\n",
      "ARIMA(4, 1, 0) RMSE = 22339.39\n",
      "ARIMA(4, 1, 1) RMSE = 22615.97\n",
      "ARIMA(4, 1, 2) RMSE = 19179.66\n",
      "ARIMA(4, 1, 3) RMSE = 20601.63\n",
      "ARIMA(4, 1, 4) RMSE = 19303.93\n",
      "ARIMA(4, 2, 0) RMSE = 20052.25\n",
      "ARIMA(4, 2, 1) RMSE = 15572.78\n",
      "ARIMA(4, 2, 2) RMSE = 17541.46\n",
      "ARIMA(4, 2, 3) RMSE = 16154.18\n"
     ]
    }
   ],
   "source": [
    "for p in p_values:\n",
    "    for d in d_values:\n",
    "        for q in q_values:\n",
    "            order=(p,d,q)\n",
    "            train,test=shampoo[0:25], shampoo[25:36]\n",
    "            predictions=list()\n",
    "            for i in range(len(test)):\n",
    "                try:\n",
    "                    model=ARIMA(train, order)\n",
    "                    model_fit=model.fit(disp=0)\n",
    "                    pred_y=model_fit.forecast()[0]\n",
    "                    predictions.append(pred_y)\n",
    "                    error=mean_squared_error(test, predictions)\n",
    "                    print('ARIMA%s RMSE = %.2f'% (order,error))\n",
    "                except:\n",
    "                    continue"
   ]
  },
  {
   "cell_type": "code",
   "execution_count": null,
   "id": "445018ae-4fce-490c-800c-f056b38ec244",
   "metadata": {},
   "outputs": [],
   "source": []
  },
  {
   "cell_type": "code",
   "execution_count": null,
   "id": "97a5bdd1-9ff6-4c0c-9821-aa92f0345215",
   "metadata": {},
   "outputs": [],
   "source": []
  }
 ],
 "metadata": {
  "kernelspec": {
   "display_name": "Python 3 (ipykernel)",
   "language": "python",
   "name": "python3"
  },
  "language_info": {
   "codemirror_mode": {
    "name": "ipython",
    "version": 3
   },
   "file_extension": ".py",
   "mimetype": "text/x-python",
   "name": "python",
   "nbconvert_exporter": "python",
   "pygments_lexer": "ipython3",
   "version": "3.9.7"
  }
 },
 "nbformat": 4,
 "nbformat_minor": 5
}
