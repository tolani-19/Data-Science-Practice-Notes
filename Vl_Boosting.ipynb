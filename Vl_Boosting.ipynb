{
 "cells": [
  {
   "cell_type": "markdown",
   "id": "e16a3720-f70c-4b57-b8ec-c1f6a98d1d20",
   "metadata": {},
   "source": [
    "### Boosting"
   ]
  },
  {
   "cell_type": "markdown",
   "id": "cf226295-ed23-47b4-85df-f1ae60fab3fe",
   "metadata": {},
   "source": [
    "##### Boosting is the process that uses a set of Machine Learning algorithm to combine weak learners to form strong learners in order to increase the accuracy of the model"
   ]
  },
  {
   "cell_type": "markdown",
   "id": "4255f912-8ce9-432c-bb82-8a13eb782d29",
   "metadata": {},
   "source": [
    "##### Ensemble Learning: it is a method used to enchance the performance of Machine Learning model by combining several learners. When compared to a single model, this type of learning builds model with improved efficiency and accuracy\n",
    "##### Types of Ensemble learning\n",
    "##### - Bagging-Parallel\n",
    "##### - Boosting-Sequential"
   ]
  },
  {
   "cell_type": "markdown",
   "id": "222a207f-d11b-471f-b7ae-d217724a4592",
   "metadata": {},
   "source": [
    "##### Types of Boosting\n",
    "##### Adaptive Boosting\n",
    "##### Gradient Boosting\n",
    "##### XG Boosting"
   ]
  },
  {
   "cell_type": "code",
   "execution_count": 4,
   "id": "ae03a27f-9bf3-4787-b7a2-49e4f1db28de",
   "metadata": {},
   "outputs": [],
   "source": [
    "from sklearn.ensemble import AdaBoostClassifier\n",
    "from sklearn.preprocessing import LabelEncoder\n",
    "from sklearn.tree import DecisionTreeClassifier\n",
    "import pandas as pd"
   ]
  },
  {
   "cell_type": "code",
   "execution_count": 5,
   "id": "9b5e4c1a-f4f7-49b0-93a8-5b18bb3b966a",
   "metadata": {},
   "outputs": [],
   "source": [
    "#Import train_test_split  function\n",
    "from sklearn.model_selection import train_test_split"
   ]
  },
  {
   "cell_type": "code",
   "execution_count": 7,
   "id": "8f4380de-24de-411e-a9e1-9ed11243f236",
   "metadata": {},
   "outputs": [],
   "source": [
    "# Import scikit-learn metrics for accuracy calculation\n",
    "from sklearn import metrics"
   ]
  },
  {
   "cell_type": "code",
   "execution_count": 13,
   "id": "347f5685-423b-476f-b812-4eb55cc54672",
   "metadata": {},
   "outputs": [],
   "source": [
    "# Load the data and define the colum labels\n",
    "dataset=pd.read_csv(\"//Users//motolanikay-salami//Downloads//mushrooms.csv\")\n",
    "dataset=dataset.sample(frac=1)\n",
    "dataset.columns=[\"target\", \"cap-shape\", \"cap-surface\", \"cap-color\", \"bruises\", \"odor\", \"gill-attachment\", \"gill-spacing\", \"gill-size\", \"gill-color\", \"stalk-shape\", \"stalk-root\", \"stalk-surface-above-ring\", \"stalk-surface-below-ring\",\"stalk-color-above-ring\", \"stalk-color-below-ring\", \"veil-type\", \"veil-color\", \"ring-number\", \"ring-type\", \"spore-print-color\", \"population\", \"habitat\"]\n",
    "for label in dataset.columns:\n",
    "    dataset[label]=LabelEncoder().fit(dataset[label]).transform(dataset[label])"
   ]
  },
  {
   "cell_type": "code",
   "execution_count": 14,
   "id": "9f078758-8619-43a2-a0d3-f40eaac89bc2",
   "metadata": {},
   "outputs": [
    {
     "name": "stdout",
     "output_type": "stream",
     "text": [
      "<class 'pandas.core.frame.DataFrame'>\n",
      "Int64Index: 8124 entries, 7940 to 3538\n",
      "Data columns (total 23 columns):\n",
      " #   Column                    Non-Null Count  Dtype\n",
      "---  ------                    --------------  -----\n",
      " 0   target                    8124 non-null   int64\n",
      " 1   cap-shape                 8124 non-null   int64\n",
      " 2   cap-surface               8124 non-null   int64\n",
      " 3   cap-color                 8124 non-null   int64\n",
      " 4   bruises                   8124 non-null   int64\n",
      " 5   odor                      8124 non-null   int64\n",
      " 6   gill-attachment           8124 non-null   int64\n",
      " 7   gill-spacing              8124 non-null   int64\n",
      " 8   gill-size                 8124 non-null   int64\n",
      " 9   gill-color                8124 non-null   int64\n",
      " 10  stalk-shape               8124 non-null   int64\n",
      " 11  stalk-root                8124 non-null   int64\n",
      " 12  stalk-surface-above-ring  8124 non-null   int64\n",
      " 13  stalk-surface-below-ring  8124 non-null   int64\n",
      " 14  stalk-color-above-ring    8124 non-null   int64\n",
      " 15  stalk-color-below-ring    8124 non-null   int64\n",
      " 16  veil-type                 8124 non-null   int64\n",
      " 17  veil-color                8124 non-null   int64\n",
      " 18  ring-number               8124 non-null   int64\n",
      " 19  ring-type                 8124 non-null   int64\n",
      " 20  spore-print-color         8124 non-null   int64\n",
      " 21  population                8124 non-null   int64\n",
      " 22  habitat                   8124 non-null   int64\n",
      "dtypes: int64(23)\n",
      "memory usage: 1.5 MB\n",
      "None\n"
     ]
    }
   ],
   "source": [
    "print(dataset.info())"
   ]
  },
  {
   "cell_type": "code",
   "execution_count": 15,
   "id": "00e1f959-6ea7-4b86-bdb4-0d72492af62a",
   "metadata": {},
   "outputs": [],
   "source": [
    "X=dataset.drop([\"target\"], axis=1)\n",
    "Y=dataset[\"target\"]               "
   ]
  },
  {
   "cell_type": "code",
   "execution_count": 16,
   "id": "85bcb752-5ebb-43fe-85ab-3f4210a7cbbf",
   "metadata": {},
   "outputs": [],
   "source": [
    "X_train, X_test, Y_train, Y_test=train_test_split(X, Y, test_size=0.3)\n",
    "model= DecisionTreeClassifier(criterion=\"entropy\", max_depth=1)\n",
    "AdaBoost= AdaBoostClassifier(base_estimator=model, n_estimators=400, learning_rate=1)\n",
    "#AdaBoost= AdaBoostClassifier(n_estimators=400, learning_rate=1, algorithm=\"SAMME\"\n",
    "boostmodel=AdaBoost.fit(X_train, Y_train)"
   ]
  },
  {
   "cell_type": "code",
   "execution_count": 17,
   "id": "27f05cd3-c6e5-43d6-8cf2-ccea29749c50",
   "metadata": {},
   "outputs": [],
   "source": [
    "y_pred=boostmodel.predict(X_test)"
   ]
  },
  {
   "cell_type": "code",
   "execution_count": 18,
   "id": "86d4673a-efc0-46c7-9b0a-d538b57c8c33",
   "metadata": {},
   "outputs": [],
   "source": [
    "predictions=metrics.accuracy_score(Y_test, y_pred)"
   ]
  },
  {
   "cell_type": "code",
   "execution_count": 19,
   "id": "48bc1928-7e05-432a-9c2f-f623fba223d7",
   "metadata": {},
   "outputs": [],
   "source": [
    "prediction=AdaBoost.score(X_test, Y_test)"
   ]
  },
  {
   "cell_type": "code",
   "execution_count": 21,
   "id": "bc21f07e-e59e-4012-82f7-aa8d75db0d3d",
   "metadata": {},
   "outputs": [
    {
     "name": "stdout",
     "output_type": "stream",
     "text": [
      "The accuracy is:  100.0 %\n"
     ]
    }
   ],
   "source": [
    "print(\"The accuracy is: \", predictions * 100, \"%\")"
   ]
  },
  {
   "cell_type": "code",
   "execution_count": null,
   "id": "5b5b06f3-52ae-4c08-bbbe-faf4adee48d3",
   "metadata": {},
   "outputs": [],
   "source": []
  }
 ],
 "metadata": {
  "kernelspec": {
   "display_name": "Python 3 (ipykernel)",
   "language": "python",
   "name": "python3"
  },
  "language_info": {
   "codemirror_mode": {
    "name": "ipython",
    "version": 3
   },
   "file_extension": ".py",
   "mimetype": "text/x-python",
   "name": "python",
   "nbconvert_exporter": "python",
   "pygments_lexer": "ipython3",
   "version": "3.9.7"
  }
 },
 "nbformat": 4,
 "nbformat_minor": 5
}
