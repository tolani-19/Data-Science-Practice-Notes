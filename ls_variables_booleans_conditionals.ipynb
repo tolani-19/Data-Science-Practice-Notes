{
 "cells": [
  {
   "cell_type": "markdown",
   "id": "f970ea18-af4f-4198-aa0a-5c752b0f74c3",
   "metadata": {},
   "source": [
    "# Variables,Booleans and conditionals"
   ]
  },
  {
   "cell_type": "markdown",
   "id": "ca33602d-8ed3-49cc-b846-0f399cb3cce2",
   "metadata": {},
   "source": [
    "# Python Fundamentals"
   ]
  },
  {
   "cell_type": "markdown",
   "id": "8df87741-d782-425c-bd7e-2c79e930afc1",
   "metadata": {},
   "source": [
    "# Variables"
   ]
  },
  {
   "cell_type": "markdown",
   "id": "294ae597-098c-4970-9d0c-53c113a998a2",
   "metadata": {},
   "source": [
    "- ### Python can perform arithmetic calculation"
   ]
  },
  {
   "cell_type": "code",
   "execution_count": null,
   "id": "9d9d801b-f0d4-4429-8aba-6c35a0510a10",
   "metadata": {},
   "outputs": [],
   "source": [
    "x=2"
   ]
  },
  {
   "cell_type": "code",
   "execution_count": 14,
   "id": "7159fc12-877e-433e-bce6-cb6431e4ec30",
   "metadata": {},
   "outputs": [
    {
     "data": {
      "text/plain": [
       "5"
      ]
     },
     "execution_count": 14,
     "metadata": {},
     "output_type": "execute_result"
    }
   ],
   "source": [
    "x= 8 - 3\n",
    "x"
   ]
  },
  {
   "cell_type": "code",
   "execution_count": 10,
   "id": "4d0f607a-270e-4ca1-a437-e9f856aeed89",
   "metadata": {},
   "outputs": [
    {
     "name": "stdout",
     "output_type": "stream",
     "text": [
      "20\n"
     ]
    }
   ],
   "source": [
    "X= x*4\n",
    "print(X)"
   ]
  },
  {
   "cell_type": "code",
   "execution_count": 15,
   "id": "83a8dbcc-9f7d-4089-a2a5-969d9e764860",
   "metadata": {},
   "outputs": [
    {
     "name": "stdout",
     "output_type": "stream",
     "text": [
      "4\n"
     ]
    }
   ],
   "source": [
    "xx= 2\n",
    "xx= xx+ 2\n",
    "print(xx)"
   ]
  },
  {
   "cell_type": "code",
   "execution_count": 16,
   "id": "d31ec80a-c81e-4552-ac11-cdcd607af057",
   "metadata": {},
   "outputs": [
    {
     "name": "stdout",
     "output_type": "stream",
     "text": [
      "5280\n"
     ]
    }
   ],
   "source": [
    "yy= 440 * 12\n",
    "print(yy)"
   ]
  },
  {
   "cell_type": "code",
   "execution_count": 18,
   "id": "2a8acae5-bde6-4e5f-b01a-277c1af6ee9b",
   "metadata": {},
   "outputs": [
    {
     "name": "stdout",
     "output_type": "stream",
     "text": [
      "5.28\n"
     ]
    }
   ],
   "source": [
    "zz= yy / 1000\n",
    "print(zz)"
   ]
  },
  {
   "cell_type": "code",
   "execution_count": 23,
   "id": "d3d18e7b-a6ee-4260-b1f8-d320ecb3d923",
   "metadata": {},
   "outputs": [
    {
     "name": "stdout",
     "output_type": "stream",
     "text": [
      "tolani oyinkan\n"
     ]
    },
    {
     "data": {
      "text/plain": [
       "str"
      ]
     },
     "execution_count": 23,
     "metadata": {},
     "output_type": "execute_result"
    }
   ],
   "source": [
    "eee= \"tolani \" + \"oyinkan\"\n",
    "print(eee)\n",
    "type(eee)"
   ]
  },
  {
   "cell_type": "code",
   "execution_count": 24,
   "id": "781171a6-1acf-42f5-b42d-f73da29cff5a",
   "metadata": {},
   "outputs": [
    {
     "data": {
      "text/plain": [
       "int"
      ]
     },
     "execution_count": 24,
     "metadata": {},
     "output_type": "execute_result"
    }
   ],
   "source": [
    "bbb= 1\n",
    "type(bbb)"
   ]
  },
  {
   "cell_type": "code",
   "execution_count": 25,
   "id": "b7481116-76e4-427d-ad1e-50dbe1b4ab4e",
   "metadata": {},
   "outputs": [
    {
     "data": {
      "text/plain": [
       "99.0"
      ]
     },
     "execution_count": 25,
     "metadata": {},
     "output_type": "execute_result"
    }
   ],
   "source": [
    "float(99)"
   ]
  },
  {
   "cell_type": "code",
   "execution_count": 26,
   "id": "893b064c-6a01-4ddb-8fb0-b0cf0c33efd4",
   "metadata": {},
   "outputs": [
    {
     "name": "stdin",
     "output_type": "stream",
     "text": [
      "who are you?  chucks\n"
     ]
    }
   ],
   "source": [
    "nam=input( \"who are you? \")"
   ]
  },
  {
   "cell_type": "code",
   "execution_count": 27,
   "id": "266cbeed-c7c4-4309-9e8e-3bf57965de2e",
   "metadata": {},
   "outputs": [
    {
     "name": "stdout",
     "output_type": "stream",
     "text": [
      "welcome chucks\n"
     ]
    }
   ],
   "source": [
    "print( \"welcome\",nam)"
   ]
  },
  {
   "cell_type": "code",
   "execution_count": 30,
   "id": "5914fa49-e35c-4a4f-ae1b-ff00c73f7fc9",
   "metadata": {},
   "outputs": [
    {
     "name": "stdin",
     "output_type": "stream",
     "text": [
      "how old are you?  17\n"
     ]
    }
   ],
   "source": [
    "age=input( \"how old are you? \")"
   ]
  },
  {
   "cell_type": "code",
   "execution_count": 31,
   "id": "d2453fc3-ae23-4a91-bb1d-bb048fa7f68a",
   "metadata": {},
   "outputs": [
    {
     "name": "stdout",
     "output_type": "stream",
     "text": [
      "tolani is 17\n"
     ]
    }
   ],
   "source": [
    "print(\"tolani is\", age )"
   ]
  },
  {
   "cell_type": "code",
   "execution_count": 33,
   "id": "78ff767a-637e-42fc-9bf6-c71abce5a45f",
   "metadata": {},
   "outputs": [
    {
     "name": "stdout",
     "output_type": "stream",
     "text": [
      "8\n"
     ]
    }
   ],
   "source": [
    "x= 5+3\n",
    "print(x)"
   ]
  },
  {
   "cell_type": "code",
   "execution_count": null,
   "id": "cd9db2e4-e31f-4a64-b1a3-d521d1b45937",
   "metadata": {},
   "outputs": [],
   "source": [
    "var1= \"its sunday\"\n",
    "var2= \"have a great day\""
   ]
  },
  {
   "cell_type": "code",
   "execution_count": 38,
   "id": "973c0632-caf4-4540-89e6-491935da8df5",
   "metadata": {},
   "outputs": [],
   "source": [
    "x=4\n",
    "y=2"
   ]
  },
  {
   "cell_type": "code",
   "execution_count": 42,
   "id": "743e251c-e5b7-40af-b0c7-3df00c20ed23",
   "metadata": {},
   "outputs": [
    {
     "name": "stdout",
     "output_type": "stream",
     "text": [
      "2.0\n"
     ]
    }
   ],
   "source": [
    "result=x/y\n",
    "print(result)"
   ]
  },
  {
   "cell_type": "code",
   "execution_count": 43,
   "id": "15732dce-4d5b-4243-a684-55bb2d2efa8a",
   "metadata": {},
   "outputs": [
    {
     "name": "stdout",
     "output_type": "stream",
     "text": [
      "2\n"
     ]
    }
   ],
   "source": [
    "result= x//y\n",
    "print(result)"
   ]
  },
  {
   "cell_type": "code",
   "execution_count": 46,
   "id": "b3ddd171-f2ff-44f6-9117-32acfe262d62",
   "metadata": {},
   "outputs": [],
   "source": [
    "exam= \"iloveice-cream\""
   ]
  },
  {
   "cell_type": "code",
   "execution_count": 47,
   "id": "ee75ef63-93d4-4d5f-8121-2aa70857c942",
   "metadata": {},
   "outputs": [
    {
     "name": "stdout",
     "output_type": "stream",
     "text": [
      "i\n"
     ]
    }
   ],
   "source": [
    "print(exam[0])"
   ]
  },
  {
   "cell_type": "code",
   "execution_count": 48,
   "id": "f54a9c49-5252-439c-8809-4e6838b3e4dc",
   "metadata": {},
   "outputs": [
    {
     "name": "stdout",
     "output_type": "stream",
     "text": [
      "ilove\n"
     ]
    }
   ],
   "source": [
    "print(exam[0:5])"
   ]
  },
  {
   "cell_type": "code",
   "execution_count": 49,
   "id": "458b7115-ebc3-4238-9b1c-b2b304973473",
   "metadata": {},
   "outputs": [
    {
     "data": {
      "text/plain": [
       "14"
      ]
     },
     "execution_count": 49,
     "metadata": {},
     "output_type": "execute_result"
    }
   ],
   "source": [
    "len(exam)"
   ]
  },
  {
   "cell_type": "code",
   "execution_count": 57,
   "id": "2cf64a18-1c4f-4b73-adca-ac3f90aa6796",
   "metadata": {},
   "outputs": [],
   "source": [
    "var3= \"at the man \"\n",
    "var4= \"look there\""
   ]
  },
  {
   "cell_type": "code",
   "execution_count": 60,
   "id": "98089365-5f93-4afd-9b77-46451cd503f4",
   "metadata": {},
   "outputs": [
    {
     "name": "stdout",
     "output_type": "stream",
     "text": [
      "the man there\n"
     ]
    }
   ],
   "source": [
    "var5= var3[3:11] + var4[5:10]\n",
    "print(var5)"
   ]
  },
  {
   "cell_type": "code",
   "execution_count": 61,
   "id": "76911e10-fba7-4f97-b2df-f076725124f8",
   "metadata": {},
   "outputs": [],
   "source": [
    "b=2"
   ]
  },
  {
   "cell_type": "code",
   "execution_count": 62,
   "id": "36dd44b0-e632-4d49-8fba-7929c80d03c3",
   "metadata": {},
   "outputs": [],
   "source": [
    "j=7.5"
   ]
  },
  {
   "cell_type": "code",
   "execution_count": 63,
   "id": "4bf563ba-8186-4b7c-a50c-23e83efe075b",
   "metadata": {},
   "outputs": [],
   "source": [
    "o= \"dog\""
   ]
  },
  {
   "cell_type": "code",
   "execution_count": 64,
   "id": "6b6d4ba3-e3b3-4a78-b876-106a5422f8c0",
   "metadata": {},
   "outputs": [],
   "source": [
    "k= [5,7,8]"
   ]
  },
  {
   "cell_type": "code",
   "execution_count": 65,
   "id": "daa33c1d-d028-46c2-b2ab-521fa2b7498e",
   "metadata": {},
   "outputs": [],
   "source": [
    "y= (3,9,10)"
   ]
  },
  {
   "cell_type": "code",
   "execution_count": 66,
   "id": "c0421945-1cb7-4988-bce7-799cb9603fc0",
   "metadata": {},
   "outputs": [],
   "source": [
    "k[1]=5"
   ]
  },
  {
   "cell_type": "code",
   "execution_count": 67,
   "id": "b73ff4a6-6d20-4a87-9cf9-83e102605ead",
   "metadata": {},
   "outputs": [
    {
     "name": "stdout",
     "output_type": "stream",
     "text": [
      "5\n"
     ]
    }
   ],
   "source": [
    "print(k[1])"
   ]
  },
  {
   "cell_type": "code",
   "execution_count": 77,
   "id": "69fd534a-b56e-42a0-a5d5-44b607f04933",
   "metadata": {},
   "outputs": [],
   "source": [
    "A= 100"
   ]
  },
  {
   "cell_type": "code",
   "execution_count": 78,
   "id": "64ca6221-672d-424f-b7f8-7ad0b0698a60",
   "metadata": {},
   "outputs": [],
   "source": [
    "B= 200"
   ]
  },
  {
   "cell_type": "code",
   "execution_count": 79,
   "id": "e8d9a21a-7476-4cbe-ab35-6ebe168cf36e",
   "metadata": {},
   "outputs": [],
   "source": [
    "C=B"
   ]
  },
  {
   "cell_type": "code",
   "execution_count": 80,
   "id": "f03d14bf-6b3d-46ff-9278-255cd6d79f11",
   "metadata": {},
   "outputs": [
    {
     "name": "stdout",
     "output_type": "stream",
     "text": [
      "200\n"
     ]
    }
   ],
   "source": [
    "print(C)"
   ]
  },
  {
   "cell_type": "code",
   "execution_count": 81,
   "id": "ee2a7178-449e-4d86-a594-9667aa785d12",
   "metadata": {},
   "outputs": [],
   "source": [
    "B=A"
   ]
  },
  {
   "cell_type": "code",
   "execution_count": 82,
   "id": "db260195-6c15-4e7f-a26c-87d937d61ce2",
   "metadata": {},
   "outputs": [],
   "source": [
    "A=C"
   ]
  },
  {
   "cell_type": "code",
   "execution_count": 83,
   "id": "b147ac63-c4e0-4383-9d9b-f018fd1ce29f",
   "metadata": {},
   "outputs": [
    {
     "name": "stdout",
     "output_type": "stream",
     "text": [
      "200\n"
     ]
    }
   ],
   "source": [
    "print(A)"
   ]
  },
  {
   "cell_type": "code",
   "execution_count": 84,
   "id": "c44c9fa4-5b95-4242-a976-f9078ae021f3",
   "metadata": {},
   "outputs": [
    {
     "name": "stdout",
     "output_type": "stream",
     "text": [
      "100\n"
     ]
    }
   ],
   "source": [
    "print(B)"
   ]
  },
  {
   "cell_type": "code",
   "execution_count": null,
   "id": "10c303b1-9272-43da-9024-09ba58fd02cb",
   "metadata": {},
   "outputs": [],
   "source": []
  }
 ],
 "metadata": {
  "kernelspec": {
   "display_name": "Python 3 (ipykernel)",
   "language": "python",
   "name": "python3"
  },
  "language_info": {
   "codemirror_mode": {
    "name": "ipython",
    "version": 3
   },
   "file_extension": ".py",
   "mimetype": "text/x-python",
   "name": "python",
   "nbconvert_exporter": "python",
   "pygments_lexer": "ipython3",
   "version": "3.9.7"
  }
 },
 "nbformat": 4,
 "nbformat_minor": 5
}
