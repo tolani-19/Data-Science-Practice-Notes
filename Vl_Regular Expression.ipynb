{
 "cells": [
  {
   "cell_type": "markdown",
   "id": "22ea60fb-36b8-455f-ab1e-9a687c65ced4",
   "metadata": {},
   "source": [
    "## Regular Expression"
   ]
  },
  {
   "cell_type": "markdown",
   "id": "b929a951-e537-49fe-9f25-4d133a94eb4f",
   "metadata": {},
   "source": [
    "#### A Regular Expression is a special text string for describing a search pattern."
   ]
  },
  {
   "cell_type": "markdown",
   "id": "7cdc472b-7f85-44cb-95fb-df374bf12e76",
   "metadata": {},
   "source": [
    "### Symbols for writing regular expression"
   ]
  },
  {
   "cell_type": "markdown",
   "id": "112ba62b-79b5-41ae-8822-100f297eba86",
   "metadata": {},
   "source": [
    "- #### *: The preceding character is repeated zero or more times\n",
    "- #### +: The preceding character is repeated at least once\n",
    "- #### {}: The preceding character is repeated as many times as mentioned in the braces\n",
    "- #### .: represents a single occurence of any character except newline\n",
    "- #### ?: The preceding character is optional\n",
    "- #### ^: specifies that the match must start at the begining of the string"
   ]
  },
  {
   "cell_type": "markdown",
   "id": "4d51874f-2b95-46ec-9884-56f4e5c42f32",
   "metadata": {},
   "source": [
    "### Regular Expression Operations"
   ]
  },
  {
   "cell_type": "code",
   "execution_count": 14,
   "id": "3e79eff7-cfbd-416e-9143-69d5c6b3d979",
   "metadata": {},
   "outputs": [],
   "source": [
    "#import the library\n",
    "import re"
   ]
  },
  {
   "cell_type": "code",
   "execution_count": 15,
   "id": "eba53ddc-a46f-4fdb-b0d2-d22e4bec5deb",
   "metadata": {},
   "outputs": [],
   "source": [
    "Nameage='''\n",
    "Janice is 22 and Theon is 33\n",
    "Gabriel is 44 and Joey is 21\n",
    "'''"
   ]
  },
  {
   "cell_type": "code",
   "execution_count": 16,
   "id": "98ebad3d-ceb1-4471-ad35-14d81130708f",
   "metadata": {},
   "outputs": [],
   "source": [
    "ages=re.findall(r'\\d{1,3}', Nameage)\n",
    "names=re.findall(r'[A-Z][a-z]*', Nameage)"
   ]
  },
  {
   "cell_type": "code",
   "execution_count": 17,
   "id": "d934c0b7-9a9e-46d6-8375-28e03e42963b",
   "metadata": {},
   "outputs": [],
   "source": [
    "ageDict={}"
   ]
  },
  {
   "cell_type": "code",
   "execution_count": 18,
   "id": "478ed89c-a52c-40bb-9c0f-8eb349253e01",
   "metadata": {},
   "outputs": [],
   "source": [
    "x=0"
   ]
  },
  {
   "cell_type": "code",
   "execution_count": 20,
   "id": "12464277-0fc5-4b81-bde2-f114accb99a8",
   "metadata": {},
   "outputs": [
    {
     "name": "stdout",
     "output_type": "stream",
     "text": [
      "{'Janice': '22'}\n",
      "{'Janice': '22', 'Theon': '33'}\n",
      "{'Janice': '22', 'Theon': '33', 'Gabriel': '44'}\n",
      "{'Janice': '22', 'Theon': '33', 'Gabriel': '44', 'Joey': '21'}\n"
     ]
    }
   ],
   "source": [
    "for eachname in names:\n",
    "    ageDict[eachname]=ages[x]\n",
    "    x+=1\n",
    "    print(ageDict)"
   ]
  },
  {
   "cell_type": "markdown",
   "id": "c491341b-f993-4d35-b680-0bb00f01da86",
   "metadata": {},
   "source": [
    "#### Finding a word in a string"
   ]
  },
  {
   "cell_type": "code",
   "execution_count": 8,
   "id": "68d86ae9-73eb-476a-be54-4c1e5bfb984a",
   "metadata": {},
   "outputs": [
    {
     "name": "stdout",
     "output_type": "stream",
     "text": [
      "There is inform\n"
     ]
    }
   ],
   "source": [
    "if re.search(\"inform\", \"we need to inform him with the latest information\"):\n",
    "    print(\"There is inform\")"
   ]
  },
  {
   "cell_type": "code",
   "execution_count": 9,
   "id": "988c07f4-8ae5-46e0-a416-590a94faebb2",
   "metadata": {},
   "outputs": [
    {
     "name": "stdout",
     "output_type": "stream",
     "text": [
      "inform\n",
      "inform\n"
     ]
    }
   ],
   "source": [
    "allinform=re.findall(\"inform\", \"we need to inform him with the latest information\")\n",
    "for i in allinform:\n",
    "    print(i)"
   ]
  },
  {
   "cell_type": "markdown",
   "id": "a16a7a53-fd35-44ca-bfb5-e6781a8a305e",
   "metadata": {},
   "source": [
    "#### Generating an iterator"
   ]
  },
  {
   "cell_type": "code",
   "execution_count": 22,
   "id": "0c97a738-0f30-425f-b73a-a820446bfbc9",
   "metadata": {},
   "outputs": [
    {
     "name": "stdout",
     "output_type": "stream",
     "text": [
      "(11, 17)\n",
      "(38, 44)\n"
     ]
    }
   ],
   "source": [
    "#iterates the first and last index of the matchinh iterators\n",
    "str=\"we need to inform him with the latest information\"\n",
    "for i in re.finditer(\"inform\", str):\n",
    "    loctup=i.span()\n",
    "    print(loctup)"
   ]
  },
  {
   "cell_type": "markdown",
   "id": "689940cf-f379-45ee-abcd-157f850eb046",
   "metadata": {},
   "source": [
    "#### Matching words with a particular pattern"
   ]
  },
  {
   "cell_type": "code",
   "execution_count": 23,
   "id": "296a3f51-7dcc-4f61-a9b9-3a5def1734e0",
   "metadata": {},
   "outputs": [],
   "source": [
    "str=\"Sat, hat, mat, pat\""
   ]
  },
  {
   "cell_type": "code",
   "execution_count": 26,
   "id": "6a483f98-511c-4712-9352-9e869129ef85",
   "metadata": {},
   "outputs": [],
   "source": [
    "allstr=re.findall(\"[Shmp]at\",str)"
   ]
  },
  {
   "cell_type": "code",
   "execution_count": 28,
   "id": "7a48bfce-0875-4be0-9216-c82a5e23aae0",
   "metadata": {},
   "outputs": [
    {
     "name": "stdout",
     "output_type": "stream",
     "text": [
      "Sat\n",
      "hat\n",
      "mat\n",
      "pat\n"
     ]
    }
   ],
   "source": [
    "for i in allstr:\n",
    " print(i)"
   ]
  },
  {
   "cell_type": "markdown",
   "id": "45caa4ea-9aa6-4817-ad27-8b66347f07d1",
   "metadata": {},
   "source": [
    "#### Matching series of range of characters"
   ]
  },
  {
   "cell_type": "code",
   "execution_count": 29,
   "id": "958e1e3f-e42f-459b-a5fd-19c0e57d709d",
   "metadata": {},
   "outputs": [],
   "source": [
    "allstr=re.findall(\"[h-m]at\",str)"
   ]
  },
  {
   "cell_type": "code",
   "execution_count": 30,
   "id": "d6a267c2-1252-4905-966f-e428dcf476c8",
   "metadata": {},
   "outputs": [
    {
     "name": "stdout",
     "output_type": "stream",
     "text": [
      "hat\n",
      "mat\n"
     ]
    }
   ],
   "source": [
    "for i in allstr:\n",
    " print(i)"
   ]
  },
  {
   "cell_type": "code",
   "execution_count": 31,
   "id": "f389d2fe-cceb-4fb2-8b05-b600d1ccbec5",
   "metadata": {},
   "outputs": [],
   "source": [
    "allstr=re.findall(\"[^h-m]at\",str)"
   ]
  },
  {
   "cell_type": "code",
   "execution_count": 32,
   "id": "f15e97ea-0e9e-44c5-bb06-644f1adf4ad5",
   "metadata": {},
   "outputs": [
    {
     "name": "stdout",
     "output_type": "stream",
     "text": [
      "Sat\n",
      "pat\n"
     ]
    }
   ],
   "source": [
    "for i in allstr:\n",
    " print(i)"
   ]
  },
  {
   "cell_type": "markdown",
   "id": "13bf565f-cd8c-410f-a344-6fa470ee9245",
   "metadata": {},
   "source": [
    "#### Replace string"
   ]
  },
  {
   "cell_type": "code",
   "execution_count": 34,
   "id": "e3d4a2e7-d1e0-4393-92e1-7aa25b6a036d",
   "metadata": {},
   "outputs": [],
   "source": [
    "food=\"hat rat mat pat\""
   ]
  },
  {
   "cell_type": "code",
   "execution_count": 35,
   "id": "6ab31792-d3bf-4ace-ad9b-793499de9ac5",
   "metadata": {},
   "outputs": [],
   "source": [
    "regex=re.compile(\"[r]at\")"
   ]
  },
  {
   "cell_type": "code",
   "execution_count": 36,
   "id": "a1421016-0fcf-4bfb-bc3c-738dae7bc072",
   "metadata": {},
   "outputs": [
    {
     "name": "stdout",
     "output_type": "stream",
     "text": [
      "hat food mat pat\n"
     ]
    }
   ],
   "source": [
    "food=regex.sub(\"food\", food)\n",
    "print(food)"
   ]
  },
  {
   "cell_type": "markdown",
   "id": "b770ead6-dbbc-4bd1-9216-2abdc995dbfd",
   "metadata": {},
   "source": [
    "#### Solving the backslash problems"
   ]
  },
  {
   "cell_type": "code",
   "execution_count": 37,
   "id": "8268f7ef-c0ff-459f-9f6f-efcb91ab3f99",
   "metadata": {},
   "outputs": [
    {
     "name": "stdout",
     "output_type": "stream",
     "text": [
      "here is \\drogba\n"
     ]
    }
   ],
   "source": [
    "randstr=\"here is \\\\drogba\"\n",
    "print(randstr)"
   ]
  },
  {
   "cell_type": "code",
   "execution_count": 38,
   "id": "19838452-fbcf-4193-ad4c-98de6941b54c",
   "metadata": {},
   "outputs": [
    {
     "name": "stdout",
     "output_type": "stream",
     "text": [
      "<re.Match object; span=(8, 15), match='\\\\drogba'>\n"
     ]
    }
   ],
   "source": [
    "#we want the two slashes to show\n",
    "print(re.search(r\"\\\\drogba\", randstr))"
   ]
  },
  {
   "cell_type": "markdown",
   "id": "f5d545b8-4fb3-4d31-bf6b-ae0487514622",
   "metadata": {},
   "source": [
    "#### Matching a single character"
   ]
  },
  {
   "cell_type": "code",
   "execution_count": 39,
   "id": "e532127c-b4a9-4f7c-844c-fc7b85cbd47f",
   "metadata": {},
   "outputs": [
    {
     "name": "stdout",
     "output_type": "stream",
     "text": [
      "\n",
      "Keep the blue flag\n",
      "flying high\n",
      "Chelsea\n",
      "\n"
     ]
    }
   ],
   "source": [
    "randstr='''\n",
    "Keep the blue flag\n",
    "flying high\n",
    "Chelsea\n",
    "'''\n",
    "print(randstr)"
   ]
  },
  {
   "cell_type": "code",
   "execution_count": 40,
   "id": "189636e6-98b6-4cf6-b66f-3f6a3b342b8b",
   "metadata": {},
   "outputs": [
    {
     "name": "stdout",
     "output_type": "stream",
     "text": [
      " Keep the blue flag flying high Chelsea \n"
     ]
    }
   ],
   "source": [
    "regex=re.compile(\"\\n\")\n",
    "randstr=regex.sub(\" \", randstr)\n",
    "print(randstr)"
   ]
  },
  {
   "cell_type": "code",
   "execution_count": 41,
   "id": "1a3290f5-407f-4ab8-adb6-f05521cbffca",
   "metadata": {},
   "outputs": [],
   "source": [
    "#\\b:backspace\n",
    "#\\f:formfeed\n",
    "#\\r:carriage return\n",
    "#\\t:Tab\n",
    "#\\v:Vertical Tab\n",
    "#\\d:matches all digits\n",
    "#\\D:matches all apart from digits\n",
    "#\\d{}:matches a particular digit"
   ]
  },
  {
   "cell_type": "code",
   "execution_count": 42,
   "id": "08b5ede6-e82f-43bd-bdcb-51479a05b381",
   "metadata": {},
   "outputs": [
    {
     "name": "stdout",
     "output_type": "stream",
     "text": [
      "Matches: 5\n"
     ]
    }
   ],
   "source": [
    "randstr=\"12345\"\n",
    "print(\"Matches:\", len(re.findall(\"\\d\", randstr)))"
   ]
  },
  {
   "cell_type": "code",
   "execution_count": 43,
   "id": "d46ff40a-e7ed-4ebc-b17a-4926585d5965",
   "metadata": {},
   "outputs": [
    {
     "name": "stdout",
     "output_type": "stream",
     "text": [
      "Matches: 0\n"
     ]
    }
   ],
   "source": [
    "randstr=\"12345\"\n",
    "print(\"Matches:\", len(re.findall(\"\\D\", randstr)))"
   ]
  },
  {
   "cell_type": "code",
   "execution_count": 50,
   "id": "189ffaae-5fbe-40d8-8e75-765e3db06ce8",
   "metadata": {},
   "outputs": [
    {
     "name": "stdout",
     "output_type": "stream",
     "text": [
      "Matches: 1\n"
     ]
    }
   ],
   "source": [
    "randstr=\"12345\"\n",
    "print(\"Matches:\", len(re.findall(\"\\d{5}\", randstr)))"
   ]
  },
  {
   "cell_type": "code",
   "execution_count": 51,
   "id": "53d68beb-7f96-41c5-a615-431f6e1bba7d",
   "metadata": {},
   "outputs": [
    {
     "name": "stdout",
     "output_type": "stream",
     "text": [
      "Matches: 3\n"
     ]
    }
   ],
   "source": [
    "#matching digits with a certain range\n",
    "num=\"123 1234 12345 123456 1234567\"\n",
    "print(\"Matches:\", len(re.findall(\"\\d{5,7}\", num)))"
   ]
  },
  {
   "cell_type": "markdown",
   "id": "2a31c35d-1b53-4404-8a44-7761fc25e410",
   "metadata": {},
   "source": [
    "### Regular Expression Application"
   ]
  },
  {
   "cell_type": "markdown",
   "id": "f5b47353-bfb5-40b5-b936-dda5184c62bb",
   "metadata": {},
   "source": [
    "#### Phone number Verification"
   ]
  },
  {
   "cell_type": "code",
   "execution_count": 52,
   "id": "5cd75d96-4210-4f6c-8c87-81773963e2fe",
   "metadata": {},
   "outputs": [],
   "source": [
    "#\\w:[a-zA-Z0-9]\n",
    "#\\W:[^a-zA-Z0-9]"
   ]
  },
  {
   "cell_type": "code",
   "execution_count": 53,
   "id": "a78b4a32-4ee7-46ab-8a84-2cfe2c087238",
   "metadata": {},
   "outputs": [
    {
     "name": "stdout",
     "output_type": "stream",
     "text": [
      "it is a phone number\n"
     ]
    }
   ],
   "source": [
    "phn=\"412-555-1212\"\n",
    "if re.search(\"\\w{3}-\\w{3}-\\w{3}\", phn):\n",
    "    print(\"it is a phone number\")"
   ]
  },
  {
   "cell_type": "code",
   "execution_count": 54,
   "id": "488986b0-35b2-46a5-a15b-3c786f987595",
   "metadata": {},
   "outputs": [],
   "source": [
    "#\\s [\\f\\n\\r\\t\\v]\n",
    "#\\S [^\\f\\n\\r\\t\\v]"
   ]
  },
  {
   "cell_type": "code",
   "execution_count": 55,
   "id": "703a12f3-519b-418a-be2b-c009bc8c985c",
   "metadata": {},
   "outputs": [
    {
     "name": "stdout",
     "output_type": "stream",
     "text": [
      "fullname is valid\n"
     ]
    }
   ],
   "source": [
    "if re.search(\"\\w{2,20}\\s\\w{2,20}\", \"Motolani Mercy\"):\n",
    "    print(\"fullname is valid\")"
   ]
  },
  {
   "cell_type": "markdown",
   "id": "fef0afbd-46bf-43d1-b13f-6e53fff8febc",
   "metadata": {},
   "source": [
    "#### Email Verification"
   ]
  },
  {
   "cell_type": "code",
   "execution_count": 56,
   "id": "e77e1c7c-7162-43f6-9a0f-1836d52453fb",
   "metadata": {},
   "outputs": [],
   "source": [
    "email=\"sk@aol.com md@.com @seo.com dc@.com\""
   ]
  },
  {
   "cell_type": "code",
   "execution_count": 57,
   "id": "741dd025-1137-4f6e-9f4b-215ac9f121b1",
   "metadata": {},
   "outputs": [
    {
     "name": "stdout",
     "output_type": "stream",
     "text": [
      "EmailMatches: 1\n"
     ]
    }
   ],
   "source": [
    "print(\"EmailMatches:\", len(re.findall(\"[\\w._%+-]{1,20}@[\\w._]{2,20}.[A-Za-z]{2,3}\", email)))"
   ]
  },
  {
   "cell_type": "markdown",
   "id": "1e2c2a75-9295-403b-b92c-17208c037517",
   "metadata": {},
   "source": [
    "#### Web Scrapping"
   ]
  },
  {
   "cell_type": "code",
   "execution_count": 59,
   "id": "4fb53d3b-9650-43cd-97b8-b1f90fb5e505",
   "metadata": {},
   "outputs": [],
   "source": [
    "import urllib.request\n",
    "from re import findall"
   ]
  },
  {
   "cell_type": "code",
   "execution_count": 60,
   "id": "4fa4f1e0-60da-47c5-b1c2-a85c7887899e",
   "metadata": {},
   "outputs": [],
   "source": [
    "url=\"http://www.summet.com/dmsi/html/codesamples/addresses.html\""
   ]
  },
  {
   "cell_type": "code",
   "execution_count": 61,
   "id": "a7086f9e-7d21-437a-b81b-6c43a273c3d3",
   "metadata": {},
   "outputs": [],
   "source": [
    "response=urllib.request.urlopen(url)"
   ]
  },
  {
   "cell_type": "code",
   "execution_count": 63,
   "id": "f2f4ddc6-4f6b-42c0-b397-707b5a90038f",
   "metadata": {},
   "outputs": [],
   "source": [
    "html=response.read()"
   ]
  },
  {
   "cell_type": "code",
   "execution_count": 64,
   "id": "b19298eb-84c2-4d13-b920-14ab283c436b",
   "metadata": {},
   "outputs": [],
   "source": [
    "htmlStr=html.decode()"
   ]
  },
  {
   "cell_type": "code",
   "execution_count": 66,
   "id": "6fdba02b-f13d-46b4-8d38-2d49a7f6b621",
   "metadata": {},
   "outputs": [],
   "source": [
    "pdata=findall(\"\\(\\d{3}\\) \\d{3}-\\d{4}\", htmlStr)"
   ]
  },
  {
   "cell_type": "code",
   "execution_count": 67,
   "id": "930ed30c-8ce7-42e7-b132-0739fc412b94",
   "metadata": {},
   "outputs": [
    {
     "name": "stdout",
     "output_type": "stream",
     "text": [
      "(257) 563-7401\n",
      "(372) 587-2335\n",
      "(786) 713-8616\n",
      "(793) 151-6230\n",
      "(492) 709-6392\n",
      "(654) 393-5734\n",
      "(404) 960-3807\n",
      "(314) 244-6306\n",
      "(947) 278-5929\n",
      "(684) 579-1879\n",
      "(389) 737-2852\n",
      "(660) 663-4518\n",
      "(608) 265-2215\n",
      "(959) 119-8364\n",
      "(468) 353-2641\n",
      "(248) 675-4007\n",
      "(939) 353-1107\n",
      "(570) 873-7090\n",
      "(302) 259-2375\n",
      "(717) 450-4729\n",
      "(453) 391-4650\n",
      "(559) 104-5475\n",
      "(387) 142-9434\n",
      "(516) 745-4496\n",
      "(326) 677-3419\n",
      "(746) 679-2470\n",
      "(455) 430-0989\n",
      "(490) 936-4694\n",
      "(985) 834-8285\n",
      "(662) 661-1446\n",
      "(802) 668-8240\n",
      "(477) 768-9247\n",
      "(791) 239-9057\n",
      "(832) 109-0213\n",
      "(837) 196-3274\n",
      "(268) 442-2428\n",
      "(850) 676-5117\n",
      "(861) 546-5032\n",
      "(176) 805-4108\n",
      "(715) 912-6931\n",
      "(993) 554-0563\n",
      "(357) 616-5411\n",
      "(121) 347-0086\n",
      "(304) 506-6314\n",
      "(425) 288-2332\n",
      "(145) 987-4962\n",
      "(187) 582-9707\n",
      "(750) 558-3965\n",
      "(492) 467-3131\n",
      "(774) 914-2510\n",
      "(888) 106-8550\n",
      "(539) 567-3573\n",
      "(693) 337-2849\n",
      "(545) 604-9386\n",
      "(221) 156-5026\n",
      "(414) 876-0865\n",
      "(932) 726-8645\n",
      "(726) 710-9826\n",
      "(622) 594-1662\n",
      "(948) 600-8503\n",
      "(605) 900-7508\n",
      "(716) 977-5775\n",
      "(368) 239-8275\n",
      "(725) 342-0650\n",
      "(711) 993-5187\n",
      "(882) 399-5084\n",
      "(287) 755-9948\n",
      "(659) 551-3389\n",
      "(275) 730-6868\n",
      "(725) 757-4047\n",
      "(314) 882-1496\n",
      "(639) 360-7590\n",
      "(168) 222-1592\n",
      "(896) 303-1164\n",
      "(203) 982-6130\n",
      "(906) 217-1470\n",
      "(614) 514-1269\n",
      "(763) 409-5446\n",
      "(836) 292-5324\n",
      "(926) 709-3295\n",
      "(963) 356-9268\n",
      "(736) 522-8584\n",
      "(410) 483-0352\n",
      "(252) 204-1434\n",
      "(874) 886-4174\n",
      "(581) 379-7573\n",
      "(983) 632-8597\n",
      "(295) 983-3476\n",
      "(873) 392-8802\n",
      "(360) 669-3923\n",
      "(840) 987-9449\n",
      "(422) 517-6053\n",
      "(126) 940-2753\n",
      "(427) 930-5255\n",
      "(689) 721-5145\n",
      "(676) 334-2174\n",
      "(437) 994-5270\n",
      "(564) 908-6970\n",
      "(577) 333-6244\n",
      "(655) 840-6139\n"
     ]
    }
   ],
   "source": [
    "for item in pdata:\n",
    "    print(item)"
   ]
  },
  {
   "cell_type": "markdown",
   "id": "b83b6011-1269-490f-b83f-ea98dd248d9b",
   "metadata": {},
   "source": [
    "### More on Basic Regular Expression Operations"
   ]
  },
  {
   "cell_type": "code",
   "execution_count": 68,
   "id": "274cdc8a-7035-4446-ba85-0ddcfb4ded25",
   "metadata": {},
   "outputs": [],
   "source": [
    "str=\"Abcd 4 computer 765 Python 687\""
   ]
  },
  {
   "cell_type": "code",
   "execution_count": 69,
   "id": "49987251-f16a-4e7e-a10e-2eb2e46a7307",
   "metadata": {},
   "outputs": [],
   "source": [
    "pattern=r'[a-zA-Z]+'"
   ]
  },
  {
   "cell_type": "code",
   "execution_count": 70,
   "id": "063271a9-302e-44a5-9748-61dbf6d77396",
   "metadata": {},
   "outputs": [
    {
     "name": "stdout",
     "output_type": "stream",
     "text": [
      "['Abcd', 'computer', 'Python']\n"
     ]
    }
   ],
   "source": [
    "match=re.findall(pattern, str)\n",
    "print(match)"
   ]
  },
  {
   "cell_type": "code",
   "execution_count": 71,
   "id": "44a00b58-7c9b-4c3d-90b6-c9b33cf7b2e8",
   "metadata": {},
   "outputs": [],
   "source": [
    "pattern=r'[0-9]+'"
   ]
  },
  {
   "cell_type": "code",
   "execution_count": 72,
   "id": "8220c7c0-2d82-4e29-a68f-5646c8e56d5b",
   "metadata": {},
   "outputs": [
    {
     "name": "stdout",
     "output_type": "stream",
     "text": [
      "['4', '765', '687']\n"
     ]
    }
   ],
   "source": [
    "match=re.findall(pattern, str)\n",
    "print(match)"
   ]
  },
  {
   "cell_type": "code",
   "execution_count": 73,
   "id": "4fbe4ab7-2ba3-4d8e-b42c-4ce4b9e85f35",
   "metadata": {},
   "outputs": [],
   "source": [
    "pattern=r'[a-zA-Z0-9]+'"
   ]
  },
  {
   "cell_type": "code",
   "execution_count": 74,
   "id": "a810c184-e1a7-45f6-ae60-d2fd302ce855",
   "metadata": {},
   "outputs": [
    {
     "name": "stdout",
     "output_type": "stream",
     "text": [
      "['Abcd', '4', 'computer', '765', 'Python', '687']\n"
     ]
    }
   ],
   "source": [
    "match=re.findall(pattern, str)\n",
    "print(match)"
   ]
  },
  {
   "cell_type": "code",
   "execution_count": 77,
   "id": "694e4b4f-1b6c-4764-9138-11ba317f0a41",
   "metadata": {},
   "outputs": [],
   "source": [
    "pattern=r'.[^ ]+'"
   ]
  },
  {
   "cell_type": "code",
   "execution_count": 78,
   "id": "676d1de5-d3d1-4514-9406-97599bace63a",
   "metadata": {},
   "outputs": [
    {
     "name": "stdout",
     "output_type": "stream",
     "text": [
      "['Abcd', ' 4', ' computer', ' 765', ' Python', ' 687']\n"
     ]
    }
   ],
   "source": [
    "match=re.findall(pattern, str)\n",
    "print(match)"
   ]
  },
  {
   "cell_type": "code",
   "execution_count": 79,
   "id": "9deb0d5c-23b8-4722-bf20-c9354bd3302d",
   "metadata": {},
   "outputs": [],
   "source": [
    "str='''\n",
    "apple\n",
    "banana\n",
    "orange\n",
    "peach\n",
    "avocado\n",
    "cherries\n",
    "'''"
   ]
  },
  {
   "cell_type": "code",
   "execution_count": 83,
   "id": "b2d9f57f-cfa3-4247-93be-ba73c6e323ad",
   "metadata": {},
   "outputs": [],
   "source": [
    "pattern=r'.*s'"
   ]
  },
  {
   "cell_type": "code",
   "execution_count": 84,
   "id": "b0ec9c23-136f-4999-974e-b086d4af7916",
   "metadata": {},
   "outputs": [
    {
     "name": "stdout",
     "output_type": "stream",
     "text": [
      "['cherries']\n"
     ]
    }
   ],
   "source": [
    "match=re.findall(pattern, str)\n",
    "print(match)"
   ]
  },
  {
   "cell_type": "code",
   "execution_count": 85,
   "id": "1c14b7d6-7840-4c2e-afe2-3a50dbafac50",
   "metadata": {},
   "outputs": [
    {
     "name": "stdout",
     "output_type": "stream",
     "text": [
      "cherries\n"
     ]
    }
   ],
   "source": [
    "for m in match:\n",
    "    print(m)"
   ]
  },
  {
   "cell_type": "code",
   "execution_count": 86,
   "id": "3a3c8ae3-cba0-447d-9060-51815df3ec34",
   "metadata": {},
   "outputs": [],
   "source": [
    "pattern=r'\\b[aeiou].+\\b'"
   ]
  },
  {
   "cell_type": "code",
   "execution_count": 87,
   "id": "8211da4a-f34f-4e0c-a375-76ba65a4e062",
   "metadata": {},
   "outputs": [
    {
     "name": "stdout",
     "output_type": "stream",
     "text": [
      "['apple', 'orange', 'avocado']\n"
     ]
    }
   ],
   "source": [
    "match=re.findall(pattern, str)\n",
    "print(match)"
   ]
  },
  {
   "cell_type": "code",
   "execution_count": 95,
   "id": "22db523c-3284-4431-ac6c-fee46e40983e",
   "metadata": {},
   "outputs": [],
   "source": [
    "str='''\n",
    "dfshj@gmail.com\n",
    "3ytgdg.56\n",
    "tigacharm56h@hotmail.com\n",
    "hfg123h@aol\n",
    "'''"
   ]
  },
  {
   "cell_type": "code",
   "execution_count": 96,
   "id": "8109218c-9b14-4da7-98df-2bc9c8d3bdd0",
   "metadata": {},
   "outputs": [],
   "source": [
    "pattern=r'[a-z].+[0-9]*[a-z]*@[a-z]+\\.com'"
   ]
  },
  {
   "cell_type": "code",
   "execution_count": 90,
   "id": "c7e85e02-d098-4f3e-bcbe-c60eec1eb94c",
   "metadata": {},
   "outputs": [
    {
     "name": "stdout",
     "output_type": "stream",
     "text": [
      "['dfshj@gmail.com', 'tigacharm56h@hotmail.com']\n"
     ]
    }
   ],
   "source": [
    "match=re.findall(pattern, str)\n",
    "print(match)"
   ]
  },
  {
   "cell_type": "code",
   "execution_count": 98,
   "id": "ba2bba40-7848-4f82-9a56-3047e8ad73dc",
   "metadata": {},
   "outputs": [
    {
     "name": "stdout",
     "output_type": "stream",
     "text": [
      "(1, 16)\n",
      "(27, 51)\n"
     ]
    }
   ],
   "source": [
    "match=re.finditer(pattern, str)\n",
    "for m in match:\n",
    "    print(m.span())"
   ]
  },
  {
   "cell_type": "code",
   "execution_count": 99,
   "id": "77c1814c-5d5d-45d9-a900-972cc5561767",
   "metadata": {},
   "outputs": [],
   "source": [
    "str='''\n",
    "Sam\n",
    "car\n",
    "2453\n",
    "Alexa\n",
    "John\n",
    "90\n",
    "'''"
   ]
  },
  {
   "cell_type": "code",
   "execution_count": 101,
   "id": "c4abe170-d029-4cda-b060-02510c388d23",
   "metadata": {},
   "outputs": [
    {
     "name": "stdout",
     "output_type": "stream",
     "text": [
      "\n",
      "\n",
      "car\n",
      "2453\n",
      "\n",
      "\n",
      "90\n",
      "\n"
     ]
    }
   ],
   "source": [
    "pattern=r'\\b[A-Z][a-z]+\\b'\n",
    "nstr=re.sub(pattern, \"\",str)\n",
    "print(nstr)"
   ]
  },
  {
   "cell_type": "code",
   "execution_count": null,
   "id": "7428146b-6bfe-4625-843f-d8b28c0759a7",
   "metadata": {},
   "outputs": [],
   "source": []
  }
 ],
 "metadata": {
  "kernelspec": {
   "display_name": "Python 3 (ipykernel)",
   "language": "python",
   "name": "python3"
  },
  "language_info": {
   "codemirror_mode": {
    "name": "ipython",
    "version": 3
   },
   "file_extension": ".py",
   "mimetype": "text/x-python",
   "name": "python",
   "nbconvert_exporter": "python",
   "pygments_lexer": "ipython3",
   "version": "3.9.7"
  }
 },
 "nbformat": 4,
 "nbformat_minor": 5
}
