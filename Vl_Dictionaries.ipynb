{
 "cells": [
  {
   "cell_type": "markdown",
   "id": "f8897101-dc23-4fa3-88b3-bf4830d728b1",
   "metadata": {},
   "source": [
    "# Dictionaries"
   ]
  },
  {
   "cell_type": "code",
   "execution_count": 3,
   "id": "485a200f-2f50-4217-94fa-2386abf9fadf",
   "metadata": {},
   "outputs": [],
   "source": [
    "purse= dict()"
   ]
  },
  {
   "cell_type": "code",
   "execution_count": 4,
   "id": "4614832c-5664-4701-9aec-edf67b80b011",
   "metadata": {},
   "outputs": [
    {
     "name": "stdout",
     "output_type": "stream",
     "text": [
      "{'money': 12, 'candy': 3, 'tissues': 75}\n"
     ]
    }
   ],
   "source": [
    "purse[\"money\"]=12\n",
    "purse[\"candy\"]=3\n",
    "purse[\"tissues\"]=75\n",
    "print(purse)"
   ]
  },
  {
   "cell_type": "code",
   "execution_count": 5,
   "id": "e674122e-41ea-47c4-a04e-0ae219fdc6bf",
   "metadata": {},
   "outputs": [
    {
     "name": "stdout",
     "output_type": "stream",
     "text": [
      "3\n"
     ]
    }
   ],
   "source": [
    "print(purse[\"candy\"])"
   ]
  },
  {
   "cell_type": "code",
   "execution_count": 6,
   "id": "f9346756-f42a-4950-9bed-679069927ce8",
   "metadata": {},
   "outputs": [
    {
     "name": "stdout",
     "output_type": "stream",
     "text": [
      "5\n"
     ]
    }
   ],
   "source": [
    "purse[\"candy\"]=purse[\"candy\"]+2\n",
    "print(purse[\"candy\"])"
   ]
  },
  {
   "cell_type": "code",
   "execution_count": 7,
   "id": "e72efee7-5966-4da6-8ae2-c48b761c4f56",
   "metadata": {},
   "outputs": [
    {
     "name": "stdout",
     "output_type": "stream",
     "text": [
      "{'money': 12, 'candy': 5, 'tissues': 75}\n"
     ]
    }
   ],
   "source": [
    "print(purse)"
   ]
  },
  {
   "cell_type": "markdown",
   "id": "14261dcc-e559-4180-9bd9-215caeb597fa",
   "metadata": {},
   "source": [
    "## Creating Dictionaries"
   ]
  },
  {
   "cell_type": "code",
   "execution_count": 29,
   "id": "fdb4810d-d43f-4d42-8065-338846027b28",
   "metadata": {},
   "outputs": [
    {
     "name": "stdout",
     "output_type": "stream",
     "text": [
      "{}\n"
     ]
    },
    {
     "data": {
      "text/plain": [
       "dict"
      ]
     },
     "execution_count": 29,
     "metadata": {},
     "output_type": "execute_result"
    }
   ],
   "source": [
    "d1={}\n",
    "print(d1)\n",
    "type(d1)\n"
   ]
  },
  {
   "cell_type": "code",
   "execution_count": 31,
   "id": "4377d8f7-bb8b-4f2c-88ce-ea46df6d0b38",
   "metadata": {},
   "outputs": [
    {
     "name": "stdout",
     "output_type": "stream",
     "text": [
      "{1: 'welcome', 2: 'to', 3: 'python', 4: 'tutorial'}\n"
     ]
    }
   ],
   "source": [
    "d2={1:\"welcome\", 2:\"to\", 3:\"python\", 4:\"tutorial\"}\n",
    "print(d2)"
   ]
  },
  {
   "cell_type": "code",
   "execution_count": 37,
   "id": "567155e1-ecbe-4742-8aac-4c65e7125d62",
   "metadata": {},
   "outputs": [
    {
     "name": "stdout",
     "output_type": "stream",
     "text": [
      "{'name': 'tolani', 'age': 17, 'profession': 'data scientist'}\n"
     ]
    }
   ],
   "source": [
    "d3={\"name\":\"tolani\", \"age\":17, \"profession\":\"data scientist\"}\n",
    "print(d3)"
   ]
  },
  {
   "cell_type": "code",
   "execution_count": 33,
   "id": "9b785473-553a-4a74-9e62-a1cff96bed47",
   "metadata": {},
   "outputs": [
    {
     "name": "stdout",
     "output_type": "stream",
     "text": [
      "{1: 'welcome', 2: 'to', 3: 'python', 4: 'tutorial'}\n"
     ]
    }
   ],
   "source": [
    "d4=dict({1:\"welcome\", 2:\"to\", 3:\"python\", 4:\"tutorial\"})\n",
    "print(d4)"
   ]
  },
  {
   "cell_type": "code",
   "execution_count": 36,
   "id": "97bfaf4f-fa04-4df6-b885-ff71711b8dc8",
   "metadata": {},
   "outputs": [
    {
     "name": "stdout",
     "output_type": "stream",
     "text": [
      "[(1, 'welcome'), (2, 'to'), (3, 'python'), (4, 'tutorial')]\n"
     ]
    }
   ],
   "source": [
    "d5=([(1,\"welcome\"), (2,\"to\"), (3,\"python\"), (4,\"tutorial\")])\n",
    "print(d5)"
   ]
  },
  {
   "cell_type": "code",
   "execution_count": 39,
   "id": "0a608fbd-aca9-4517-b902-5cdf4ae25472",
   "metadata": {},
   "outputs": [
    {
     "name": "stdout",
     "output_type": "stream",
     "text": [
      "{'name': {'first': 'tolani', 'last': 'Kay-Salami'}, 'age': 17, 'profession': 'data scientist'}\n"
     ]
    }
   ],
   "source": [
    "d6={\"name\":{\"first\":\"tolani\", \"last\":\"Kay-Salami\"}, \"age\":17, \"profession\":\"data scientist\"}\n",
    "print(d6)"
   ]
  },
  {
   "cell_type": "markdown",
   "id": "052ac499-785f-4656-b429-ab5e3c8f3c9e",
   "metadata": {},
   "source": [
    "## Adding elements"
   ]
  },
  {
   "cell_type": "code",
   "execution_count": 56,
   "id": "c7289728-33d0-46a6-a1f4-fd4424ce7552",
   "metadata": {},
   "outputs": [
    {
     "name": "stdout",
     "output_type": "stream",
     "text": [
      "{0: 'welcome'}\n"
     ]
    }
   ],
   "source": [
    "d={}\n",
    "d[0]=\"welcome\"\n",
    "print(d)"
   ]
  },
  {
   "cell_type": "code",
   "execution_count": 57,
   "id": "bed3ec75-2293-414e-b9bb-e6a08b3e4949",
   "metadata": {},
   "outputs": [
    {
     "name": "stdout",
     "output_type": "stream",
     "text": [
      "{0: 'welcome', 1: ('How', 'are', 'you')}\n"
     ]
    }
   ],
   "source": [
    "d[1]=(\"How\", \"are\",  \"you\")\n",
    "print(d)"
   ]
  },
  {
   "cell_type": "code",
   "execution_count": 58,
   "id": "b797df07-ad67-4107-b603-383463da0cdb",
   "metadata": {},
   "outputs": [
    {
     "name": "stdout",
     "output_type": "stream",
     "text": [
      "{0: 'welcome', 1: ('How', 'are', 'you'), 'name': 'tolani'}\n"
     ]
    }
   ],
   "source": [
    "d[\"name\"]=\"tolani\"\n",
    "print(d)"
   ]
  },
  {
   "cell_type": "code",
   "execution_count": 75,
   "id": "03450d38-7231-4cb5-ad4c-e097ed70970d",
   "metadata": {},
   "outputs": [
    {
     "name": "stdout",
     "output_type": "stream",
     "text": [
      "{1: ('How', 'are', 'you'), 'name': {'first': 'Tolani', 'last': 'Kay-Salami'}}\n"
     ]
    }
   ],
   "source": [
    "d[\"name\"]={\"first\":\"Tolani\", \"last\":\"Kay-Salami\"}\n",
    "print(d)"
   ]
  },
  {
   "cell_type": "markdown",
   "id": "6c416d56-53e6-4607-825f-1b8b15894d8b",
   "metadata": {},
   "source": [
    "## Accesing Elements"
   ]
  },
  {
   "cell_type": "code",
   "execution_count": 61,
   "id": "baf2f1cd-39c9-4bfd-a80a-16aad04b8774",
   "metadata": {},
   "outputs": [
    {
     "name": "stdout",
     "output_type": "stream",
     "text": [
      "{0: 'welcome', 1: ('How', 'are', 'you'), 'name': {'first': 'Tolani', 'last': 'Kay-Salami'}}\n"
     ]
    }
   ],
   "source": [
    "print(d)"
   ]
  },
  {
   "cell_type": "code",
   "execution_count": 63,
   "id": "9b86e4e3-42d1-4073-aa6d-e9ba525fddb5",
   "metadata": {},
   "outputs": [
    {
     "name": "stdout",
     "output_type": "stream",
     "text": [
      "{'first': 'Tolani', 'last': 'Kay-Salami'}\n"
     ]
    }
   ],
   "source": [
    "print(d[\"name\"])"
   ]
  },
  {
   "cell_type": "code",
   "execution_count": 64,
   "id": "d15ed209-1117-41b6-a577-93af63729818",
   "metadata": {},
   "outputs": [
    {
     "name": "stdout",
     "output_type": "stream",
     "text": [
      "Tolani\n"
     ]
    }
   ],
   "source": [
    "print(d[\"name\"][\"first\"])"
   ]
  },
  {
   "cell_type": "code",
   "execution_count": 66,
   "id": "f20ef11d-3b76-450e-9697-9fc52a1a9dbf",
   "metadata": {},
   "outputs": [
    {
     "name": "stdout",
     "output_type": "stream",
     "text": [
      "('How', 'are', 'you')\n"
     ]
    }
   ],
   "source": [
    "print(d.get(1))"
   ]
  },
  {
   "cell_type": "markdown",
   "id": "d3195614-ce6b-497d-b8da-a2eef7d99482",
   "metadata": {},
   "source": [
    "## Deleting Elements"
   ]
  },
  {
   "cell_type": "code",
   "execution_count": 67,
   "id": "674395b0-293b-465e-9739-4cd8e047fa8c",
   "metadata": {},
   "outputs": [
    {
     "name": "stdout",
     "output_type": "stream",
     "text": [
      "{0: 'welcome', 1: ('How', 'are', 'you'), 'name': {'first': 'Tolani', 'last': 'Kay-Salami'}}\n"
     ]
    }
   ],
   "source": [
    "print(d)"
   ]
  },
  {
   "cell_type": "code",
   "execution_count": 68,
   "id": "12c64bc1-a1ca-4a87-a373-4329824aedbc",
   "metadata": {},
   "outputs": [
    {
     "data": {
      "text/plain": [
       "'welcome'"
      ]
     },
     "execution_count": 68,
     "metadata": {},
     "output_type": "execute_result"
    }
   ],
   "source": [
    "d.pop(0)"
   ]
  },
  {
   "cell_type": "code",
   "execution_count": 69,
   "id": "78719d7c-f58f-4184-9e8a-3a9b281dc9cd",
   "metadata": {},
   "outputs": [
    {
     "name": "stdout",
     "output_type": "stream",
     "text": [
      "{1: ('How', 'are', 'you'), 'name': {'first': 'Tolani', 'last': 'Kay-Salami'}}\n"
     ]
    }
   ],
   "source": [
    "print(d)"
   ]
  },
  {
   "cell_type": "code",
   "execution_count": 70,
   "id": "5499f855-4a77-4731-b81f-84ae1aad8885",
   "metadata": {},
   "outputs": [
    {
     "data": {
      "text/plain": [
       "('name', {'first': 'Tolani', 'last': 'Kay-Salami'})"
      ]
     },
     "execution_count": 70,
     "metadata": {},
     "output_type": "execute_result"
    }
   ],
   "source": [
    "d.popitem()"
   ]
  },
  {
   "cell_type": "code",
   "execution_count": 71,
   "id": "1b83a40f-0d1c-4608-bca4-44ae238cdf72",
   "metadata": {},
   "outputs": [
    {
     "name": "stdout",
     "output_type": "stream",
     "text": [
      "{1: ('How', 'are', 'you')}\n"
     ]
    }
   ],
   "source": [
    "print(d)"
   ]
  },
  {
   "cell_type": "code",
   "execution_count": 76,
   "id": "176f68f3-9a67-43c4-b605-a3043da99c2c",
   "metadata": {},
   "outputs": [
    {
     "name": "stdout",
     "output_type": "stream",
     "text": [
      "{1: ('How', 'are', 'you'), 'name': {'first': 'Tolani', 'last': 'Kay-Salami'}}\n"
     ]
    }
   ],
   "source": [
    "print(d)"
   ]
  },
  {
   "cell_type": "markdown",
   "id": "1535ce9d-236c-4069-9fb5-3a329786f7a0",
   "metadata": {},
   "source": [
    "### Using built in functions"
   ]
  },
  {
   "cell_type": "code",
   "execution_count": 77,
   "id": "30304842-c7cb-4827-9ac3-302accd9624e",
   "metadata": {},
   "outputs": [
    {
     "data": {
      "text/plain": [
       "dict_values([('How', 'are', 'you'), {'first': 'Tolani', 'last': 'Kay-Salami'}])"
      ]
     },
     "execution_count": 77,
     "metadata": {},
     "output_type": "execute_result"
    }
   ],
   "source": [
    "d.values()"
   ]
  },
  {
   "cell_type": "code",
   "execution_count": 79,
   "id": "21cadb12-a3bd-413f-9114-a37127f18557",
   "metadata": {},
   "outputs": [
    {
     "data": {
      "text/plain": [
       "{'c': 1, 'b': 1, 'a': 1, 'd': 1}"
      ]
     },
     "execution_count": 79,
     "metadata": {},
     "output_type": "execute_result"
    }
   ],
   "source": [
    "keys={\"a\", \"b\", \"c\", \"d\"}\n",
    "value=1\n",
    "dict.fromkeys(keys,value)"
   ]
  },
  {
   "cell_type": "code",
   "execution_count": 80,
   "id": "eba220be-912e-4695-be57-e096e57bdb90",
   "metadata": {},
   "outputs": [
    {
     "name": "stdout",
     "output_type": "stream",
     "text": [
      "{}\n"
     ]
    }
   ],
   "source": [
    "d.clear()\n",
    "print(d)"
   ]
  },
  {
   "cell_type": "markdown",
   "id": "0973fd88-08fe-436e-af47-98cd5db897e0",
   "metadata": {},
   "source": [
    "# sets"
   ]
  },
  {
   "cell_type": "code",
   "execution_count": 82,
   "id": "939ce804-2a39-4fc8-ae99-0e0f8bcc0354",
   "metadata": {},
   "outputs": [
    {
     "name": "stdout",
     "output_type": "stream",
     "text": [
      "{1, 2, 3, 4}\n"
     ]
    },
    {
     "data": {
      "text/plain": [
       "set"
      ]
     },
     "execution_count": 82,
     "metadata": {},
     "output_type": "execute_result"
    }
   ],
   "source": [
    "s=set([1,2,3,4,])\n",
    "print(s)\n",
    "type(s)"
   ]
  },
  {
   "cell_type": "code",
   "execution_count": 83,
   "id": "4cf0261a-02bb-4cfe-9905-bbd24ca0da5d",
   "metadata": {},
   "outputs": [
    {
     "name": "stdout",
     "output_type": "stream",
     "text": [
      "{1, 2, 3, 4, 'a'}\n"
     ]
    }
   ],
   "source": [
    "s.add(\"a\")\n",
    "print(s)"
   ]
  },
  {
   "cell_type": "code",
   "execution_count": 85,
   "id": "52040a67-e84b-45df-912b-2c50291646a9",
   "metadata": {},
   "outputs": [
    {
     "name": "stdout",
     "output_type": "stream",
     "text": [
      "frozenset({1, 2, 3, 4})\n"
     ]
    }
   ],
   "source": [
    "fs=frozenset([1,2,3,4,])\n",
    "print(fs)"
   ]
  },
  {
   "cell_type": "code",
   "execution_count": null,
   "id": "8ee8ac45-a53a-42d4-91bc-1ed6d8ebe8b9",
   "metadata": {},
   "outputs": [],
   "source": []
  }
 ],
 "metadata": {
  "kernelspec": {
   "display_name": "Python 3 (ipykernel)",
   "language": "python",
   "name": "python3"
  },
  "language_info": {
   "codemirror_mode": {
    "name": "ipython",
    "version": 3
   },
   "file_extension": ".py",
   "mimetype": "text/x-python",
   "name": "python",
   "nbconvert_exporter": "python",
   "pygments_lexer": "ipython3",
   "version": "3.9.7"
  }
 },
 "nbformat": 4,
 "nbformat_minor": 5
}
