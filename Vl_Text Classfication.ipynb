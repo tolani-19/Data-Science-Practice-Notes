{
 "cells": [
  {
   "cell_type": "markdown",
   "id": "34039bd8-c965-48d7-8bca-6f40a851f2db",
   "metadata": {},
   "source": [
    "#### Text Classification"
   ]
  },
  {
   "cell_type": "code",
   "execution_count": 10,
   "id": "3b3c0ce1-1d9f-419c-a361-8195db8a5e37",
   "metadata": {},
   "outputs": [],
   "source": [
    "review_1=\"The movie was good and we really like it\"\n",
    "review_2=\"the movie was good but the ending was boring\"\n",
    "review_3=\"we did not like the movie as it was too lengthy\""
   ]
  },
  {
   "cell_type": "code",
   "execution_count": 11,
   "id": "482e4b1d-6e2f-4c7c-9d90-81d010ac4db5",
   "metadata": {},
   "outputs": [],
   "source": [
    "import pandas as pd\n",
    "import numpy as np\n",
    "import nltk\n",
    "from nltk import word_tokenize"
   ]
  },
  {
   "cell_type": "code",
   "execution_count": 12,
   "id": "3fac1ceb-31ca-481f-9af3-9b144a3e0d57",
   "metadata": {},
   "outputs": [
    {
     "name": "stdout",
     "output_type": "stream",
     "text": [
      "['The', 'movie', 'was', 'good', 'and', 'we', 'really', 'like', 'it']\n",
      "['the', 'movie', 'was', 'good', 'but', 'the', 'ending', 'was', 'boring']\n",
      "['we', 'did', 'not', 'like', 'the', 'movie', 'as', 'it', 'was', 'too', 'lengthy']\n"
     ]
    }
   ],
   "source": [
    "review_1_tokens=word_tokenize(review_1)\n",
    "print(review_1_tokens)\n",
    "review_2_tokens=word_tokenize(review_2)\n",
    "print(review_2_tokens)\n",
    "review_3_tokens=word_tokenize(review_3)\n",
    "print(review_3_tokens)"
   ]
  },
  {
   "cell_type": "code",
   "execution_count": 13,
   "id": "84415163-cb0f-4ebc-bc7f-bd502c697d4e",
   "metadata": {},
   "outputs": [
    {
     "name": "stdout",
     "output_type": "stream",
     "text": [
      "{'not', 'boring', 'ending', 'really', 'it', 'movie', 'the', 'too', 'but', 'did', 'we', 'as', 'good', 'The', 'like', 'lengthy', 'was', 'and'}\n"
     ]
    }
   ],
   "source": [
    "review_tokens=set(review_1_tokens).union(set(review_2_tokens)).union(set(review_3_tokens))\n",
    "print(review_tokens)"
   ]
  },
  {
   "cell_type": "code",
   "execution_count": 14,
   "id": "e3266f9e-a15d-48a7-9947-d7a0b7324cc5",
   "metadata": {},
   "outputs": [
    {
     "data": {
      "text/plain": [
       "18"
      ]
     },
     "execution_count": 14,
     "metadata": {},
     "output_type": "execute_result"
    }
   ],
   "source": [
    "len(review_tokens)"
   ]
  },
  {
   "cell_type": "code",
   "execution_count": 7,
   "id": "25628289-ac80-488c-99da-01df1a71a46d",
   "metadata": {},
   "outputs": [
    {
     "data": {
      "text/plain": [
       "{'The',\n",
       " 'and',\n",
       " 'as',\n",
       " 'boring',\n",
       " 'but',\n",
       " 'did',\n",
       " 'ending',\n",
       " 'good',\n",
       " 'it',\n",
       " 'lengthy',\n",
       " 'like',\n",
       " 'liked',\n",
       " 'movie',\n",
       " 'not',\n",
       " 'really',\n",
       " 'the',\n",
       " 'too',\n",
       " 'was',\n",
       " 'we'}"
      ]
     },
     "execution_count": 7,
     "metadata": {},
     "output_type": "execute_result"
    }
   ],
   "source": [
    "review_tokens"
   ]
  },
  {
   "cell_type": "code",
   "execution_count": 16,
   "id": "771247ba-c372-48e9-8b01-900da773d11b",
   "metadata": {},
   "outputs": [],
   "source": [
    "review1_dict=dict.fromkeys(review_tokens,0)"
   ]
  },
  {
   "cell_type": "code",
   "execution_count": 17,
   "id": "92cf2c3e-21c5-4ccb-ac2a-80f214f902c5",
   "metadata": {},
   "outputs": [
    {
     "data": {
      "text/plain": [
       "{'not': 0,\n",
       " 'boring': 0,\n",
       " 'ending': 0,\n",
       " 'really': 0,\n",
       " 'it': 0,\n",
       " 'movie': 0,\n",
       " 'the': 0,\n",
       " 'too': 0,\n",
       " 'but': 0,\n",
       " 'did': 0,\n",
       " 'we': 0,\n",
       " 'as': 0,\n",
       " 'good': 0,\n",
       " 'The': 0,\n",
       " 'like': 0,\n",
       " 'lengthy': 0,\n",
       " 'was': 0,\n",
       " 'and': 0}"
      ]
     },
     "execution_count": 17,
     "metadata": {},
     "output_type": "execute_result"
    }
   ],
   "source": [
    "review1_dict"
   ]
  },
  {
   "cell_type": "code",
   "execution_count": 18,
   "id": "d314c53f-6fbd-4407-9c68-3c560c4d1062",
   "metadata": {},
   "outputs": [],
   "source": [
    "review1_dict=dict.fromkeys(review_tokens,0)\n",
    "review2_dict=dict.fromkeys(review_tokens,0)\n",
    "review3_dict=dict.fromkeys(review_tokens,0)"
   ]
  },
  {
   "cell_type": "code",
   "execution_count": 20,
   "id": "44a541c3-07f8-4ebd-a1a7-fa151d47da51",
   "metadata": {},
   "outputs": [],
   "source": [
    "for token in review_1_tokens:\n",
    "    review1_dict[token]+=1"
   ]
  },
  {
   "cell_type": "code",
   "execution_count": 21,
   "id": "04e111dc-f102-40b3-86a2-9bd63f5fbc36",
   "metadata": {},
   "outputs": [
    {
     "data": {
      "text/plain": [
       "{'not': 0,\n",
       " 'boring': 0,\n",
       " 'ending': 0,\n",
       " 'really': 1,\n",
       " 'it': 1,\n",
       " 'movie': 1,\n",
       " 'the': 0,\n",
       " 'too': 0,\n",
       " 'but': 0,\n",
       " 'did': 0,\n",
       " 'we': 1,\n",
       " 'as': 0,\n",
       " 'good': 1,\n",
       " 'The': 1,\n",
       " 'like': 1,\n",
       " 'lengthy': 0,\n",
       " 'was': 1,\n",
       " 'and': 1}"
      ]
     },
     "execution_count": 21,
     "metadata": {},
     "output_type": "execute_result"
    }
   ],
   "source": [
    "review1_dict"
   ]
  },
  {
   "cell_type": "code",
   "execution_count": 22,
   "id": "bd356b3a-5be4-407f-a109-41cb84dc3faf",
   "metadata": {},
   "outputs": [],
   "source": [
    "for token in review_2_tokens:\n",
    "    review2_dict[token]+=1\n",
    "    \n",
    "for token in review_3_tokens:\n",
    "    review3_dict[token]+=1"
   ]
  },
  {
   "cell_type": "code",
   "execution_count": 23,
   "id": "fab5c3dc-f83d-4f0b-b99c-07c74f7482b9",
   "metadata": {},
   "outputs": [],
   "source": [
    "reviews_Dict_DF=pd.DataFrame([review1_dict,review2_dict,review3_dict])"
   ]
  },
  {
   "cell_type": "code",
   "execution_count": 24,
   "id": "f7eff7ef-94fd-4cf2-b846-db4aa79634f6",
   "metadata": {},
   "outputs": [
    {
     "data": {
      "text/html": [
       "<div>\n",
       "<style scoped>\n",
       "    .dataframe tbody tr th:only-of-type {\n",
       "        vertical-align: middle;\n",
       "    }\n",
       "\n",
       "    .dataframe tbody tr th {\n",
       "        vertical-align: top;\n",
       "    }\n",
       "\n",
       "    .dataframe thead th {\n",
       "        text-align: right;\n",
       "    }\n",
       "</style>\n",
       "<table border=\"1\" class=\"dataframe\">\n",
       "  <thead>\n",
       "    <tr style=\"text-align: right;\">\n",
       "      <th></th>\n",
       "      <th>not</th>\n",
       "      <th>boring</th>\n",
       "      <th>ending</th>\n",
       "      <th>really</th>\n",
       "      <th>it</th>\n",
       "      <th>movie</th>\n",
       "      <th>the</th>\n",
       "      <th>too</th>\n",
       "      <th>but</th>\n",
       "      <th>did</th>\n",
       "      <th>we</th>\n",
       "      <th>as</th>\n",
       "      <th>good</th>\n",
       "      <th>The</th>\n",
       "      <th>like</th>\n",
       "      <th>lengthy</th>\n",
       "      <th>was</th>\n",
       "      <th>and</th>\n",
       "    </tr>\n",
       "  </thead>\n",
       "  <tbody>\n",
       "    <tr>\n",
       "      <th>0</th>\n",
       "      <td>0</td>\n",
       "      <td>0</td>\n",
       "      <td>0</td>\n",
       "      <td>1</td>\n",
       "      <td>1</td>\n",
       "      <td>1</td>\n",
       "      <td>0</td>\n",
       "      <td>0</td>\n",
       "      <td>0</td>\n",
       "      <td>0</td>\n",
       "      <td>1</td>\n",
       "      <td>0</td>\n",
       "      <td>1</td>\n",
       "      <td>1</td>\n",
       "      <td>1</td>\n",
       "      <td>0</td>\n",
       "      <td>1</td>\n",
       "      <td>1</td>\n",
       "    </tr>\n",
       "    <tr>\n",
       "      <th>1</th>\n",
       "      <td>0</td>\n",
       "      <td>1</td>\n",
       "      <td>1</td>\n",
       "      <td>0</td>\n",
       "      <td>0</td>\n",
       "      <td>1</td>\n",
       "      <td>2</td>\n",
       "      <td>0</td>\n",
       "      <td>1</td>\n",
       "      <td>0</td>\n",
       "      <td>0</td>\n",
       "      <td>0</td>\n",
       "      <td>1</td>\n",
       "      <td>0</td>\n",
       "      <td>0</td>\n",
       "      <td>0</td>\n",
       "      <td>2</td>\n",
       "      <td>0</td>\n",
       "    </tr>\n",
       "    <tr>\n",
       "      <th>2</th>\n",
       "      <td>1</td>\n",
       "      <td>0</td>\n",
       "      <td>0</td>\n",
       "      <td>0</td>\n",
       "      <td>1</td>\n",
       "      <td>1</td>\n",
       "      <td>1</td>\n",
       "      <td>1</td>\n",
       "      <td>0</td>\n",
       "      <td>1</td>\n",
       "      <td>1</td>\n",
       "      <td>1</td>\n",
       "      <td>0</td>\n",
       "      <td>0</td>\n",
       "      <td>1</td>\n",
       "      <td>1</td>\n",
       "      <td>1</td>\n",
       "      <td>0</td>\n",
       "    </tr>\n",
       "  </tbody>\n",
       "</table>\n",
       "</div>"
      ],
      "text/plain": [
       "   not  boring  ending  really  it  movie  the  too  but  did  we  as  good  \\\n",
       "0    0       0       0       1   1      1    0    0    0    0   1   0     1   \n",
       "1    0       1       1       0   0      1    2    0    1    0   0   0     1   \n",
       "2    1       0       0       0   1      1    1    1    0    1   1   1     0   \n",
       "\n",
       "   The  like  lengthy  was  and  \n",
       "0    1     1        0    1    1  \n",
       "1    0     0        0    2    0  \n",
       "2    0     1        1    1    0  "
      ]
     },
     "execution_count": 24,
     "metadata": {},
     "output_type": "execute_result"
    }
   ],
   "source": [
    "reviews_Dict_DF"
   ]
  },
  {
   "cell_type": "code",
   "execution_count": 32,
   "id": "eda32d87-ee78-4996-a2d2-6ae1bf04ed48",
   "metadata": {},
   "outputs": [],
   "source": [
    "from sklearn.feature_extraction.text import CountVectorizer"
   ]
  },
  {
   "cell_type": "code",
   "execution_count": 33,
   "id": "e1b05560-54b5-42cb-ac19-a062de32d521",
   "metadata": {},
   "outputs": [
    {
     "data": {
      "text/plain": [
       "['The movie was good and we really like it',\n",
       " 'the movie was good but the ending was boring',\n",
       " 'we did not like the movie as it was too lengthy']"
      ]
     },
     "execution_count": 33,
     "metadata": {},
     "output_type": "execute_result"
    }
   ],
   "source": [
    "review_list=[review_1,review_2,review_3]\n",
    "review_list"
   ]
  },
  {
   "cell_type": "code",
   "execution_count": 34,
   "id": "072c2317-24c1-4e53-90a4-3f474d6ce512",
   "metadata": {},
   "outputs": [
    {
     "data": {
      "text/plain": [
       "CountVectorizer()"
      ]
     },
     "execution_count": 34,
     "metadata": {},
     "output_type": "execute_result"
    }
   ],
   "source": [
    "count_vect=CountVectorizer()\n",
    "count_vect"
   ]
  },
  {
   "cell_type": "code",
   "execution_count": 35,
   "id": "5f0febb7-cfb6-4f5f-a932-7b673fb6987d",
   "metadata": {},
   "outputs": [],
   "source": [
    "X_counts=count_vect.fit_transform(review_list)"
   ]
  },
  {
   "cell_type": "code",
   "execution_count": 36,
   "id": "b0129475-3f58-452b-b252-1baf5026f382",
   "metadata": {},
   "outputs": [
    {
     "data": {
      "text/plain": [
       "scipy.sparse.csr.csr_matrix"
      ]
     },
     "execution_count": 36,
     "metadata": {},
     "output_type": "execute_result"
    }
   ],
   "source": [
    "type(X_counts)"
   ]
  },
  {
   "cell_type": "code",
   "execution_count": 37,
   "id": "5eb0ce58-9709-4f87-8139-4e6da91731fe",
   "metadata": {},
   "outputs": [
    {
     "data": {
      "text/plain": [
       "['and',\n",
       " 'as',\n",
       " 'boring',\n",
       " 'but',\n",
       " 'did',\n",
       " 'ending',\n",
       " 'good',\n",
       " 'it',\n",
       " 'lengthy',\n",
       " 'like',\n",
       " 'movie',\n",
       " 'not',\n",
       " 'really',\n",
       " 'the',\n",
       " 'too',\n",
       " 'was',\n",
       " 'we']"
      ]
     },
     "execution_count": 37,
     "metadata": {},
     "output_type": "execute_result"
    }
   ],
   "source": [
    "X_names=count_vect.get_feature_names()\n",
    "X_names"
   ]
  },
  {
   "cell_type": "code",
   "execution_count": 39,
   "id": "9ad95036-2bbc-4e51-a8f1-b5d35eb61f1a",
   "metadata": {},
   "outputs": [
    {
     "data": {
      "text/html": [
       "<div>\n",
       "<style scoped>\n",
       "    .dataframe tbody tr th:only-of-type {\n",
       "        vertical-align: middle;\n",
       "    }\n",
       "\n",
       "    .dataframe tbody tr th {\n",
       "        vertical-align: top;\n",
       "    }\n",
       "\n",
       "    .dataframe thead th {\n",
       "        text-align: right;\n",
       "    }\n",
       "</style>\n",
       "<table border=\"1\" class=\"dataframe\">\n",
       "  <thead>\n",
       "    <tr style=\"text-align: right;\">\n",
       "      <th></th>\n",
       "      <th>and</th>\n",
       "      <th>as</th>\n",
       "      <th>boring</th>\n",
       "      <th>but</th>\n",
       "      <th>did</th>\n",
       "      <th>ending</th>\n",
       "      <th>good</th>\n",
       "      <th>it</th>\n",
       "      <th>lengthy</th>\n",
       "      <th>like</th>\n",
       "      <th>movie</th>\n",
       "      <th>not</th>\n",
       "      <th>really</th>\n",
       "      <th>the</th>\n",
       "      <th>too</th>\n",
       "      <th>was</th>\n",
       "      <th>we</th>\n",
       "    </tr>\n",
       "  </thead>\n",
       "  <tbody>\n",
       "    <tr>\n",
       "      <th>0</th>\n",
       "      <td>1</td>\n",
       "      <td>0</td>\n",
       "      <td>0</td>\n",
       "      <td>0</td>\n",
       "      <td>0</td>\n",
       "      <td>0</td>\n",
       "      <td>1</td>\n",
       "      <td>1</td>\n",
       "      <td>0</td>\n",
       "      <td>1</td>\n",
       "      <td>1</td>\n",
       "      <td>0</td>\n",
       "      <td>1</td>\n",
       "      <td>1</td>\n",
       "      <td>0</td>\n",
       "      <td>1</td>\n",
       "      <td>1</td>\n",
       "    </tr>\n",
       "    <tr>\n",
       "      <th>1</th>\n",
       "      <td>0</td>\n",
       "      <td>0</td>\n",
       "      <td>1</td>\n",
       "      <td>1</td>\n",
       "      <td>0</td>\n",
       "      <td>1</td>\n",
       "      <td>1</td>\n",
       "      <td>0</td>\n",
       "      <td>0</td>\n",
       "      <td>0</td>\n",
       "      <td>1</td>\n",
       "      <td>0</td>\n",
       "      <td>0</td>\n",
       "      <td>2</td>\n",
       "      <td>0</td>\n",
       "      <td>2</td>\n",
       "      <td>0</td>\n",
       "    </tr>\n",
       "    <tr>\n",
       "      <th>2</th>\n",
       "      <td>0</td>\n",
       "      <td>1</td>\n",
       "      <td>0</td>\n",
       "      <td>0</td>\n",
       "      <td>1</td>\n",
       "      <td>0</td>\n",
       "      <td>0</td>\n",
       "      <td>1</td>\n",
       "      <td>1</td>\n",
       "      <td>1</td>\n",
       "      <td>1</td>\n",
       "      <td>1</td>\n",
       "      <td>0</td>\n",
       "      <td>1</td>\n",
       "      <td>1</td>\n",
       "      <td>1</td>\n",
       "      <td>1</td>\n",
       "    </tr>\n",
       "  </tbody>\n",
       "</table>\n",
       "</div>"
      ],
      "text/plain": [
       "   and  as  boring  but  did  ending  good  it  lengthy  like  movie  not  \\\n",
       "0    1   0       0    0    0       0     1   1        0     1      1    0   \n",
       "1    0   0       1    1    0       1     1   0        0     0      1    0   \n",
       "2    0   1       0    0    1       0     0   1        1     1      1    1   \n",
       "\n",
       "   really  the  too  was  we  \n",
       "0       1    1    0    1   1  \n",
       "1       0    2    0    2   0  \n",
       "2       0    1    1    1   1  "
      ]
     },
     "execution_count": 39,
     "metadata": {},
     "output_type": "execute_result"
    }
   ],
   "source": [
    "a=pd.DataFrame(X_counts.toarray(),columns=X_names)\n",
    "a"
   ]
  },
  {
   "cell_type": "code",
   "execution_count": 40,
   "id": "573efb6d-354c-4cad-86c5-0842fd13af6c",
   "metadata": {},
   "outputs": [],
   "source": [
    "from sklearn.feature_extraction.text import TfidfVectorizer"
   ]
  },
  {
   "cell_type": "code",
   "execution_count": 41,
   "id": "92c76c56-b5d3-4b07-9172-b65ef82f4d1c",
   "metadata": {},
   "outputs": [],
   "source": [
    "tf_vect=TfidfVectorizer(min_df=1,lowercase=True,stop_words=\"english\")"
   ]
  },
  {
   "cell_type": "code",
   "execution_count": 42,
   "id": "7529f0b9-721c-41b3-9e4a-7192ae90de03",
   "metadata": {},
   "outputs": [],
   "source": [
    "tf_matrix=tf_vect.fit_transform(review_list)"
   ]
  },
  {
   "cell_type": "code",
   "execution_count": 43,
   "id": "a8f06432-0fed-4c02-8508-2a4997fbfb8c",
   "metadata": {},
   "outputs": [
    {
     "data": {
      "text/plain": [
       "scipy.sparse.csr.csr_matrix"
      ]
     },
     "execution_count": 43,
     "metadata": {},
     "output_type": "execute_result"
    }
   ],
   "source": [
    "type(tf_matrix)"
   ]
  },
  {
   "cell_type": "code",
   "execution_count": 44,
   "id": "32378784-4a0b-46a4-85df-9adbb2cdaffd",
   "metadata": {},
   "outputs": [
    {
     "data": {
      "text/plain": [
       "(3, 8)"
      ]
     },
     "execution_count": 44,
     "metadata": {},
     "output_type": "execute_result"
    }
   ],
   "source": [
    "tf_matrix.shape"
   ]
  },
  {
   "cell_type": "code",
   "execution_count": 45,
   "id": "274e2dc5-e9f3-407a-9cf9-220c17445078",
   "metadata": {},
   "outputs": [],
   "source": [
    "tf_names=tf_vect.get_feature_names()"
   ]
  },
  {
   "cell_type": "code",
   "execution_count": 46,
   "id": "1a639ebe-e741-46b5-9b59-b6ff46dce46c",
   "metadata": {},
   "outputs": [
    {
     "data": {
      "text/plain": [
       "['boring', 'did', 'ending', 'good', 'lengthy', 'like', 'movie', 'really']"
      ]
     },
     "execution_count": 46,
     "metadata": {},
     "output_type": "execute_result"
    }
   ],
   "source": [
    "tf_names"
   ]
  },
  {
   "cell_type": "code",
   "execution_count": 47,
   "id": "57fcd2b3-f403-41b3-af69-6cde9a579cbb",
   "metadata": {},
   "outputs": [],
   "source": [
    "tf_df=pd.DataFrame(tf_matrix.toarray(),columns=tf_names)"
   ]
  },
  {
   "cell_type": "code",
   "execution_count": 48,
   "id": "d3459624-54a9-46cb-a7f4-793a7b1e721e",
   "metadata": {},
   "outputs": [
    {
     "data": {
      "text/html": [
       "<div>\n",
       "<style scoped>\n",
       "    .dataframe tbody tr th:only-of-type {\n",
       "        vertical-align: middle;\n",
       "    }\n",
       "\n",
       "    .dataframe tbody tr th {\n",
       "        vertical-align: top;\n",
       "    }\n",
       "\n",
       "    .dataframe thead th {\n",
       "        text-align: right;\n",
       "    }\n",
       "</style>\n",
       "<table border=\"1\" class=\"dataframe\">\n",
       "  <thead>\n",
       "    <tr style=\"text-align: right;\">\n",
       "      <th></th>\n",
       "      <th>boring</th>\n",
       "      <th>did</th>\n",
       "      <th>ending</th>\n",
       "      <th>good</th>\n",
       "      <th>lengthy</th>\n",
       "      <th>like</th>\n",
       "      <th>movie</th>\n",
       "      <th>really</th>\n",
       "    </tr>\n",
       "  </thead>\n",
       "  <tbody>\n",
       "    <tr>\n",
       "      <th>0</th>\n",
       "      <td>0.000000</td>\n",
       "      <td>0.000000</td>\n",
       "      <td>0.000000</td>\n",
       "      <td>0.480458</td>\n",
       "      <td>0.000000</td>\n",
       "      <td>0.480458</td>\n",
       "      <td>0.373119</td>\n",
       "      <td>0.631745</td>\n",
       "    </tr>\n",
       "    <tr>\n",
       "      <th>1</th>\n",
       "      <td>0.584483</td>\n",
       "      <td>0.000000</td>\n",
       "      <td>0.584483</td>\n",
       "      <td>0.444514</td>\n",
       "      <td>0.000000</td>\n",
       "      <td>0.000000</td>\n",
       "      <td>0.345205</td>\n",
       "      <td>0.000000</td>\n",
       "    </tr>\n",
       "    <tr>\n",
       "      <th>2</th>\n",
       "      <td>0.000000</td>\n",
       "      <td>0.584483</td>\n",
       "      <td>0.000000</td>\n",
       "      <td>0.000000</td>\n",
       "      <td>0.584483</td>\n",
       "      <td>0.444514</td>\n",
       "      <td>0.345205</td>\n",
       "      <td>0.000000</td>\n",
       "    </tr>\n",
       "  </tbody>\n",
       "</table>\n",
       "</div>"
      ],
      "text/plain": [
       "     boring       did    ending      good   lengthy      like     movie  \\\n",
       "0  0.000000  0.000000  0.000000  0.480458  0.000000  0.480458  0.373119   \n",
       "1  0.584483  0.000000  0.584483  0.444514  0.000000  0.000000  0.345205   \n",
       "2  0.000000  0.584483  0.000000  0.000000  0.584483  0.444514  0.345205   \n",
       "\n",
       "     really  \n",
       "0  0.631745  \n",
       "1  0.000000  \n",
       "2  0.000000  "
      ]
     },
     "execution_count": 48,
     "metadata": {},
     "output_type": "execute_result"
    }
   ],
   "source": [
    "tf_df"
   ]
  },
  {
   "cell_type": "markdown",
   "id": "3344af9f-e0a5-495d-8b4d-b3e171174c82",
   "metadata": {},
   "source": [
    "#### Text Classification Using Naives Bayes"
   ]
  },
  {
   "cell_type": "code",
   "execution_count": 49,
   "id": "6edda063-5d26-45f6-b4d1-981f8f133e61",
   "metadata": {},
   "outputs": [
    {
     "data": {
      "text/plain": [
       "['alt.atheism',\n",
       " 'comp.graphics',\n",
       " 'comp.os.ms-windows.misc',\n",
       " 'comp.sys.ibm.pc.hardware',\n",
       " 'comp.sys.mac.hardware',\n",
       " 'comp.windows.x',\n",
       " 'misc.forsale',\n",
       " 'rec.autos',\n",
       " 'rec.motorcycles',\n",
       " 'rec.sport.baseball',\n",
       " 'rec.sport.hockey',\n",
       " 'sci.crypt',\n",
       " 'sci.electronics',\n",
       " 'sci.med',\n",
       " 'sci.space',\n",
       " 'soc.religion.christian',\n",
       " 'talk.politics.guns',\n",
       " 'talk.politics.mideast',\n",
       " 'talk.politics.misc',\n",
       " 'talk.religion.misc']"
      ]
     },
     "execution_count": 49,
     "metadata": {},
     "output_type": "execute_result"
    }
   ],
   "source": [
    "#load the necessary libraries\n",
    "%matplotlib inline\n",
    "import numpy as np\n",
    "import seaborn as sns; sns.set()\n",
    "import matplotlib.pyplot as plt\n",
    "from sklearn.datasets import fetch_20newsgroups\n",
    "data=fetch_20newsgroups()\n",
    "data.target_names"
   ]
  },
  {
   "cell_type": "code",
   "execution_count": 50,
   "id": "0f7ebce3-e8c3-42cb-a2f0-d628936e8925",
   "metadata": {},
   "outputs": [
    {
     "name": "stdout",
     "output_type": "stream",
     "text": [
      "From: dfo@vttoulu.tko.vtt.fi (Foxvog Douglas)\n",
      "Subject: Re: Rewording the Second Amendment (ideas)\n",
      "Organization: VTT\n",
      "Lines: 58\n",
      "\n",
      "In article <1r1eu1$4t@transfer.stratus.com> cdt@sw.stratus.com (C. D. Tavares) writes:\n",
      ">In article <1993Apr20.083057.16899@ousrvr.oulu.fi>, dfo@vttoulu.tko.vtt.fi (Foxvog Douglas) writes:\n",
      ">> In article <1qv87v$4j3@transfer.stratus.com> cdt@sw.stratus.com (C. D. Tavares) writes:\n",
      ">> >In article <C5n3GI.F8F@ulowell.ulowell.edu>, jrutledg@cs.ulowell.edu (John Lawrence Rutledge) writes:\n",
      ">\n",
      ">> >> The massive destructive power of many modern weapons, makes the\n",
      ">> >> cost of an accidental or crimial usage of these weapons to great.\n",
      ">> >> The weapons of mass destruction need to be in the control of\n",
      ">> >> the government only.  Individual access would result in the\n",
      ">> >> needless deaths of millions.  This makes the right of the people\n",
      ">> >> to keep and bear many modern weapons non-existant.\n",
      "\n",
      ">> >Thanks for stating where you're coming from.  Needless to say, I\n",
      ">> >disagree on every count.\n",
      "\n",
      ">> You believe that individuals should have the right to own weapons of\n",
      ">> mass destruction?  I find it hard to believe that you would support a \n",
      ">> neighbor's right to keep nuclear weapons, biological weapons, and nerve\n",
      ">> gas on his/her property.  \n",
      "\n",
      ">> If we cannot even agree on keeping weapons of mass destruction out of\n",
      ">> the hands of individuals, can there be any hope for us?\n",
      "\n",
      ">I don't sign any blank checks.\n",
      "\n",
      "Of course.  The term must be rigidly defined in any bill.\n",
      "\n",
      ">When Doug Foxvog says \"weapons of mass destruction,\" he means CBW and\n",
      ">nukes.  When Sarah Brady says \"weapons of mass destruction\" she means\n",
      ">Street Sweeper shotguns and semi-automatic SKS rifles.  \n",
      "\n",
      "I doubt she uses this term for that.  You are using a quote allegedly\n",
      "from her, can you back it up?\n",
      "\n",
      ">When John\n",
      ">Lawrence Rutledge says \"weapons of mass destruction,\" and then immediately\n",
      ">follows it with:\n",
      "\n",
      ">>> The US has thousands of people killed each year by handguns,\n",
      ">>> this number can easily be reduced by putting reasonable restrictions\n",
      ">>> on them.\n",
      "\n",
      ">...what does Rutledge mean by the term?\n",
      "\n",
      "I read the article as presenting first an argument about weapons of mass\n",
      "destruction (as commonly understood) and then switching to other topics.\n",
      "The first point evidently was to show that not all weapons should be\n",
      "allowed, and then the later analysis was, given this understanding, to\n",
      "consider another class.\n",
      "\n",
      ">cdt@rocket.sw.stratus.com   --If you believe that I speak for my company,\n",
      ">OR cdt@vos.stratus.com        write today for my special Investors' Packet...\n",
      "\n",
      "\n",
      "\n",
      "-- \n",
      "doug foxvog\n",
      "douglas.foxvog@vtt.fi\n",
      "\n"
     ]
    }
   ],
   "source": [
    "#defining all the categories\n",
    "categories=['alt.atheism', 'comp.graphics', 'comp.os.ms-windows.misc', 'comp.sys.ibm.pc.hardware',\n",
    "            'comp.sys.mac.hardware', 'comp.windows.x', \"misc.forsale\",\n",
    "            'rec.autos', 'rec.motorcycles','rec.sport.baseball',\n",
    "            'rec.sport.hockey', 'sci.crypt', 'sci.electronics',\n",
    "            'sci.med','sci.space', 'soc.religion.christian',\n",
    "            'talk.politics.guns', 'talk.politics.mideast', \n",
    "            'talk.politics.misc', 'talk.religion.misc']\n",
    "#Training the data on these categories\n",
    "train=fetch_20newsgroups(subset=\"train\", categories=categories)\n",
    "#testing the data for these categories\n",
    "test=fetch_20newsgroups(subset=\"test\", categories=categories)\n",
    "\n",
    "#printing training data\n",
    "print(train.data[5])"
   ]
  },
  {
   "cell_type": "code",
   "execution_count": 52,
   "id": "7a5e53fd-e468-423c-b5d2-ee610ffccb2e",
   "metadata": {},
   "outputs": [],
   "source": [
    "#importing necessary packages\n",
    "from sklearn.feature_extraction.text import TfidfVectorizer\n",
    "from sklearn.naive_bayes import MultinomialNB\n",
    "from sklearn.pipeline import make_pipeline\n",
    "#creating a model based on Multinomial Naive Bayes\n",
    "model=make_pipeline(TfidfVectorizer(), MultinomialNB())\n",
    "#Training the model with train data\n",
    "model.fit(train.data, train.target)\n",
    "#creating labels for the test data\n",
    "labels=model.predict(test.data)"
   ]
  },
  {
   "cell_type": "code",
   "execution_count": 53,
   "id": "222e21b9-4329-486c-950d-8979ac69f4ae",
   "metadata": {},
   "outputs": [
    {
     "data": {
      "text/plain": [
       "Text(89.133125, 0.5, 'predicted label')"
      ]
     },
     "execution_count": 53,
     "metadata": {},
     "output_type": "execute_result"
    },
    {
     "data": {
      "image/png": "[encoded data removed]",
      "text/plain": [
       "<Figure size 432x288 with 1 Axes>"
      ]
     },
     "metadata": {},
     "output_type": "display_data"
    }
   ],
   "source": [
    "#creating confusion matrix and heat map\n",
    "from sklearn.metrics import confusion_matrix\n",
    "mat=confusion_matrix(test.target, labels)\n",
    "sns.heatmap(mat.T, square=True, annot=True, fmt=\"d\", cbar=False, xticklabels=train.target_names, yticklabels=train.target_names)\n",
    "#plotting Heatmap of confusion matrix\n",
    "plt.xlabel(\"true label\")\n",
    "plt.ylabel(\"predicted label\")"
   ]
  },
  {
   "cell_type": "code",
   "execution_count": 54,
   "id": "44293e13-21d5-41c5-96e3-a4900d15a985",
   "metadata": {},
   "outputs": [],
   "source": [
    "#predicting category on new data based on trained model\n",
    "def predict_category(s, train=train, model=model):\n",
    "    pred=model.predict([s])\n",
    "    return train.target_names[pred[0]]"
   ]
  },
  {
   "cell_type": "code",
   "execution_count": 55,
   "id": "7ec425f8-ac7c-4d95-9673-d84d937b3fe1",
   "metadata": {},
   "outputs": [
    {
     "data": {
      "text/plain": [
       "'soc.religion.christian'"
      ]
     },
     "execution_count": 55,
     "metadata": {},
     "output_type": "execute_result"
    }
   ],
   "source": [
    "predict_category(\"Jesus Christ\")"
   ]
  },
  {
   "cell_type": "code",
   "execution_count": 56,
   "id": "a0341c23-b9f5-41f4-8e8f-aeba946bd6ea",
   "metadata": {},
   "outputs": [
    {
     "data": {
      "text/plain": [
       "'sci.space'"
      ]
     },
     "execution_count": 56,
     "metadata": {},
     "output_type": "execute_result"
    }
   ],
   "source": [
    "predict_category(\"Sending load to International Space Station\")"
   ]
  },
  {
   "cell_type": "code",
   "execution_count": 57,
   "id": "05211597-6d25-4988-9902-5de3e0b1b90b",
   "metadata": {},
   "outputs": [
    {
     "data": {
      "text/plain": [
       "'rec.autos'"
      ]
     },
     "execution_count": 57,
     "metadata": {},
     "output_type": "execute_result"
    }
   ],
   "source": [
    "predict_category(\"BMW is better than Audi\")"
   ]
  },
  {
   "cell_type": "code",
   "execution_count": 58,
   "id": "c224af66-7c74-4996-8ac6-ec9967909afe",
   "metadata": {},
   "outputs": [
    {
     "data": {
      "text/plain": [
       "'talk.politics.misc'"
      ]
     },
     "execution_count": 58,
     "metadata": {},
     "output_type": "execute_result"
    }
   ],
   "source": [
    "predict_category(\"President of India\")"
   ]
  },
  {
   "cell_type": "code",
   "execution_count": null,
   "id": "52e2b067-0ac9-4085-9fc5-da629d3e5a0a",
   "metadata": {},
   "outputs": [],
   "source": []
  }
 ],
 "metadata": {
  "kernelspec": {
   "display_name": "Python 3 (ipykernel)",
   "language": "python",
   "name": "python3"
  },
  "language_info": {
   "codemirror_mode": {
    "name": "ipython",
    "version": 3
   },
   "file_extension": ".py",
   "mimetype": "text/x-python",
   "name": "python",
   "nbconvert_exporter": "python",
   "pygments_lexer": "ipython3",
   "version": "3.9.7"
  }
 },
 "nbformat": 4,
 "nbformat_minor": 5
}
