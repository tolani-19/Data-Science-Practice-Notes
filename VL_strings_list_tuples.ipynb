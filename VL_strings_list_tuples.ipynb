{
 "cells": [
  {
   "cell_type": "markdown",
   "id": "18a038f4-3962-4c0d-b84d-85387a9df761",
   "metadata": {},
   "source": [
    "# Strings"
   ]
  },
  {
   "cell_type": "markdown",
   "id": "4129ed77-78e7-4f34-b7aa-9d6124070ec8",
   "metadata": {},
   "source": [
    "## strings concatention"
   ]
  },
  {
   "cell_type": "code",
   "execution_count": 11,
   "id": "25ca30c3-4d58-44cd-9e37-d9d52ddf9771",
   "metadata": {},
   "outputs": [],
   "source": [
    "a=\"hello\"\n",
    "b=\"there\""
   ]
  },
  {
   "cell_type": "code",
   "execution_count": 63,
   "id": "3971465f-a918-47ca-ae4f-0a9bbf208b20",
   "metadata": {},
   "outputs": [
    {
     "name": "stdout",
     "output_type": "stream",
     "text": [
      "hellothere\n"
     ]
    }
   ],
   "source": [
    "print(a+b)"
   ]
  },
  {
   "cell_type": "code",
   "execution_count": 15,
   "id": "6bf54516-7b9e-41f1-bada-ae4eb0e6198c",
   "metadata": {},
   "outputs": [
    {
     "name": "stdout",
     "output_type": "stream",
     "text": [
      "hello  there\n"
     ]
    }
   ],
   "source": [
    "print( a,\"\",b )"
   ]
  },
  {
   "cell_type": "markdown",
   "id": "4071738d-df3f-443f-8f1d-fc5358cb2a10",
   "metadata": {
    "tags": []
   },
   "source": [
    "## looking inside strings"
   ]
  },
  {
   "cell_type": "code",
   "execution_count": 64,
   "id": "79d724f5-2a97-484a-bd87-fe08894efa5c",
   "metadata": {},
   "outputs": [
    {
     "name": "stdout",
     "output_type": "stream",
     "text": [
      "a\n"
     ]
    }
   ],
   "source": [
    "fruit=\"banana\"\n",
    "letter=fruit[1]\n",
    "print(letter)"
   ]
  },
  {
   "cell_type": "code",
   "execution_count": 65,
   "id": "b1b059cf-079b-4834-9830-497fedf0ec98",
   "metadata": {},
   "outputs": [
    {
     "name": "stdout",
     "output_type": "stream",
     "text": [
      "n\n"
     ]
    }
   ],
   "source": [
    "x=3\n",
    "w=fruit[x-1]\n",
    "print(w)"
   ]
  },
  {
   "cell_type": "markdown",
   "id": "dfc018e5-121e-43a4-b280-4a79cf5f4287",
   "metadata": {},
   "source": [
    "## looping through strings"
   ]
  },
  {
   "cell_type": "code",
   "execution_count": 67,
   "id": "85944f6b-e999-4f76-8ecd-7f037f033f8a",
   "metadata": {},
   "outputs": [
    {
     "name": "stdout",
     "output_type": "stream",
     "text": [
      "b\n",
      "a\n",
      "n\n",
      "a\n",
      "n\n",
      "a\n"
     ]
    }
   ],
   "source": [
    "fruit='banana'\n",
    "for letter in fruit:\n",
    "    print(letter)"
   ]
  },
  {
   "cell_type": "markdown",
   "id": "78d4a9c9-b0e0-4420-81f6-81a77298c6b0",
   "metadata": {},
   "source": [
    "## length in strings"
   ]
  },
  {
   "cell_type": "code",
   "execution_count": 69,
   "id": "46e2c704-52d6-4d26-b525-9500c595ecc2",
   "metadata": {},
   "outputs": [
    {
     "name": "stdout",
     "output_type": "stream",
     "text": [
      "6\n"
     ]
    }
   ],
   "source": [
    "fruits=\"banana\"\n",
    "print(len(fruits))"
   ]
  },
  {
   "cell_type": "markdown",
   "id": "72110088-19dc-4ddb-877e-c1ae8f2a4f0e",
   "metadata": {},
   "source": [
    "## using in as a logical operator"
   ]
  },
  {
   "cell_type": "code",
   "execution_count": 72,
   "id": "d3a72cb9-c796-475a-87e2-5af8130421cb",
   "metadata": {},
   "outputs": [
    {
     "data": {
      "text/plain": [
       "True"
      ]
     },
     "execution_count": 72,
     "metadata": {},
     "output_type": "execute_result"
    }
   ],
   "source": [
    "fruit=\"banana\"\n",
    "\"n\" in fruit"
   ]
  },
  {
   "cell_type": "code",
   "execution_count": 73,
   "id": "5b010a11-3c97-4251-aa8a-9e445723d552",
   "metadata": {},
   "outputs": [
    {
     "data": {
      "text/plain": [
       "False"
      ]
     },
     "execution_count": 73,
     "metadata": {},
     "output_type": "execute_result"
    }
   ],
   "source": [
    "'m' in fruit"
   ]
  },
  {
   "cell_type": "code",
   "execution_count": 74,
   "id": "2503dbfe-d4a3-4218-9eb9-6f336caf5623",
   "metadata": {},
   "outputs": [
    {
     "name": "stdout",
     "output_type": "stream",
     "text": [
      "found it\n"
     ]
    }
   ],
   "source": [
    "if \"a\" in fruit:\n",
    "    print(\"found it\")"
   ]
  },
  {
   "cell_type": "markdown",
   "id": "620b9960-7d0b-4f9c-886b-90985dcc9c8f",
   "metadata": {
    "jp-MarkdownHeadingCollapsed": true,
    "tags": []
   },
   "source": [
    "## string library"
   ]
  },
  {
   "cell_type": "code",
   "execution_count": 77,
   "id": "fa09013f-d552-4cad-8905-9bc992860844",
   "metadata": {},
   "outputs": [
    {
     "name": "stdout",
     "output_type": "stream",
     "text": [
      "hello tolani\n"
     ]
    }
   ],
   "source": [
    "greet= \"Hello Tolani\"\n",
    "zap= greet.lower()\n",
    "print(zap)"
   ]
  },
  {
   "cell_type": "markdown",
   "id": "5f8fdb3d-33ee-44db-873e-7900bf9dc4a1",
   "metadata": {},
   "source": [
    "## making everything uppercase"
   ]
  },
  {
   "cell_type": "code",
   "execution_count": 79,
   "id": "07636c66-1243-455d-bf65-b145db1aff9a",
   "metadata": {},
   "outputs": [
    {
     "name": "stdout",
     "output_type": "stream",
     "text": [
      "HELLO TOLANI\n"
     ]
    }
   ],
   "source": [
    "greet=\"hello tolani\"\n",
    "zap= greet.upper()\n",
    "print(zap)"
   ]
  },
  {
   "cell_type": "markdown",
   "id": "2aece936-d236-4afe-a4f1-06fb1d8a72ac",
   "metadata": {},
   "source": [
    "## search and replace"
   ]
  },
  {
   "cell_type": "code",
   "execution_count": 17,
   "id": "6e2e413a-11ea-487d-8672-8560b24a930c",
   "metadata": {},
   "outputs": [],
   "source": [
    "greet= \"Hello Mercy\""
   ]
  },
  {
   "cell_type": "code",
   "execution_count": 18,
   "id": "3f9c9b19-4580-4e1c-8870-cfb67fde7804",
   "metadata": {},
   "outputs": [],
   "source": [
    "sand= greet.replace(\"Mercy\",\"Tolani\")"
   ]
  },
  {
   "cell_type": "code",
   "execution_count": 19,
   "id": "b74437d1-bacc-4c2c-a939-237466996a93",
   "metadata": {},
   "outputs": [
    {
     "name": "stdout",
     "output_type": "stream",
     "text": [
      "Hello Tolani\n"
     ]
    }
   ],
   "source": [
    "print(sand)"
   ]
  },
  {
   "cell_type": "code",
   "execution_count": 20,
   "id": "fde3ec1b-0b66-455e-8b40-bc3cc801ba19",
   "metadata": {},
   "outputs": [],
   "source": [
    "sand= greet.replace(\"o\",\"m\")"
   ]
  },
  {
   "cell_type": "code",
   "execution_count": 21,
   "id": "446e1857-980a-4d6c-bead-f7379befe9a2",
   "metadata": {},
   "outputs": [
    {
     "name": "stdout",
     "output_type": "stream",
     "text": [
      "Hellm Mercy\n"
     ]
    }
   ],
   "source": [
    "print(sand)"
   ]
  },
  {
   "cell_type": "markdown",
   "id": "0d75d8fd-20de-445f-a479-afb684802d9b",
   "metadata": {},
   "source": [
    "## strings"
   ]
  },
  {
   "cell_type": "code",
   "execution_count": 28,
   "id": "8ee49cb3-742f-424b-82f8-45e1789f4e5f",
   "metadata": {},
   "outputs": [],
   "source": [
    "s= \"Jace Norman\""
   ]
  },
  {
   "cell_type": "code",
   "execution_count": 30,
   "id": "4ebe0d8d-43c1-47b9-a804-16deee2a40f2",
   "metadata": {},
   "outputs": [
    {
     "name": "stdout",
     "output_type": "stream",
     "text": [
      "Jace\n"
     ]
    }
   ],
   "source": [
    "print(s[0:4])"
   ]
  },
  {
   "cell_type": "markdown",
   "id": "3650d7c5-2afa-406c-a950-cc7135efd2a6",
   "metadata": {},
   "source": [
    "# list"
   ]
  },
  {
   "cell_type": "markdown",
   "id": "e51ad01c-758f-4fc7-b13f-41c2d2cd38a9",
   "metadata": {},
   "source": [
    "## creating lists"
   ]
  },
  {
   "cell_type": "markdown",
   "id": "7af3d4c2-d954-4d8a-8194-d1eac1f09f33",
   "metadata": {},
   "source": [
    "### list containing numbers"
   ]
  },
  {
   "cell_type": "code",
   "execution_count": 87,
   "id": "ee6fcc3c-d542-4dce-aff2-346e78ad8954",
   "metadata": {},
   "outputs": [
    {
     "name": "stdout",
     "output_type": "stream",
     "text": [
      "[1, 5, 7, 10]\n"
     ]
    }
   ],
   "source": [
    "num=[1, 5, 7, 10]\n",
    "print(num)"
   ]
  },
  {
   "cell_type": "markdown",
   "id": "9e07145f-4acd-4250-b0f7-7f495b496b45",
   "metadata": {},
   "source": [
    "### list containing letters"
   ]
  },
  {
   "cell_type": "code",
   "execution_count": 91,
   "id": "ff2b1575-578e-4b59-8410-979feb92bada",
   "metadata": {},
   "outputs": [
    {
     "name": "stdout",
     "output_type": "stream",
     "text": [
      "['a', 'e', 'i', 'o', 'u']\n"
     ]
    }
   ],
   "source": [
    "letters=['a', 'e', 'i', 'o', 'u']\n",
    "print(letters)"
   ]
  },
  {
   "cell_type": "markdown",
   "id": "aec4d6cd-f5cb-4f3f-aa45-0e62e4ce733b",
   "metadata": {},
   "source": [
    "### list containing strings"
   ]
  },
  {
   "cell_type": "code",
   "execution_count": 92,
   "id": "13257c1d-9b20-49be-9084-f4d3156c5d7e",
   "metadata": {},
   "outputs": [
    {
     "name": "stdout",
     "output_type": "stream",
     "text": [
      "['get', 'ahead', 'stop', 'please']\n"
     ]
    }
   ],
   "source": [
    "stg=[\"get\", \"ahead\", \"stop\", \"please\"]\n",
    "print(stg)"
   ]
  },
  {
   "cell_type": "markdown",
   "id": "753aa0d2-e0b0-48f3-81d8-1c9575826673",
   "metadata": {},
   "source": [
    "### list containing different types"
   ]
  },
  {
   "cell_type": "code",
   "execution_count": 93,
   "id": "6d7ca887-c7c9-426e-8e36-3ce7cbf3d420",
   "metadata": {},
   "outputs": [
    {
     "name": "stdout",
     "output_type": "stream",
     "text": [
      "[1, 'afraid', 'bicycle', 'e', 'f']\n"
     ]
    }
   ],
   "source": [
    "mix=[1, \"afraid\", \"bicycle\", 'e', 'f']\n",
    "print(mix)"
   ]
  },
  {
   "cell_type": "markdown",
   "id": "202a75a9-10b3-4375-93bf-f3a1ce63569c",
   "metadata": {},
   "source": [
    "### list containing list"
   ]
  },
  {
   "cell_type": "code",
   "execution_count": 94,
   "id": "932f3512-b413-428e-aad8-761df8d4c0e9",
   "metadata": {},
   "outputs": [
    {
     "name": "stdout",
     "output_type": "stream",
     "text": [
      "[[1, 2], ['e', 'h']]\n"
     ]
    }
   ],
   "source": [
    "mat=[[1, 2],['e', 'h']]\n",
    "print(mat)"
   ]
  },
  {
   "cell_type": "markdown",
   "id": "d70c367f-38fc-499c-a715-8e4c02effd36",
   "metadata": {},
   "source": [
    "## accesing elements in a list"
   ]
  },
  {
   "cell_type": "code",
   "execution_count": 95,
   "id": "5a8049d3-650f-4a03-aae0-11a4ae5a1dd3",
   "metadata": {},
   "outputs": [
    {
     "name": "stdout",
     "output_type": "stream",
     "text": [
      "[1, 'afraid', 'bicycle', 'e', 'f']\n"
     ]
    }
   ],
   "source": [
    "print(mix)"
   ]
  },
  {
   "cell_type": "code",
   "execution_count": 96,
   "id": "3ee04cde-871a-4e9f-8a0c-84657cd0347c",
   "metadata": {},
   "outputs": [
    {
     "data": {
      "text/plain": [
       "'e'"
      ]
     },
     "execution_count": 96,
     "metadata": {},
     "output_type": "execute_result"
    }
   ],
   "source": [
    "mix[3]"
   ]
  },
  {
   "cell_type": "code",
   "execution_count": 97,
   "id": "9a10cd7c-a083-49a6-928e-112a804e75cb",
   "metadata": {},
   "outputs": [
    {
     "data": {
      "text/plain": [
       "'f'"
      ]
     },
     "execution_count": 97,
     "metadata": {},
     "output_type": "execute_result"
    }
   ],
   "source": [
    "mix[-1]"
   ]
  },
  {
   "cell_type": "code",
   "execution_count": 98,
   "id": "e7f83f04-b010-44a6-8baf-766e01bcf8b8",
   "metadata": {},
   "outputs": [
    {
     "data": {
      "text/plain": [
       "[1, 'afraid']"
      ]
     },
     "execution_count": 98,
     "metadata": {},
     "output_type": "execute_result"
    }
   ],
   "source": [
    "mix[0:2]"
   ]
  },
  {
   "cell_type": "code",
   "execution_count": 99,
   "id": "05bf0404-49a0-4169-b0b1-15b8e1799ff2",
   "metadata": {},
   "outputs": [
    {
     "data": {
      "text/plain": [
       "[1, 'afraid', 'bicycle', 'e', 'f']"
      ]
     },
     "execution_count": 99,
     "metadata": {},
     "output_type": "execute_result"
    }
   ],
   "source": [
    "mix[ : ]"
   ]
  },
  {
   "cell_type": "code",
   "execution_count": 100,
   "id": "1a5fefa0-1bb3-4cb7-a96e-68aa60d3569c",
   "metadata": {},
   "outputs": [
    {
     "data": {
      "text/plain": [
       "['e', 'f']"
      ]
     },
     "execution_count": 100,
     "metadata": {},
     "output_type": "execute_result"
    }
   ],
   "source": [
    "mix[3: ]"
   ]
  },
  {
   "cell_type": "markdown",
   "id": "df51ebb1-f4ab-4651-9031-7a084a3128b0",
   "metadata": {},
   "source": [
    "## operations on list"
   ]
  },
  {
   "cell_type": "code",
   "execution_count": 101,
   "id": "3d3ba09f-abf7-44fa-858a-579f6c587b7b",
   "metadata": {},
   "outputs": [
    {
     "name": "stdout",
     "output_type": "stream",
     "text": [
      "[9, 9, 9, 9, 9, 9, 9, 9, 9, 9, 9, 9, 9, 9, 9, 9, 9, 9, 9, 9, 9, 9, 9, 9, 9, 9, 9, 9, 9, 9, 9, 9, 9, 9, 9, 9, 9, 9, 9, 9, 9, 9, 9, 9, 9, 9, 9, 9, 9, 9, 9, 9, 9, 9, 9, 9, 9, 9, 9, 9, 9, 9, 9, 9, 9, 9, 9, 9, 9, 9, 9, 9, 9, 9, 9, 9, 9, 9, 9, 9, 9, 9, 9, 9, 9, 9, 9, 9, 9, 9, 9, 9, 9, 9, 9, 9, 9, 9, 9, 9]\n"
     ]
    }
   ],
   "source": [
    "o=[9]*100\n",
    "print(o)"
   ]
  },
  {
   "cell_type": "code",
   "execution_count": 31,
   "id": "1b938455-d851-4de2-9636-622241a1a757",
   "metadata": {},
   "outputs": [],
   "source": [
    "w=[1, 2, 3]\n",
    "x=[4, 5, 6]"
   ]
  },
  {
   "cell_type": "code",
   "execution_count": 32,
   "id": "23f84f36-a7c3-4c32-abdc-aae61be13a9a",
   "metadata": {},
   "outputs": [
    {
     "name": "stdout",
     "output_type": "stream",
     "text": [
      "[1, 2, 3, 4, 5, 6]\n"
     ]
    }
   ],
   "source": [
    "print(w + x)"
   ]
  },
  {
   "cell_type": "code",
   "execution_count": 106,
   "id": "1fd8fd7f-b85b-45cc-9f22-5bc0f034c00e",
   "metadata": {},
   "outputs": [
    {
     "name": "stdout",
     "output_type": "stream",
     "text": [
      "['h', 'e', 'y', ' ', 't', 'h', 'e', 'r', 'e']\n"
     ]
    }
   ],
   "source": [
    "var= list(\"hey there\")\n",
    "print(var)"
   ]
  },
  {
   "cell_type": "code",
   "execution_count": 107,
   "id": "f2c72671-457e-46cd-a996-c47d2d29fa04",
   "metadata": {},
   "outputs": [
    {
     "name": "stdout",
     "output_type": "stream",
     "text": [
      "[1, 5, 7, 10]\n"
     ]
    }
   ],
   "source": [
    "print(num)"
   ]
  },
  {
   "cell_type": "code",
   "execution_count": 108,
   "id": "f48265dd-5421-4b61-9f7c-170b183e382e",
   "metadata": {},
   "outputs": [
    {
     "name": "stdout",
     "output_type": "stream",
     "text": [
      "1\n",
      "[5, 7, 10]\n"
     ]
    }
   ],
   "source": [
    "one, *other=num\n",
    "print(one)\n",
    "print(other)"
   ]
  },
  {
   "cell_type": "markdown",
   "id": "0ae063bd-252f-4729-8033-c3d7023c142b",
   "metadata": {},
   "source": [
    "## built in function and list"
   ]
  },
  {
   "cell_type": "code",
   "execution_count": 33,
   "id": "8b00be6b-0726-4295-b018-6709c3d5fef0",
   "metadata": {},
   "outputs": [],
   "source": [
    "k=[3, 54, 76, 9, 23, 98]"
   ]
  },
  {
   "cell_type": "code",
   "execution_count": 49,
   "id": "7fccbcb9-3b28-4899-8101-25138363b72d",
   "metadata": {},
   "outputs": [
    {
     "name": "stdout",
     "output_type": "stream",
     "text": [
      "6\n"
     ]
    }
   ],
   "source": [
    "print(len(k))"
   ]
  },
  {
   "cell_type": "code",
   "execution_count": 50,
   "id": "b94b1e9f-3a3e-4ca8-98c6-4400a8c7c9dd",
   "metadata": {},
   "outputs": [
    {
     "name": "stdout",
     "output_type": "stream",
     "text": [
      "98\n"
     ]
    }
   ],
   "source": [
    "print(max(k))"
   ]
  },
  {
   "cell_type": "code",
   "execution_count": 51,
   "id": "f74968d3-fc5a-4d8c-ba31-230c1a3fda99",
   "metadata": {},
   "outputs": [
    {
     "name": "stdout",
     "output_type": "stream",
     "text": [
      "3\n"
     ]
    }
   ],
   "source": [
    "print(min(k))"
   ]
  },
  {
   "cell_type": "code",
   "execution_count": 52,
   "id": "60d52f75-eff4-474f-a9ee-886c6df6a398",
   "metadata": {},
   "outputs": [
    {
     "name": "stdout",
     "output_type": "stream",
     "text": [
      "263\n"
     ]
    }
   ],
   "source": [
    "print(sum(k))"
   ]
  },
  {
   "cell_type": "code",
   "execution_count": 54,
   "id": "d9146b3f-981c-474b-b912-0f901ebabf68",
   "metadata": {},
   "outputs": [
    {
     "name": "stdout",
     "output_type": "stream",
     "text": [
      "43\n"
     ]
    }
   ],
   "source": [
    "print(sum(k)//len(k))"
   ]
  },
  {
   "cell_type": "markdown",
   "id": "142a0688-8a3c-463d-a8a1-646a5d03d31c",
   "metadata": {},
   "source": [
    "## list can be sliced"
   ]
  },
  {
   "cell_type": "code",
   "execution_count": null,
   "id": "5738d0bb-9fc3-4616-bfd9-70c239218509",
   "metadata": {},
   "outputs": [],
   "source": [
    "k=[3, 54, 76, 9, 23, 98]"
   ]
  },
  {
   "cell_type": "code",
   "execution_count": 34,
   "id": "b7af3955-1ca4-4357-9b77-2a71f8ba1ec3",
   "metadata": {},
   "outputs": [
    {
     "data": {
      "text/plain": [
       "[3, 54, 76]"
      ]
     },
     "execution_count": 34,
     "metadata": {},
     "output_type": "execute_result"
    }
   ],
   "source": [
    "k[0:3]"
   ]
  },
  {
   "cell_type": "code",
   "execution_count": 35,
   "id": "149ff8ae-ae2c-4ac0-8af7-88032a340d4d",
   "metadata": {},
   "outputs": [
    {
     "data": {
      "text/plain": [
       "[3, 54, 76, 9, 23, 98]"
      ]
     },
     "execution_count": 35,
     "metadata": {},
     "output_type": "execute_result"
    }
   ],
   "source": [
    "k[ : ]"
   ]
  },
  {
   "cell_type": "raw",
   "id": "21040697-3580-46bf-8082-fec9b277d1c5",
   "metadata": {},
   "source": [
    "k[ :5]"
   ]
  },
  {
   "cell_type": "code",
   "execution_count": 37,
   "id": "087159bf-536f-4af7-a0c9-85033dbd8b3c",
   "metadata": {},
   "outputs": [
    {
     "data": {
      "text/plain": [
       "[54, 76, 9, 23, 98]"
      ]
     },
     "execution_count": 37,
     "metadata": {},
     "output_type": "execute_result"
    }
   ],
   "source": [
    "k[1: ]"
   ]
  },
  {
   "cell_type": "markdown",
   "id": "557af8f4-a1f4-41c8-9db5-8e12bdbf6af5",
   "metadata": {},
   "source": [
    "## building a list from scratch"
   ]
  },
  {
   "cell_type": "code",
   "execution_count": 38,
   "id": "4b770f0a-cdf8-4ff6-95ed-687ffc1a7847",
   "metadata": {},
   "outputs": [],
   "source": [
    "stuff= list()"
   ]
  },
  {
   "cell_type": "code",
   "execution_count": 39,
   "id": "d19eab16-5128-4c02-8cbd-53d03e5fd611",
   "metadata": {},
   "outputs": [],
   "source": [
    "stuff.append(\"pen\")\n",
    "stuff.append(\"book\")\n",
    "stuff.append(\"eraser\")\n",
    "stuff.append(\"chocolate\")"
   ]
  },
  {
   "cell_type": "code",
   "execution_count": 40,
   "id": "d51e2744-3283-44e2-aadb-339a4b1d539b",
   "metadata": {},
   "outputs": [
    {
     "name": "stdout",
     "output_type": "stream",
     "text": [
      "['pen', 'book', 'eraser', 'chocolate']\n"
     ]
    }
   ],
   "source": [
    "print(stuff)"
   ]
  },
  {
   "cell_type": "markdown",
   "id": "551d0741-2493-442f-98ff-e53febdac409",
   "metadata": {},
   "source": [
    "## list are in order"
   ]
  },
  {
   "cell_type": "code",
   "execution_count": 44,
   "id": "e516b0d9-905b-4483-b5f9-e14efbcf31c6",
   "metadata": {},
   "outputs": [],
   "source": [
    "stuff.sort()"
   ]
  },
  {
   "cell_type": "code",
   "execution_count": 46,
   "id": "73f954e8-0fe1-4774-848b-f56bda7e3ad9",
   "metadata": {},
   "outputs": [
    {
     "name": "stdout",
     "output_type": "stream",
     "text": [
      "['book', 'chocolate', 'eraser', 'pen']\n"
     ]
    }
   ],
   "source": [
    "print(stuff)"
   ]
  },
  {
   "cell_type": "code",
   "execution_count": 47,
   "id": "b5250eaa-f0c9-45cd-80bb-4e6c07bb8fd7",
   "metadata": {},
   "outputs": [
    {
     "name": "stdout",
     "output_type": "stream",
     "text": [
      "chocolate\n"
     ]
    }
   ],
   "source": [
    "print(stuff[1])"
   ]
  },
  {
   "cell_type": "markdown",
   "id": "8fd32237-2f29-4e55-8613-cd7b5281c48f",
   "metadata": {},
   "source": [
    "## is something in a list"
   ]
  },
  {
   "cell_type": "code",
   "execution_count": 80,
   "id": "befc9380-03dd-4da3-a431-e589b6ae61a1",
   "metadata": {},
   "outputs": [
    {
     "data": {
      "text/plain": [
       "True"
      ]
     },
     "execution_count": 80,
     "metadata": {},
     "output_type": "execute_result"
    }
   ],
   "source": [
    "some=[1, 9, 21, 10, 16]\n",
    "9 in some"
   ]
  },
  {
   "cell_type": "code",
   "execution_count": 81,
   "id": "92a9dfda-f172-4b81-96cd-55d5a7814686",
   "metadata": {},
   "outputs": [
    {
     "data": {
      "text/plain": [
       "False"
      ]
     },
     "execution_count": 81,
     "metadata": {},
     "output_type": "execute_result"
    }
   ],
   "source": [
    "15 in some"
   ]
  },
  {
   "cell_type": "markdown",
   "id": "cff0525f-1875-4c93-9c4f-4909010b54a8",
   "metadata": {},
   "source": [
    "# tuples"
   ]
  },
  {
   "cell_type": "markdown",
   "id": "5e19a5f7-b338-4a8b-bf06-8ab8c6c9b720",
   "metadata": {},
   "source": [
    "## tuples and assignment"
   ]
  },
  {
   "cell_type": "code",
   "execution_count": 82,
   "id": "e0473658-6cba-4a8e-8212-6944c80918d9",
   "metadata": {},
   "outputs": [
    {
     "name": "stdout",
     "output_type": "stream",
     "text": [
      "fred\n"
     ]
    }
   ],
   "source": [
    "(x,y)=(4, \"fred\")\n",
    "print(y)"
   ]
  },
  {
   "cell_type": "code",
   "execution_count": 83,
   "id": "fb7d4d12-ffe9-4160-9788-d1a4dbfcd429",
   "metadata": {},
   "outputs": [
    {
     "name": "stdout",
     "output_type": "stream",
     "text": [
      "99\n"
     ]
    }
   ],
   "source": [
    "(a,b)=(99, 98)\n",
    "print(a)"
   ]
  },
  {
   "cell_type": "markdown",
   "id": "5f2080e7-2a69-448e-bf9e-41b6c726c126",
   "metadata": {},
   "source": [
    "# Excercise on List"
   ]
  },
  {
   "cell_type": "code",
   "execution_count": 109,
   "id": "fdb9ed17-6087-4351-b61f-e1af8bcb2bf4",
   "metadata": {},
   "outputs": [
    {
     "name": "stdout",
     "output_type": "stream",
     "text": [
      "[1, 2, 3, 4, 5, 6, 7, 8, 9, 10]\n"
     ]
    }
   ],
   "source": [
    "list1=list(range(1,11))\n",
    "print(list1)"
   ]
  },
  {
   "cell_type": "code",
   "execution_count": 112,
   "id": "311ac7bc-7c2b-4c3c-94a4-94835fbada3f",
   "metadata": {},
   "outputs": [
    {
     "name": "stdout",
     "output_type": "stream",
     "text": [
      "[1, 3, 5, 7, 9]\n"
     ]
    }
   ],
   "source": [
    "odd=list1[::2]\n",
    "print(odd)"
   ]
  },
  {
   "cell_type": "code",
   "execution_count": 113,
   "id": "6f00262b-1aa8-43a2-87bd-f894fa561b26",
   "metadata": {},
   "outputs": [
    {
     "name": "stdout",
     "output_type": "stream",
     "text": [
      "[2, 4, 6, 8, 10]\n"
     ]
    }
   ],
   "source": [
    "even=list1[1::2]\n",
    "print(even)"
   ]
  },
  {
   "cell_type": "markdown",
   "id": "01979f21-8983-412b-9c86-0036034a8d3d",
   "metadata": {},
   "source": [
    "# Tuples"
   ]
  },
  {
   "cell_type": "markdown",
   "id": "d6f689f7-d324-4aef-bc66-b794a50eff87",
   "metadata": {},
   "source": [
    "## tuples are comparable"
   ]
  },
  {
   "cell_type": "code",
   "execution_count": 84,
   "id": "66f7d00a-f8bf-4272-968e-6e214ac2e4f0",
   "metadata": {},
   "outputs": [
    {
     "data": {
      "text/plain": [
       "True"
      ]
     },
     "execution_count": 84,
     "metadata": {},
     "output_type": "execute_result"
    }
   ],
   "source": [
    "(\"amanda\", \"joseph\", \"mirabel\")<(\"rose\", \"michael\", \"seun\")"
   ]
  },
  {
   "cell_type": "code",
   "execution_count": 85,
   "id": "d5984041-5670-47e6-956a-45de93ea5c19",
   "metadata": {},
   "outputs": [
    {
     "data": {
      "text/plain": [
       "False"
      ]
     },
     "execution_count": 85,
     "metadata": {},
     "output_type": "execute_result"
    }
   ],
   "source": [
    "(0, 1, 2)>(5, 1, 2)"
   ]
  }
 ],
 "metadata": {
  "kernelspec": {
   "display_name": "Python 3 (ipykernel)",
   "language": "python",
   "name": "python3"
  },
  "language_info": {
   "codemirror_mode": {
    "name": "ipython",
    "version": 3
   },
   "file_extension": ".py",
   "mimetype": "text/x-python",
   "name": "python",
   "nbconvert_exporter": "python",
   "pygments_lexer": "ipython3",
   "version": "3.9.7"
  }
 },
 "nbformat": 4,
 "nbformat_minor": 5
}
