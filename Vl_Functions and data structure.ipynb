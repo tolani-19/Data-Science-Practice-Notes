{
 "cells": [
  {
   "cell_type": "markdown",
   "id": "c6d89df7-1816-4f43-9568-d58a71e53254",
   "metadata": {},
   "source": [
    "# Python Functions"
   ]
  },
  {
   "cell_type": "markdown",
   "id": "3cd5f5ba-4df7-41a5-aaa9-3e1476230a63",
   "metadata": {},
   "source": [
    "##### A function is some reusable code that takes argument(s) as input,does some computation and then returns a result or results"
   ]
  },
  {
   "cell_type": "markdown",
   "id": "b2fa1586-9dd3-4ea3-a4c3-e9b875f532ad",
   "metadata": {},
   "source": [
    "##### We define a function using the def reserved word"
   ]
  },
  {
   "cell_type": "markdown",
   "id": "9da07721-ce9a-4d9f-8862-dd25ba8b57fa",
   "metadata": {},
   "source": [
    "### Types of Python Functions"
   ]
  },
  {
   "cell_type": "markdown",
   "id": "e975cd8c-63e4-4940-83f9-24337f26f890",
   "metadata": {},
   "source": [
    "- #### Built in Functions"
   ]
  },
  {
   "cell_type": "markdown",
   "id": "b3824092-98ca-4bbe-ba0d-142770e03d20",
   "metadata": {},
   "source": [
    "##### Examples are: print(), Input(), type(), Float(), int(), Bool(), all(), ascii(), format(), getattr(), id() e.t.c"
   ]
  },
  {
   "cell_type": "markdown",
   "id": "d1d20d36-5b54-4895-a8bd-54f958d2dffe",
   "metadata": {},
   "source": [
    "- #### User defined functions"
   ]
  },
  {
   "cell_type": "markdown",
   "id": "3017d063-fda4-4a1d-93b6-8bebe87e9f9d",
   "metadata": {},
   "source": [
    "##### Functions that we define ourselves and then use"
   ]
  },
  {
   "cell_type": "markdown",
   "id": "78a04e2a-9a3b-45ed-8594-885c71d0be57",
   "metadata": {},
   "source": [
    "### Building our own functions"
   ]
  },
  {
   "cell_type": "markdown",
   "id": "5bedf1a1-8423-4714-98a5-936e101d86ae",
   "metadata": {},
   "source": [
    "##### We create a new function using the def keyword followed by optional parameters in parentheses"
   ]
  },
  {
   "cell_type": "markdown",
   "id": "5c9fad7e-698f-49a8-8f74-69321a01613f",
   "metadata": {},
   "source": [
    "##### We indent the body of the function"
   ]
  },
  {
   "cell_type": "code",
   "execution_count": 12,
   "id": "d14129ce-0391-473e-b4c0-ab85c34f4573",
   "metadata": {},
   "outputs": [],
   "source": [
    "def print_lyrics():\n",
    "    print(\"I'm a lumberjack, and I'm okay.\")\n",
    "    print(\"I sleep all night and I work all day.\")"
   ]
  },
  {
   "cell_type": "code",
   "execution_count": 14,
   "id": "be78cea5-4ef5-4024-b213-e5bbadd865c6",
   "metadata": {},
   "outputs": [
    {
     "name": "stdout",
     "output_type": "stream",
     "text": [
      "Hello\n",
      "Yo\n",
      "7\n"
     ]
    }
   ],
   "source": [
    "x=5\n",
    "print(\"Hello\")\n",
    "def print_lyrics():\n",
    "    print(\"I'm a lumberjack, and I'm okay.\")\n",
    "    print(\"I sleep all night and I work all day.\")\n",
    "print(\"Yo\")\n",
    "x=x+2\n",
    "print(x)"
   ]
  },
  {
   "cell_type": "code",
   "execution_count": 15,
   "id": "f902702b-43c6-421f-a3ff-065d68a1400d",
   "metadata": {},
   "outputs": [
    {
     "name": "stdout",
     "output_type": "stream",
     "text": [
      "Hello\n",
      "Yo\n",
      "I'm a lumberjack, and I'm okay.\n",
      "I sleep all night and I work all day.\n",
      "7\n"
     ]
    }
   ],
   "source": [
    "x=5\n",
    "print(\"Hello\")\n",
    "def print_lyrics():\n",
    "    print(\"I'm a lumberjack, and I'm okay.\")\n",
    "    print(\"I sleep all night and I work all day.\")\n",
    "print(\"Yo\")\n",
    "print_lyrics()\n",
    "x=x+2\n",
    "print(x)"
   ]
  },
  {
   "cell_type": "markdown",
   "id": "40578506-c365-4f57-9d62-e8fa2b0a2ae6",
   "metadata": {},
   "source": [
    "### Stored and reused steps"
   ]
  },
  {
   "cell_type": "code",
   "execution_count": 2,
   "id": "565f9258-6121-4b6d-86b4-b31ff101cd00",
   "metadata": {},
   "outputs": [],
   "source": [
    "def thing():\n",
    "    print(\"hello\")\n",
    "    print(\"fun\")"
   ]
  },
  {
   "cell_type": "code",
   "execution_count": 3,
   "id": "ad910509-28d2-4b4c-ab63-ed06e1e220b4",
   "metadata": {},
   "outputs": [
    {
     "name": "stdout",
     "output_type": "stream",
     "text": [
      "hello\n",
      "fun\n",
      "zip\n",
      "hello\n",
      "fun\n"
     ]
    }
   ],
   "source": [
    "thing()\n",
    "print(\"zip\")\n",
    "thing()"
   ]
  },
  {
   "cell_type": "markdown",
   "id": "b1a89333-99d4-4002-bf0b-0591b528f0c8",
   "metadata": {},
   "source": [
    "## Arguments"
   ]
  },
  {
   "cell_type": "markdown",
   "id": "ad38727f-72f6-45f1-b247-8dfc2827ee56",
   "metadata": {},
   "source": [
    "- ##### An argument is a value we pass into the function as its input when we call the function"
   ]
  },
  {
   "cell_type": "markdown",
   "id": "f5886033-3f3e-44c5-b191-bfb8b976b586",
   "metadata": {},
   "source": [
    "- ##### We use arguments so we can direct the function to do different kinds of work when we call it at different times"
   ]
  },
  {
   "cell_type": "markdown",
   "id": "a3ca0e02-152f-4b77-a0eb-e8f642d6f044",
   "metadata": {},
   "source": [
    "- ##### We put the arguments in parenthesis after the name of the function"
   ]
  },
  {
   "cell_type": "code",
   "execution_count": 6,
   "id": "79d1b133-70cb-40f2-ad25-a2586b655e9d",
   "metadata": {},
   "outputs": [
    {
     "name": "stdout",
     "output_type": "stream",
     "text": [
      "w\n"
     ]
    }
   ],
   "source": [
    "big=max(\"Hello world\")\n",
    "print(big)"
   ]
  },
  {
   "cell_type": "code",
   "execution_count": 7,
   "id": "2238a6eb-b7e7-4e20-bd05-c557423f9b02",
   "metadata": {},
   "outputs": [
    {
     "name": "stdout",
     "output_type": "stream",
     "text": [
      " \n"
     ]
    }
   ],
   "source": [
    "tiny=min(\"Hello world\")\n",
    "print(tiny)"
   ]
  },
  {
   "cell_type": "markdown",
   "id": "cd53d705-13b9-45b3-a328-b7ddd0265a36",
   "metadata": {},
   "source": [
    "### Parameters"
   ]
  },
  {
   "cell_type": "code",
   "execution_count": 16,
   "id": "cd1a1758-2c42-4a62-8784-034184d96503",
   "metadata": {},
   "outputs": [],
   "source": [
    "def greet(lang):\n",
    "    if lang == \"es\":\n",
    "        print(\"Hola\")\n",
    "    elif lang == \"fr\":\n",
    "        print(\"Bonjour\")\n",
    "    else:\n",
    "        print(\"hello\")"
   ]
  },
  {
   "cell_type": "code",
   "execution_count": 17,
   "id": "51c5e1ea-7b03-4a77-b020-d3a24a078943",
   "metadata": {},
   "outputs": [
    {
     "name": "stdout",
     "output_type": "stream",
     "text": [
      "hello\n"
     ]
    }
   ],
   "source": [
    "greet(\"en\")"
   ]
  },
  {
   "cell_type": "code",
   "execution_count": 18,
   "id": "1aa8e9d4-e56d-47a5-bf69-563bf1038d08",
   "metadata": {},
   "outputs": [
    {
     "name": "stdout",
     "output_type": "stream",
     "text": [
      "Hola\n"
     ]
    }
   ],
   "source": [
    "greet(\"es\")"
   ]
  },
  {
   "cell_type": "code",
   "execution_count": 19,
   "id": "8224025a-68eb-4145-9591-3a81a9367001",
   "metadata": {},
   "outputs": [
    {
     "name": "stdout",
     "output_type": "stream",
     "text": [
      "Bonjour\n"
     ]
    }
   ],
   "source": [
    "greet(\"fr\")"
   ]
  },
  {
   "cell_type": "markdown",
   "id": "d7e3985b-804d-4a66-a05c-a267c1d4f599",
   "metadata": {},
   "source": [
    "### Return Values"
   ]
  },
  {
   "cell_type": "code",
   "execution_count": 21,
   "id": "25ae487a-7c6e-4b78-9579-7d8f1fd8a569",
   "metadata": {},
   "outputs": [
    {
     "name": "stdout",
     "output_type": "stream",
     "text": [
      "Hello Mercy\n",
      "Hello Tolani\n"
     ]
    }
   ],
   "source": [
    "def greet():\n",
    "    return\"Hello\"\n",
    "print(greet(), \"Mercy\")\n",
    "print(greet(), \"Tolani\")"
   ]
  },
  {
   "cell_type": "code",
   "execution_count": 28,
   "id": "407fabb5-1df0-4226-b25b-119ebe5d85ac",
   "metadata": {},
   "outputs": [],
   "source": [
    "def greet(lang):\n",
    "    if lang == \"es\":\n",
    "        return(\"Hola\")\n",
    "    elif lang == \"fr\":\n",
    "        return(\"Bonjour\")\n",
    "    else:\n",
    "        return(\"hello\")"
   ]
  },
  {
   "cell_type": "code",
   "execution_count": 29,
   "id": "459ed8e8-fc24-4af2-8c2f-4bcb563bf6e2",
   "metadata": {},
   "outputs": [
    {
     "name": "stdout",
     "output_type": "stream",
     "text": [
      "hello tolani\n"
     ]
    }
   ],
   "source": [
    "print(greet(\"en\"),\"tolani\")"
   ]
  },
  {
   "cell_type": "code",
   "execution_count": 31,
   "id": "fb5871c0-edb3-4a63-93cd-fcb3cffed12a",
   "metadata": {},
   "outputs": [
    {
     "name": "stdout",
     "output_type": "stream",
     "text": [
      "Hola Mercy\n"
     ]
    }
   ],
   "source": [
    "print(greet(\"es\"),\"Mercy\")"
   ]
  },
  {
   "cell_type": "code",
   "execution_count": 32,
   "id": "4b1196d3-7ac4-4356-8b81-1ce0fa22fe78",
   "metadata": {},
   "outputs": [
    {
     "name": "stdout",
     "output_type": "stream",
     "text": [
      "Bonjour Tolu\n"
     ]
    }
   ],
   "source": [
    "print(greet(\"fr\"),\"Tolu\")"
   ]
  },
  {
   "cell_type": "markdown",
   "id": "7b056dda-0bef-4081-ab1d-3210995b46ee",
   "metadata": {},
   "source": [
    "### Multiple Parameters/ Arguments"
   ]
  },
  {
   "cell_type": "code",
   "execution_count": 34,
   "id": "859f7000-42e2-4b05-aaf4-3807077772fb",
   "metadata": {},
   "outputs": [],
   "source": [
    "def addtwo(a,b):\n",
    "    added=a+b\n",
    "    return added"
   ]
  },
  {
   "cell_type": "code",
   "execution_count": 35,
   "id": "72639b6c-e86c-4fcc-9694-37bfb8ee0f2e",
   "metadata": {},
   "outputs": [
    {
     "name": "stdout",
     "output_type": "stream",
     "text": [
      "8\n"
     ]
    }
   ],
   "source": [
    "x= addtwo(3,5)\n",
    "print(x)"
   ]
  },
  {
   "cell_type": "markdown",
   "id": "bce22339-e466-49b3-b386-ad006ef18641",
   "metadata": {},
   "source": [
    "### Python local and Global Variables"
   ]
  },
  {
   "cell_type": "code",
   "execution_count": 38,
   "id": "4f55aab8-5a06-4aaa-a450-6f0802abf845",
   "metadata": {},
   "outputs": [],
   "source": [
    "message= \"How are you doing?\""
   ]
  },
  {
   "cell_type": "code",
   "execution_count": 39,
   "id": "d9aca307-92fb-4a2f-b409-781a55430551",
   "metadata": {},
   "outputs": [],
   "source": [
    "def greet():\n",
    "    global message \n",
    "    message= \"How are you?\"\n",
    "    print(\"Message inside function\", message)"
   ]
  },
  {
   "cell_type": "code",
   "execution_count": 40,
   "id": "8b60d4a4-38f3-4967-bf21-25cd6096fd4a",
   "metadata": {},
   "outputs": [
    {
     "name": "stdout",
     "output_type": "stream",
     "text": [
      "Message inside function How are you?\n",
      "Message outside function How are you?\n"
     ]
    }
   ],
   "source": [
    "greet()\n",
    "print(\"Message outside function\", message)"
   ]
  },
  {
   "cell_type": "code",
   "execution_count": null,
   "id": "59dc4a3b-9f65-4a7a-9c7e-344398bf4233",
   "metadata": {},
   "outputs": [],
   "source": []
  },
  {
   "cell_type": "markdown",
   "id": "f2bf9c6b-9f63-4f12-9aad-8fbb7c115cf5",
   "metadata": {},
   "source": [
    "# Data Structures in Python"
   ]
  },
  {
   "cell_type": "markdown",
   "id": "624bc337-d640-4aed-b5d6-7f0321bc1530",
   "metadata": {},
   "source": [
    "#### Data structures are ways of storing data in an efficient manner and accessing them as when required"
   ]
  },
  {
   "cell_type": "markdown",
   "id": "18cf205a-6e4c-4dd1-b164-94af0f7b4b47",
   "metadata": {},
   "source": [
    "#### Lots of varieties of data structures across programming languages"
   ]
  },
  {
   "cell_type": "markdown",
   "id": "0c91960e-0d5d-4f80-bbf3-24a3b1addfc1",
   "metadata": {},
   "source": [
    "#### Data Storage, organizers, accessibility, and efficiency are at a play at the same time"
   ]
  },
  {
   "cell_type": "markdown",
   "id": "c903547f-f1b5-4b71-8225-ea7aa190fa1f",
   "metadata": {},
   "source": [
    "# Types of Data structure"
   ]
  },
  {
   "cell_type": "markdown",
   "id": "67c381f6-399c-4175-b95a-bc064a9fe932",
   "metadata": {},
   "source": [
    "### There are two main types of data structure"
   ]
  },
  {
   "cell_type": "markdown",
   "id": "c5ae19b8-8df4-4dad-b787-195a452d6d71",
   "metadata": {},
   "source": [
    "#### Built in structures"
   ]
  },
  {
   "cell_type": "markdown",
   "id": "54f11bb4-6bd2-4ce2-894a-4e563b622a69",
   "metadata": {},
   "source": [
    "- ##### list\n",
    "- ##### Dictionary\n",
    "- ##### Tuple\n",
    "- ##### Set"
   ]
  },
  {
   "cell_type": "markdown",
   "id": "ed159f17-ec68-44ed-9498-8bfb09cb5d47",
   "metadata": {},
   "source": [
    "#### User defined Data structures"
   ]
  },
  {
   "cell_type": "markdown",
   "id": "157c278a-95da-4db9-ad26-f724ca12ce3e",
   "metadata": {},
   "source": [
    "- ##### Stack\n",
    "- ##### Queue\n",
    "- ##### Tree\n",
    "- ##### Graph"
   ]
  },
  {
   "cell_type": "markdown",
   "id": "b5e77485-a626-4fa2-bc31-7da041d00e67",
   "metadata": {},
   "source": [
    "#### Built in structures"
   ]
  },
  {
   "cell_type": "markdown",
   "id": "2addf2bb-630e-44ef-858b-5351400ab247",
   "metadata": {},
   "source": [
    "- ##### list : They are used to store data in a sequential manner an example was given in the previous note\n",
    "- ##### Dictionary: Data is stored as kry-value pairs in the case of dictionaries an example was also given in the previous note\n",
    "- ##### Tuple: They work similar to that of a list but it is immutable an example was given in previous note\n",
    "- ##### Set:  Sets are a collection of unordered unique elements an example was given in the previous message"
   ]
  },
  {
   "cell_type": "markdown",
   "id": "8df5e111-f94c-4907-9a82-71c65a3a72b8",
   "metadata": {},
   "source": [
    "#### User defined Data structures"
   ]
  },
  {
   "cell_type": "markdown",
   "id": "6a60c919-ac28-4ad1-a591-b6079c5e9634",
   "metadata": {},
   "source": [
    "- ##### Stack: Works on the basis of Last-in-First-out(LIFO)principle, elements are accessed only from the top position\n",
    "- ##### Queue: Works on the basis of First-in-First-out(FIFO)principle, operations can be performed from both the head and the tail \n",
    "- ##### Tree: \n",
    "- ##### Graph: A graph has a collection of nodes and edges"
   ]
  },
  {
   "cell_type": "markdown",
   "id": "87bf7cbc-a9af-48ea-a106-07838078d33a",
   "metadata": {},
   "source": [
    "##### Linked list: It consists of a sequence of elements that are connected to each other"
   ]
  }
 ],
 "metadata": {
  "kernelspec": {
   "display_name": "Python 3 (ipykernel)",
   "language": "python",
   "name": "python3"
  },
  "language_info": {
   "codemirror_mode": {
    "name": "ipython",
    "version": 3
   },
   "file_extension": ".py",
   "mimetype": "text/x-python",
   "name": "python",
   "nbconvert_exporter": "python",
   "pygments_lexer": "ipython3",
   "version": "3.9.7"
  }
 },
 "nbformat": 4,
 "nbformat_minor": 5
}
