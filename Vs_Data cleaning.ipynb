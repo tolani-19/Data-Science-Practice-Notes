{
 "cells": [
  {
   "cell_type": "markdown",
   "id": "b6e6cf8b-f461-4bfa-908a-9c91b457e1e0",
   "metadata": {},
   "source": [
    "### Data Preprocessing"
   ]
  },
  {
   "cell_type": "markdown",
   "id": "91a8541e-dd88-40a3-b3eb-a80569b9a3de",
   "metadata": {},
   "source": [
    "##### Data Processing is also Known as Data cleaning and it is the process of converting or mapping data from the initial \"raw\" form into another format, in order to prepare the data for further analysis"
   ]
  },
  {
   "cell_type": "markdown",
   "id": "b57e6780-b521-4e68-830e-84d5f851aeea",
   "metadata": {},
   "source": [
    "### Missing Values"
   ]
  },
  {
   "cell_type": "markdown",
   "id": "ad23e0d1-88af-47cf-9f18-d912369babbc",
   "metadata": {},
   "source": [
    "##### A missing value occur when no data value is stored for a variable(feature) in an observation "
   ]
  },
  {
   "cell_type": "markdown",
   "id": "29545329-2272-4155-a056-8ad58b1d6e7d",
   "metadata": {},
   "source": [
    "- ##### Could be represented as \"?\", \"N/A\", 0 or just a blank cell"
   ]
  },
  {
   "cell_type": "markdown",
   "id": "64ad9ab0-26ea-47dc-9ad1-7eeb8208a59c",
   "metadata": {},
   "source": [
    "#### Data Formatting "
   ]
  },
  {
   "cell_type": "markdown",
   "id": "c27f6ee5-f616-44e1-9c97-93966c44a667",
   "metadata": {},
   "source": [
    "- ##### Data are usually collected from different places and stored in different formats"
   ]
  },
  {
   "cell_type": "markdown",
   "id": "86bef911-53c7-4b3e-87b0-f21afec20ea9",
   "metadata": {},
   "source": [
    "- ##### Bringing data into a common standard of expression allows users to make meaningful comparison"
   ]
  },
  {
   "cell_type": "code",
   "execution_count": 3,
   "id": "9081bb99-f039-4fde-a879-8157b3e3ce63",
   "metadata": {},
   "outputs": [],
   "source": [
    "import pandas as pd\n",
    "import numpy as np"
   ]
  },
  {
   "cell_type": "code",
   "execution_count": 4,
   "id": "971a63ff-ecab-4b42-a071-75924d7d63f4",
   "metadata": {},
   "outputs": [
    {
     "data": {
      "text/plain": [
       "True"
      ]
     },
     "execution_count": 4,
     "metadata": {},
     "output_type": "execute_result"
    }
   ],
   "source": [
    "pd.isnull(np.nan)"
   ]
  },
  {
   "cell_type": "code",
   "execution_count": 5,
   "id": "8a7cce39-7dcf-4877-bdac-65d4520113d4",
   "metadata": {},
   "outputs": [
    {
     "data": {
      "text/plain": [
       "True"
      ]
     },
     "execution_count": 5,
     "metadata": {},
     "output_type": "execute_result"
    }
   ],
   "source": [
    "pd.isnull(None)"
   ]
  },
  {
   "cell_type": "code",
   "execution_count": 6,
   "id": "ec75043d-2cc6-44d6-8a0d-9aad5b6f1339",
   "metadata": {},
   "outputs": [
    {
     "data": {
      "text/plain": [
       "True"
      ]
     },
     "execution_count": 6,
     "metadata": {},
     "output_type": "execute_result"
    }
   ],
   "source": [
    "pd.isna(np.nan)"
   ]
  },
  {
   "cell_type": "code",
   "execution_count": 8,
   "id": "779ea63d-51aa-485d-87d1-3ae661aa999e",
   "metadata": {},
   "outputs": [
    {
     "data": {
      "text/plain": [
       "True"
      ]
     },
     "execution_count": 8,
     "metadata": {},
     "output_type": "execute_result"
    }
   ],
   "source": [
    "pd.isna(None)"
   ]
  },
  {
   "cell_type": "markdown",
   "id": "70885dcb-2ad5-4236-9426-e6d40a2727e0",
   "metadata": {},
   "source": [
    "##### The opposite ones also exist"
   ]
  },
  {
   "cell_type": "code",
   "execution_count": 9,
   "id": "78b4de95-d273-4f35-9419-3753e481ec26",
   "metadata": {},
   "outputs": [
    {
     "data": {
      "text/plain": [
       "False"
      ]
     },
     "execution_count": 9,
     "metadata": {},
     "output_type": "execute_result"
    }
   ],
   "source": [
    "pd.notnull(None)"
   ]
  },
  {
   "cell_type": "code",
   "execution_count": 10,
   "id": "8122250c-50ed-4407-9f86-0d8912d2e3d0",
   "metadata": {},
   "outputs": [
    {
     "data": {
      "text/plain": [
       "False"
      ]
     },
     "execution_count": 10,
     "metadata": {},
     "output_type": "execute_result"
    }
   ],
   "source": [
    "pd.notnull(np.nan)"
   ]
  },
  {
   "cell_type": "code",
   "execution_count": 11,
   "id": "e6691065-8bfb-4a5f-a13d-9949805d4afb",
   "metadata": {},
   "outputs": [
    {
     "data": {
      "text/plain": [
       "False"
      ]
     },
     "execution_count": 11,
     "metadata": {},
     "output_type": "execute_result"
    }
   ],
   "source": [
    "pd.notna(None)"
   ]
  },
  {
   "cell_type": "code",
   "execution_count": 12,
   "id": "d30cfd9a-3a9c-425f-8e59-7aca6298b504",
   "metadata": {},
   "outputs": [
    {
     "data": {
      "text/plain": [
       "False"
      ]
     },
     "execution_count": 12,
     "metadata": {},
     "output_type": "execute_result"
    }
   ],
   "source": [
    "pd.notna(np.nan)"
   ]
  },
  {
   "cell_type": "code",
   "execution_count": null,
   "id": "e0a980e3-b61d-4eca-9c98-2707f7a32990",
   "metadata": {},
   "outputs": [],
   "source": []
  }
 ],
 "metadata": {
  "kernelspec": {
   "display_name": "Python 3 (ipykernel)",
   "language": "python",
   "name": "python3"
  },
  "language_info": {
   "codemirror_mode": {
    "name": "ipython",
    "version": 3
   },
   "file_extension": ".py",
   "mimetype": "text/x-python",
   "name": "python",
   "nbconvert_exporter": "python",
   "pygments_lexer": "ipython3",
   "version": "3.9.7"
  }
 },
 "nbformat": 4,
 "nbformat_minor": 5
}
