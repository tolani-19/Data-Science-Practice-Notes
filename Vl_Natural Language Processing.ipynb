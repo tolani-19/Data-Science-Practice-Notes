{
 "cells": [
  {
   "cell_type": "markdown",
   "id": "2c3444bb-50cf-4039-b147-4b3ca2e97041",
   "metadata": {},
   "source": [
    "#### Elimate punctuation and stopwords from the sentence"
   ]
  },
  {
   "cell_type": "code",
   "execution_count": 2,
   "id": "2c371a46-5f78-46b9-ad3d-b83097521072",
   "metadata": {},
   "outputs": [],
   "source": [
    "#import required library\n",
    "import string\n",
    "from nltk.corpus import stopwords"
   ]
  },
  {
   "cell_type": "code",
   "execution_count": 4,
   "id": "57486b00-9003-4f71-925f-0fd956ffa282",
   "metadata": {},
   "outputs": [
    {
     "data": {
      "text/plain": [
       "['i', 'me', 'my', 'myself', 'we', 'our', 'ours', 'ourselves', 'you', \"you're\"]"
      ]
     },
     "execution_count": 4,
     "metadata": {},
     "output_type": "execute_result"
    }
   ],
   "source": [
    "#view the first 10 stopwords presentin the english corpus\n",
    "stopwords.words(\"english\")[0:10]"
   ]
  },
  {
   "cell_type": "code",
   "execution_count": 5,
   "id": "766a3ea6-3974-4053-b565-fd4da23ae969",
   "metadata": {},
   "outputs": [],
   "source": [
    "#create a test sentence\n",
    "test_sentence= \"This is my first test string. Wow! we are doing just fine\""
   ]
  },
  {
   "cell_type": "code",
   "execution_count": 6,
   "id": "20525ede-8ed8-4fbe-a32b-77866432ea80",
   "metadata": {},
   "outputs": [
    {
     "data": {
      "text/plain": [
       "['T',\n",
       " 'h',\n",
       " 'i',\n",
       " 's',\n",
       " ' ',\n",
       " 'i',\n",
       " 's',\n",
       " ' ',\n",
       " 'm',\n",
       " 'y',\n",
       " ' ',\n",
       " 'f',\n",
       " 'i',\n",
       " 'r',\n",
       " 's',\n",
       " 't',\n",
       " ' ',\n",
       " 't',\n",
       " 'e',\n",
       " 's',\n",
       " 't',\n",
       " ' ',\n",
       " 's',\n",
       " 't',\n",
       " 'r',\n",
       " 'i',\n",
       " 'n',\n",
       " 'g',\n",
       " ' ',\n",
       " 'W',\n",
       " 'o',\n",
       " 'w',\n",
       " ' ',\n",
       " 'w',\n",
       " 'e',\n",
       " ' ',\n",
       " 'a',\n",
       " 'r',\n",
       " 'e',\n",
       " ' ',\n",
       " 'd',\n",
       " 'o',\n",
       " 'i',\n",
       " 'n',\n",
       " 'g',\n",
       " ' ',\n",
       " 'j',\n",
       " 'u',\n",
       " 's',\n",
       " 't',\n",
       " ' ',\n",
       " 'f',\n",
       " 'i',\n",
       " 'n',\n",
       " 'e']"
      ]
     },
     "execution_count": 6,
     "metadata": {},
     "output_type": "execute_result"
    }
   ],
   "source": [
    "#elimate the punctuation in form of characters and print them\n",
    "no_punctuation=[char for char in test_sentence if not char in string.punctuation]\n",
    "no_punctuation"
   ]
  },
  {
   "cell_type": "code",
   "execution_count": 7,
   "id": "84ee9ff9-b61a-4b99-87e8-b2da7129a435",
   "metadata": {},
   "outputs": [
    {
     "data": {
      "text/plain": [
       "'This is my first test string Wow we are doing just fine'"
      ]
     },
     "execution_count": 7,
     "metadata": {},
     "output_type": "execute_result"
    }
   ],
   "source": [
    "#now eliminate the punctuation and print them as a whole sentence\n",
    "no_punctuation = \"\".join(no_punctuation)\n",
    "no_punctuation"
   ]
  },
  {
   "cell_type": "code",
   "execution_count": 8,
   "id": "905b4eea-c2c6-42b6-aded-3924d1e2c8ea",
   "metadata": {},
   "outputs": [
    {
     "data": {
      "text/plain": [
       "['This',\n",
       " 'is',\n",
       " 'my',\n",
       " 'first',\n",
       " 'test',\n",
       " 'string',\n",
       " 'Wow',\n",
       " 'we',\n",
       " 'are',\n",
       " 'doing',\n",
       " 'just',\n",
       " 'fine']"
      ]
     },
     "execution_count": 8,
     "metadata": {},
     "output_type": "execute_result"
    }
   ],
   "source": [
    "# split each words present in the new sentence\n",
    "no_punctuation.split()"
   ]
  },
  {
   "cell_type": "code",
   "execution_count": 9,
   "id": "b7b3bc96-731e-4e41-9388-9e56b1283157",
   "metadata": {},
   "outputs": [],
   "source": [
    "#Now elimate stopwords\n",
    "clean_sentence=[word for word in no_punctuation.split() if word.lower() not in stopwords.words(\"english\")]"
   ]
  },
  {
   "cell_type": "code",
   "execution_count": 10,
   "id": "f0dfa87c-3133-4717-b418-8506c00a074a",
   "metadata": {},
   "outputs": [
    {
     "data": {
      "text/plain": [
       "['first', 'test', 'string', 'Wow', 'fine']"
      ]
     },
     "execution_count": 10,
     "metadata": {},
     "output_type": "execute_result"
    }
   ],
   "source": [
    "#print the final cleaned sentence\n",
    "clean_sentence"
   ]
  },
  {
   "cell_type": "code",
   "execution_count": 11,
   "id": "527dc07c-415b-47e0-8758-e03a7ac034a8",
   "metadata": {},
   "outputs": [],
   "source": [
    "#load dataset\n",
    "from sklearn.datasets import load_digits"
   ]
  },
  {
   "cell_type": "code",
   "execution_count": 12,
   "id": "cce5e6c3-3060-43f3-b0b3-2cf1d5241d94",
   "metadata": {},
   "outputs": [],
   "source": [
    "#create object of the loaded dataset\n",
    "digit_dataset=load_digits()"
   ]
  },
  {
   "cell_type": "code",
   "execution_count": 13,
   "id": "9a7911cf-6066-4a69-a55b-1c33a9408553",
   "metadata": {},
   "outputs": [
    {
     "data": {
      "text/plain": [
       "\".. _digits_dataset:\\n\\nOptical recognition of handwritten digits dataset\\n--------------------------------------------------\\n\\n**Data Set Characteristics:**\\n\\n    :Number of Instances: 1797\\n    :Number of Attributes: 64\\n    :Attribute Information: 8x8 image of integer pixels in the range 0..16.\\n    :Missing Attribute Values: None\\n    :Creator: E. Alpaydin (alpaydin '@' boun.edu.tr)\\n    :Date: July; 1998\\n\\nThis is a copy of the test set of the UCI ML hand-written digits datasets\\nhttps://archive.ics.uci.edu/ml/datasets/Optical+Recognition+of+Handwritten+Digits\\n\\nThe data set contains images of hand-written digits: 10 classes where\\neach class refers to a digit.\\n\\nPreprocessing programs made available by NIST were used to extract\\nnormalized bitmaps of handwritten digits from a preprinted form. From a\\ntotal of 43 people, 30 contributed to the training set and different 13\\nto the test set. 32x32 bitmaps are divided into nonoverlapping blocks of\\n4x4 and the number of on pixels are counted in each block. This generates\\nan input matrix of 8x8 where each element is an integer in the range\\n0..16. This reduces dimensionality and gives invariance to small\\ndistortions.\\n\\nFor info on NIST preprocessing routines, see M. D. Garris, J. L. Blue, G.\\nT. Candela, D. L. Dimmick, J. Geist, P. J. Grother, S. A. Janet, and C.\\nL. Wilson, NIST Form-Based Handprint Recognition System, NISTIR 5469,\\n1994.\\n\\n.. topic:: References\\n\\n  - C. Kaynak (1995) Methods of Combining Multiple Classifiers and Their\\n    Applications to Handwritten Digit Recognition, MSc Thesis, Institute of\\n    Graduate Studies in Science and Engineering, Bogazici University.\\n  - E. Alpaydin, C. Kaynak (1998) Cascading Classifiers, Kybernetika.\\n  - Ken Tang and Ponnuthurai N. Suganthan and Xi Yao and A. Kai Qin.\\n    Linear dimensionalityreduction using relevance weighted LDA. School of\\n    Electrical and Electronic Engineering Nanyang Technological University.\\n    2005.\\n  - Claudio Gentile. A New Approximate Maximal Margin Classification\\n    Algorithm. NIPS. 2000.\\n\""
      ]
     },
     "execution_count": 13,
     "metadata": {},
     "output_type": "execute_result"
    }
   ],
   "source": [
    "#use built in descr function to describe dataset\n",
    "digit_dataset.DESCR"
   ]
  },
  {
   "cell_type": "code",
   "execution_count": 14,
   "id": "e9b1945c-278d-4e0a-bf0f-3e36eb6e99e7",
   "metadata": {},
   "outputs": [
    {
     "data": {
      "text/plain": [
       "sklearn.utils.Bunch"
      ]
     },
     "execution_count": 14,
     "metadata": {},
     "output_type": "execute_result"
    }
   ],
   "source": [
    "#view type of dataset\n",
    "type(digit_dataset)"
   ]
  },
  {
   "cell_type": "code",
   "execution_count": 15,
   "id": "923fde89-d447-4e45-becf-42c6b1981678",
   "metadata": {},
   "outputs": [
    {
     "data": {
      "text/plain": [
       "array([[ 0.,  0.,  5., ...,  0.,  0.,  0.],\n",
       "       [ 0.,  0.,  0., ..., 10.,  0.,  0.],\n",
       "       [ 0.,  0.,  0., ..., 16.,  9.,  0.],\n",
       "       ...,\n",
       "       [ 0.,  0.,  1., ...,  6.,  0.,  0.],\n",
       "       [ 0.,  0.,  2., ..., 12.,  0.,  0.],\n",
       "       [ 0.,  0., 10., ..., 12.,  1.,  0.]])"
      ]
     },
     "execution_count": 15,
     "metadata": {},
     "output_type": "execute_result"
    }
   ],
   "source": [
    "#view data\n",
    "digit_dataset.data"
   ]
  },
  {
   "cell_type": "code",
   "execution_count": 16,
   "id": "f1a20094-cdc5-41fe-8b94-a187a2893a0a",
   "metadata": {},
   "outputs": [
    {
     "data": {
      "text/plain": [
       "array([0, 1, 2, ..., 8, 9, 8])"
      ]
     },
     "execution_count": 16,
     "metadata": {},
     "output_type": "execute_result"
    }
   ],
   "source": [
    "#view target\n",
    "digit_dataset.target"
   ]
  },
  {
   "cell_type": "markdown",
   "id": "28217120-f57e-49e4-80f1-529a990844c1",
   "metadata": {},
   "source": [
    "### NLP-Bag of Words"
   ]
  },
  {
   "cell_type": "code",
   "execution_count": 17,
   "id": "f6a19418-9a28-4726-9057-d3b4ac3786e2",
   "metadata": {},
   "outputs": [],
   "source": [
    "#import required library\n",
    "from sklearn.feature_extraction.text import CountVectorizer"
   ]
  },
  {
   "cell_type": "code",
   "execution_count": 18,
   "id": "268a2329-d87c-44d2-b355-faf60a2b6eda",
   "metadata": {},
   "outputs": [],
   "source": [
    "#instantiate the vectorizer\n",
    "vectorizer=CountVectorizer()"
   ]
  },
  {
   "cell_type": "code",
   "execution_count": 28,
   "id": "f0c21c67-fa3e-4e5a-ac40-3aaea27f4eab",
   "metadata": {},
   "outputs": [],
   "source": [
    "#create 3 documents\n",
    "document1= \"Hi How are you\"\n",
    "document2= \"today is a very very pleasant day and we can have some fun fun fun\"\n",
    "document3= \"This was an amazing experience\""
   ]
  },
  {
   "cell_type": "code",
   "execution_count": 29,
   "id": "a67dcc71-8e49-49a7-8911-c06fc94cc2d9",
   "metadata": {},
   "outputs": [],
   "source": [
    "#put them together\n",
    "listofdocuments= [document1, document2, document3]"
   ]
  },
  {
   "cell_type": "code",
   "execution_count": 30,
   "id": "0912b3c8-1347-47fd-af5e-5aea047dcf32",
   "metadata": {},
   "outputs": [],
   "source": [
    "#fit them as bag of words\n",
    "bag_of_words=vectorizer.fit(listofdocuments)"
   ]
  },
  {
   "cell_type": "code",
   "execution_count": 31,
   "id": "a8e4e842-4ffd-4846-9160-cc52a6a5b7fd",
   "metadata": {},
   "outputs": [
    {
     "data": {
      "text/plain": [
       "CountVectorizer()"
      ]
     },
     "execution_count": 31,
     "metadata": {},
     "output_type": "execute_result"
    }
   ],
   "source": [
    "#check the bag\n",
    "bag_of_words"
   ]
  },
  {
   "cell_type": "code",
   "execution_count": 32,
   "id": "b6d4509c-145f-42a5-88fc-f6cab35b8f6c",
   "metadata": {},
   "outputs": [],
   "source": [
    "#apply transform method\n",
    "bag_of_words=vectorizer.transform(listofdocuments)"
   ]
  },
  {
   "cell_type": "code",
   "execution_count": 33,
   "id": "4bbb5b93-9747-4f8d-803c-e9f2b51fa2dc",
   "metadata": {},
   "outputs": [
    {
     "name": "stdout",
     "output_type": "stream",
     "text": [
      "  (0, 3)\t1\n",
      "  (0, 9)\t1\n",
      "  (0, 10)\t1\n",
      "  (0, 19)\t1\n",
      "  (1, 2)\t1\n",
      "  (1, 4)\t1\n",
      "  (1, 5)\t1\n",
      "  (1, 7)\t3\n",
      "  (1, 8)\t1\n",
      "  (1, 11)\t1\n",
      "  (1, 12)\t1\n",
      "  (1, 13)\t1\n",
      "  (1, 15)\t1\n",
      "  (1, 16)\t2\n",
      "  (1, 18)\t1\n",
      "  (2, 0)\t1\n",
      "  (2, 1)\t1\n",
      "  (2, 6)\t1\n",
      "  (2, 14)\t1\n",
      "  (2, 17)\t1\n"
     ]
    }
   ],
   "source": [
    "#print bag of words\n",
    "print(bag_of_words)"
   ]
  },
  {
   "cell_type": "code",
   "execution_count": 26,
   "id": "0306b344-578e-4637-b463-ea2b59a939c9",
   "metadata": {},
   "outputs": [
    {
     "name": "stdout",
     "output_type": "stream",
     "text": [
      "16\n",
      "7\n"
     ]
    }
   ],
   "source": [
    "#verify the vocabulary for repeated word\n",
    "print(vectorizer.vocabulary_.get(\"very\"))\n",
    "print(vectorizer.vocabulary_.get(\"fun\"))"
   ]
  },
  {
   "cell_type": "code",
   "execution_count": 27,
   "id": "ebf0c603-f4af-4534-b1be-4c6fe6f31dfc",
   "metadata": {},
   "outputs": [
    {
     "data": {
      "text/plain": [
       "scipy.sparse.csr.csr_matrix"
      ]
     },
     "execution_count": 27,
     "metadata": {},
     "output_type": "execute_result"
    }
   ],
   "source": [
    "#check the type of bag of words\n",
    "type(bag_of_words)"
   ]
  },
  {
   "cell_type": "markdown",
   "id": "0b4016aa-6a3e-428c-9181-e5d633eb06b2",
   "metadata": {},
   "source": [
    "### NlP-Pipeline and Grid Search"
   ]
  },
  {
   "cell_type": "code",
   "execution_count": 34,
   "id": "70b4a5f0-5811-46dd-926c-d4ab44139a3f",
   "metadata": {},
   "outputs": [],
   "source": [
    "# Import the required libraries\n",
    "import pandas as pd\n",
    "import string\n",
    "from pprint import pprint\n",
    "from time import time"
   ]
  },
  {
   "cell_type": "code",
   "execution_count": 68,
   "id": "67204794-3b52-46fd-a7da-8030abc2c309",
   "metadata": {},
   "outputs": [],
   "source": [
    "#import the dataset\n",
    "df_spam_collection=pd.read_csv(\"//Users//motolanikay-salami//Downloads//Spam2.csv\",encoding = \"ISO-8859-1\")"
   ]
  },
  {
   "cell_type": "code",
   "execution_count": 69,
   "id": "fad33bba-69b7-427c-96c3-1ee31630b45c",
   "metadata": {},
   "outputs": [
    {
     "data": {
      "text/html": [
       "<div>\n",
       "<style scoped>\n",
       "    .dataframe tbody tr th:only-of-type {\n",
       "        vertical-align: middle;\n",
       "    }\n",
       "\n",
       "    .dataframe tbody tr th {\n",
       "        vertical-align: top;\n",
       "    }\n",
       "\n",
       "    .dataframe thead th {\n",
       "        text-align: right;\n",
       "    }\n",
       "</style>\n",
       "<table border=\"1\" class=\"dataframe\">\n",
       "  <thead>\n",
       "    <tr style=\"text-align: right;\">\n",
       "      <th></th>\n",
       "      <th>response</th>\n",
       "      <th>message</th>\n",
       "    </tr>\n",
       "  </thead>\n",
       "  <tbody>\n",
       "    <tr>\n",
       "      <th>0</th>\n",
       "      <td>ham</td>\n",
       "      <td>Go until jurong point, crazy.. Available only ...</td>\n",
       "    </tr>\n",
       "    <tr>\n",
       "      <th>1</th>\n",
       "      <td>ham</td>\n",
       "      <td>Ok lar... Joking wif u oni...</td>\n",
       "    </tr>\n",
       "    <tr>\n",
       "      <th>2</th>\n",
       "      <td>spam</td>\n",
       "      <td>Free entry in 2 a wkly comp to win FA Cup fina...</td>\n",
       "    </tr>\n",
       "    <tr>\n",
       "      <th>3</th>\n",
       "      <td>ham</td>\n",
       "      <td>U dun say so early hor... U c already then say...</td>\n",
       "    </tr>\n",
       "    <tr>\n",
       "      <th>4</th>\n",
       "      <td>ham</td>\n",
       "      <td>Nah I don't think he goes to usf, he lives aro...</td>\n",
       "    </tr>\n",
       "  </tbody>\n",
       "</table>\n",
       "</div>"
      ],
      "text/plain": [
       "  response                                            message\n",
       "0      ham  Go until jurong point, crazy.. Available only ...\n",
       "1      ham                      Ok lar... Joking wif u oni...\n",
       "2     spam  Free entry in 2 a wkly comp to win FA Cup fina...\n",
       "3      ham  U dun say so early hor... U c already then say...\n",
       "4      ham  Nah I don't think he goes to usf, he lives aro..."
      ]
     },
     "execution_count": 69,
     "metadata": {},
     "output_type": "execute_result"
    }
   ],
   "source": [
    "#view first five records with head method\n",
    "df_spam_collection.head()"
   ]
  },
  {
   "cell_type": "code",
   "execution_count": 71,
   "id": "13016ce0-ab26-4a24-9499-a5769061d173",
   "metadata": {},
   "outputs": [],
   "source": [
    "#import text processing libraries\n",
    "from sklearn.feature_extraction.text import CountVectorizer\n",
    "from sklearn.feature_extraction.text import TfidfTransformer\n",
    "#import SGD classifier\n",
    "from sklearn.linear_model import SGDClassifier\n",
    "#import for gridsearch\n",
    "from sklearn.model_selection import GridSearchCV\n",
    "#import for pipeline\n",
    "from sklearn.pipeline import Pipeline\n",
    "#define the pipeline\n",
    "pipeline= Pipeline([\n",
    "       (\"vect\",CountVectorizer()),\n",
    "       (\"tfidf\",TfidfTransformer()),\n",
    "       (\"clf\",SGDClassifier())\n",
    "    ])"
   ]
  },
  {
   "cell_type": "code",
   "execution_count": 72,
   "id": "0de5c108-04ab-4ad8-935f-59afb71abc62",
   "metadata": {},
   "outputs": [],
   "source": [
    "#parameters for grid search\n",
    "parameters={\"tfidf__use_idf\":(True,False)}"
   ]
  },
  {
   "cell_type": "code",
   "execution_count": 74,
   "id": "6c82e52d-c593-4b03-8c39-9058516204e0",
   "metadata": {},
   "outputs": [
    {
     "name": "stdout",
     "output_type": "stream",
     "text": [
      "performing grid search now...\n",
      "parameters: \n",
      "{'tfidf__use_idf': (True, False)}\n",
      "Fitting 5 folds for each of 2 candidates, totalling 10 fits\n",
      "done in 0.979s\n",
      "\n"
     ]
    }
   ],
   "source": [
    "#perform the gridsearch with guidelines\n",
    "grid_search=GridSearchCV(pipeline,parameters,n_jobs=-1,verbose=1)\n",
    "print(\"performing grid search now...\")\n",
    "print(\"parameters: \")\n",
    "pprint(parameters)\n",
    "t0=time()\n",
    "grid_search.fit(df_spam_collection[\"message\"],df_spam_collection[\"response\"])\n",
    "print(\"done in %0.3fs\"% (time()-t0))\n",
    "print()"
   ]
  },
  {
   "cell_type": "code",
   "execution_count": null,
   "id": "f506b6a6-7ee9-45e6-8648-b36a5a2881f3",
   "metadata": {},
   "outputs": [],
   "source": []
  },
  {
   "cell_type": "code",
   "execution_count": null,
   "id": "72545bd6-dcc3-48df-8e8a-ebcb8f5db022",
   "metadata": {},
   "outputs": [],
   "source": []
  }
 ],
 "metadata": {
  "kernelspec": {
   "display_name": "Python 3 (ipykernel)",
   "language": "python",
   "name": "python3"
  },
  "language_info": {
   "codemirror_mode": {
    "name": "ipython",
    "version": 3
   },
   "file_extension": ".py",
   "mimetype": "text/x-python",
   "name": "python",
   "nbconvert_exporter": "python",
   "pygments_lexer": "ipython3",
   "version": "3.9.7"
  }
 },
 "nbformat": 4,
 "nbformat_minor": 5
}
