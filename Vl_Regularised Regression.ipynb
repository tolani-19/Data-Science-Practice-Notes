{
 "cells": [
  {
   "cell_type": "markdown",
   "id": "1ca0437b-9185-45ff-a4b4-b27e44765fb2",
   "metadata": {},
   "source": [
    "### Regularised Regression"
   ]
  },
  {
   "cell_type": "code",
   "execution_count": 2,
   "id": "1f3f5489-5198-4170-ad54-faa0d9abd399",
   "metadata": {},
   "outputs": [],
   "source": [
    "### Import the important libraries\n",
    "import pandas as pd\n",
    "import numpy as np\n",
    "import matplotlib.pyplot as plt\n",
    "from sklearn import datasets\n",
    "from sklearn.model_selection import train_test_split\n",
    "from sklearn.linear_model import LinearRegression"
   ]
  },
  {
   "cell_type": "code",
   "execution_count": 4,
   "id": "c0b2819b-924c-42a3-8913-c782586e209c",
   "metadata": {},
   "outputs": [],
   "source": [
    "# Loading pre-defined Boston Dataset\n",
    "boston_dataset=datasets.load_boston()"
   ]
  },
  {
   "cell_type": "code",
   "execution_count": 5,
   "id": "0476c3cc-6c9e-4d58-bbf8-413295f1f703",
   "metadata": {},
   "outputs": [
    {
     "name": "stdout",
     "output_type": "stream",
     "text": [
      "      CRIM    ZN  INDUS  CHAS    NOX     RM   AGE     DIS  RAD    TAX  \\\n",
      "0  0.00632  18.0   2.31   0.0  0.538  6.575  65.2  4.0900  1.0  296.0   \n",
      "1  0.02731   0.0   7.07   0.0  0.469  6.421  78.9  4.9671  2.0  242.0   \n",
      "2  0.02729   0.0   7.07   0.0  0.469  7.185  61.1  4.9671  2.0  242.0   \n",
      "3  0.03237   0.0   2.18   0.0  0.458  6.998  45.8  6.0622  3.0  222.0   \n",
      "4  0.06905   0.0   2.18   0.0  0.458  7.147  54.2  6.0622  3.0  222.0   \n",
      "\n",
      "   PTRATIO       B  LSTAT  House Price  \n",
      "0     15.3  396.90   4.98         24.0  \n",
      "1     17.8  396.90   9.14         21.6  \n",
      "2     17.8  392.83   4.03         34.7  \n",
      "3     18.7  394.63   2.94         33.4  \n",
      "4     18.7  396.90   5.33         36.2  \n"
     ]
    }
   ],
   "source": [
    "# Load the dataset\n",
    "boston_pd=pd.DataFrame(boston_dataset.data)\n",
    "boston_pd.columns=boston_dataset.feature_names\n",
    "boston_pd_target=np.asarray(boston_dataset.target)\n",
    "boston_pd[\"House Price\"]=pd.Series(boston_pd_target)\n",
    "\n",
    "#input\n",
    "X=boston_pd.iloc[:, :-1]\n",
    "\n",
    "#output\n",
    "Y=boston_pd.iloc[:, -1]\n",
    "\n",
    "print(boston_pd.head())"
   ]
  },
  {
   "cell_type": "code",
   "execution_count": 6,
   "id": "fdcd9b80-79ab-4633-a9be-ebceee6a332f",
   "metadata": {},
   "outputs": [
    {
     "name": "stdout",
     "output_type": "stream",
     "text": [
      "Train data shape of X = (379, 13) and Y = (379,) : \n",
      "Test data shape of X = (127, 13) and Y = (127,) : \n"
     ]
    }
   ],
   "source": [
    "x_train, x_test, y_train, y_test = train_test_split(\n",
    "boston_pd.iloc[:, :-1], boston_pd.iloc[:, -1],\n",
    "test_size=0.25)\n",
    "\n",
    "print(\"Train data shape of X = % s and Y = % s : \"%(\n",
    "x_train.shape, y_train.shape))\n",
    "\n",
    "print(\"Test data shape of X = % s and Y = % s : \"%(\n",
    "x_test.shape, y_test.shape))"
   ]
  },
  {
   "cell_type": "code",
   "execution_count": 9,
   "id": "220b161b-00b7-4d92-9394-eddd6561fdf4",
   "metadata": {},
   "outputs": [
    {
     "name": "stdout",
     "output_type": "stream",
     "text": [
      "Mean squared Error on test set:  18.422037834415082\n",
      "    Columns  Coefficient Estimate\n",
      "0      CRIM             -0.108578\n",
      "1        ZN              0.052792\n",
      "2     INDUS              0.042694\n",
      "3      CHAS              2.402768\n",
      "4       NOX            -18.929577\n",
      "5        RM              3.672619\n",
      "6       AGE              0.024392\n",
      "7       DIS             -1.397351\n",
      "8       RAD              0.366420\n",
      "9       TAX             -0.015681\n",
      "10  PTRATIO             -1.007631\n",
      "11        B              0.009455\n",
      "12    LSTAT             -0.572182\n"
     ]
    }
   ],
   "source": [
    "#Apply multiple Linear Regression\n",
    "lreg= LinearRegression()\n",
    "lreg.fit(x_train, y_train)\n",
    "\n",
    "\n",
    "# Generate Prediction on Test set\n",
    "lreg_y_pred=lreg.predict(x_test)\n",
    "\n",
    "\n",
    "#Calculating Mean Squared Error(mse)\n",
    "mean_squared_error=np.mean((lreg_y_pred-y_test)**2)\n",
    "print(\"Mean squared Error on test set: \", mean_squared_error)\n",
    "\n",
    "#Putting together coefficients and their corresponding variable names\n",
    "lreg_coefficient=pd.DataFrame()\n",
    "lreg_coefficient[\"Columns\"]=x_train.columns\n",
    "lreg_coefficient[\"Coefficient Estimate\"]=pd.Series(lreg.coef_)\n",
    "print(lreg_coefficient)"
   ]
  },
  {
   "cell_type": "code",
   "execution_count": 10,
   "id": "e4771360-e127-4cfd-8193-018a4abd2f05",
   "metadata": {},
   "outputs": [
    {
     "data": {
      "image/png": "[encoded data removed]",
      "text/plain": [
       "<Figure size 1440x720 with 1 Axes>"
      ]
     },
     "metadata": {
      "needs_background": "light"
     },
     "output_type": "display_data"
    }
   ],
   "source": [
    "# Plotting the coefficient score\n",
    "\n",
    "fig,ax=plt.subplots(figsize=(20,10))\n",
    "\n",
    "color =[\"tab:gray\", \"tab:blue\", \"tab:orange\", \"tab:green\", \"tab:red\", \"tab:purple\", \"tab:brown\", \"tab:pink\",\n",
    "        \"tab:gray\", \"tab:olive\", \"tab:cyan\", \"tab:orange\", \"tab:green\", \"tab:blue\", \"tab:olive\"]\n",
    "\n",
    "ax.bar(lreg_coefficient[\"Columns\"],\n",
    "lreg_coefficient[\"Coefficient Estimate\"],\n",
    "color=color)\n",
    "\n",
    "ax.spines[\"bottom\"].set_position(\"zero\")\n",
    "\n",
    "plt.style.use(\"ggplot\")\n",
    "plt.show()"
   ]
  },
  {
   "cell_type": "markdown",
   "id": "4923b2b6-4c5c-409f-be31-a4b3b60e2f7a",
   "metadata": {},
   "source": [
    "#### Now our motive is to reduce the coefficient score "
   ]
  },
  {
   "cell_type": "markdown",
   "id": "bcd6183c-348c-4c2d-a45b-06c71d12220f",
   "metadata": {},
   "source": [
    "#### Ridge Regression"
   ]
  },
  {
   "cell_type": "code",
   "execution_count": 15,
   "id": "b03e256a-fd50-4059-ba9e-a779ca788604",
   "metadata": {},
   "outputs": [
    {
     "name": "stdout",
     "output_type": "stream",
     "text": [
      "Mean squared Error on test set:  18.4385213112839\n",
      "    Columns  Coefficient Estimate\n",
      "0      CRIM             -0.104922\n",
      "1        ZN              0.053425\n",
      "2     INDUS              0.004850\n",
      "3      CHAS              2.161247\n",
      "4       NOX            -10.201544\n",
      "5        RM              3.708738\n",
      "6       AGE              0.015807\n",
      "7       DIS             -1.286488\n",
      "8       RAD              0.345082\n",
      "9       TAX             -0.016333\n",
      "10  PTRATIO             -0.919355\n",
      "11        B              0.009793\n",
      "12    LSTAT             -0.583578\n"
     ]
    }
   ],
   "source": [
    "# Import ridge regression from sklearn library\n",
    "from sklearn.linear_model import Ridge\n",
    "\n",
    "#Train the model\n",
    "ridgeR= Ridge(alpha=1)\n",
    "ridgeR.fit(x_train, y_train)\n",
    "y_pred=ridgeR.predict(x_test)\n",
    "\n",
    "#Calculating Mean Squared Error(mse)\n",
    "mean_squared_error_ridge=np.mean((y_pred-y_test)**2)\n",
    "print(\"Mean squared Error on test set: \", mean_squared_error_ridge)\n",
    "\n",
    "#get ridge coefficients and print them\n",
    "ridge_coefficient=pd.DataFrame()\n",
    "ridge_coefficient[\"Columns\"]=x_train.columns\n",
    "ridge_coefficient[\"Coefficient Estimate\"]=pd.Series(ridgeR.coef_)\n",
    "print(ridge_coefficient)"
   ]
  },
  {
   "cell_type": "code",
   "execution_count": 16,
   "id": "a4c421dd-2ba1-4ebf-a8af-3af9f3fdbd04",
   "metadata": {},
   "outputs": [
    {
     "data": {
      "image/png": "[encoded data removed]",
      "text/plain": [
       "<Figure size 1440x720 with 1 Axes>"
      ]
     },
     "metadata": {},
     "output_type": "display_data"
    }
   ],
   "source": [
    "#Plotting the coefficient score\n",
    "\n",
    "fig,ax=plt.subplots(figsize=(20,10))\n",
    "\n",
    "color =[\"tab:gray\", \"tab:blue\", \"tab:orange\", \"tab:green\", \"tab:red\", \"tab:purple\", \"tab:brown\", \"tab:pink\",\n",
    "        \"tab:gray\", \"tab:olive\", \"tab:cyan\", \"tab:orange\", \"tab:green\", \"tab:blue\", \"tab:olive\"]\n",
    "\n",
    "ax.bar(lreg_coefficient[\"Columns\"],\n",
    "lreg_coefficient[\"Coefficient Estimate\"],\n",
    "color=color)\n",
    "\n",
    "ax.spines[\"bottom\"].set_position(\"zero\")\n",
    "\n",
    "plt.style.use(\"ggplot\")\n",
    "plt.show()"
   ]
  },
  {
   "cell_type": "markdown",
   "id": "93e45e42-4f1b-4ec8-9ac9-f6d0ae99c383",
   "metadata": {},
   "source": [
    "#### Lasso Regression"
   ]
  },
  {
   "cell_type": "code",
   "execution_count": 19,
   "id": "25507f70-2c3c-4eae-b0b8-93dfb322cc66",
   "metadata": {},
   "outputs": [
    {
     "name": "stdout",
     "output_type": "stream",
     "text": [
      "Mean squared Error on test set:  18.4385213112839\n",
      "    Columns  Coefficient Estimate\n",
      "0      CRIM             -0.067425\n",
      "1        ZN              0.051229\n",
      "2     INDUS             -0.000000\n",
      "3      CHAS              0.000000\n",
      "4       NOX             -0.000000\n",
      "5        RM              1.132608\n",
      "6       AGE              0.040808\n",
      "7       DIS             -0.612851\n",
      "8       RAD              0.302533\n",
      "9       TAX             -0.017864\n",
      "10  PTRATIO             -0.775436\n",
      "11        B              0.008230\n",
      "12    LSTAT             -0.790007\n"
     ]
    }
   ],
   "source": [
    "# Import Lasso regression from sklearn library\n",
    "from sklearn.linear_model import Lasso\n",
    "\n",
    "#Train the model\n",
    "lasso= Lasso(alpha=1)\n",
    "lasso.fit(x_train, y_train)\n",
    "y_pred1=lasso.predict(x_test)\n",
    "\n",
    "#Calculating Mean Squared Error(mse)\n",
    "mean_squared_error=np.mean((y_pred-y_test)**2)\n",
    "print(\"Mean squared Error on test set: \", mean_squared_error)\n",
    "lasso_coeff=pd.DataFrame()\n",
    "lasso_coeff[\"Columns\"]=x_train.columns\n",
    "lasso_coeff[\"Coefficient Estimate\"]=pd.Series(lasso.coef_)\n",
    "print(lasso_coeff)"
   ]
  },
  {
   "cell_type": "code",
   "execution_count": null,
   "id": "0ac0aee2-7433-4506-8f29-e111cfdb13d9",
   "metadata": {},
   "outputs": [],
   "source": []
  }
 ],
 "metadata": {
  "kernelspec": {
   "display_name": "Python 3 (ipykernel)",
   "language": "python",
   "name": "python3"
  },
  "language_info": {
   "codemirror_mode": {
    "name": "ipython",
    "version": 3
   },
   "file_extension": ".py",
   "mimetype": "text/x-python",
   "name": "python",
   "nbconvert_exporter": "python",
   "pygments_lexer": "ipython3",
   "version": "3.9.7"
  }
 },
 "nbformat": 4,
 "nbformat_minor": 5
}
