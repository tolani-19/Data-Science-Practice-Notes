{
 "cells": [
  {
   "cell_type": "markdown",
   "id": "1a9849ee-d1c0-4713-94f1-abb4712bb633",
   "metadata": {},
   "source": [
    "### Importing Data "
   ]
  },
  {
   "cell_type": "markdown",
   "id": "43cae3b7-bdd5-4c89-ab7e-f3f61e7f2458",
   "metadata": {},
   "source": [
    "- ##### Process of loading and reading data into python from various resources."
   ]
  },
  {
   "cell_type": "markdown",
   "id": "068ce071-e668-4487-8d3b-3bed211a6fe3",
   "metadata": {},
   "source": [
    "- ##### Two important Properties:"
   ]
  },
  {
   "cell_type": "markdown",
   "id": "881dce53-22f9-45dc-b7bf-421144d6d5d1",
   "metadata": {},
   "source": [
    "- ##### format\n",
    "##### various formats: .csv, .json, .xlsx, .hdf........"
   ]
  },
  {
   "cell_type": "markdown",
   "id": "4e8faea9-2326-4dc2-9393-7f99616f50df",
   "metadata": {},
   "source": [
    "- ##### File Path of dataset\n",
    "##### Computer:/Desktop/mydata.csv\n",
    "##### Internet:https://archive.ics.uci.edu/autos/imports-85.data"
   ]
  },
  {
   "cell_type": "markdown",
   "id": "71f82b52-15db-4364-be83-85d8322b3645",
   "metadata": {},
   "source": [
    "### Importing a CSV into python"
   ]
  },
  {
   "cell_type": "code",
   "execution_count": 2,
   "id": "6d44af12-0c8e-4b91-aade-150c6514fb85",
   "metadata": {},
   "outputs": [
    {
     "name": "stdout",
     "output_type": "stream",
     "text": [
      "     3    ?  alfa-romero     gas    std   two  convertible  rwd  front  88.60  \\\n",
      "0    3    ?  alfa-romero     gas    std   two  convertible  rwd  front   88.6   \n",
      "1    1    ?  alfa-romero     gas    std   two    hatchback  rwd  front   94.5   \n",
      "2    2  164         audi     gas    std  four        sedan  fwd  front   99.8   \n",
      "3    2  164         audi     gas    std  four        sedan  4wd  front   99.4   \n",
      "4    2    ?         audi     gas    std   two        sedan  fwd  front   99.8   \n",
      "..  ..  ...          ...     ...    ...   ...          ...  ...    ...    ...   \n",
      "199 -1   95        volvo     gas    std  four        sedan  rwd  front  109.1   \n",
      "200 -1   95        volvo     gas  turbo  four        sedan  rwd  front  109.1   \n",
      "201 -1   95        volvo     gas    std  four        sedan  rwd  front  109.1   \n",
      "202 -1   95        volvo  diesel  turbo  four        sedan  rwd  front  109.1   \n",
      "203 -1   95        volvo     gas  turbo  four        sedan  rwd  front  109.1   \n",
      "\n",
      "     ...  130  mpfi  3.47  2.68  9.00  111  5000  21  27  13495  \n",
      "0    ...  130  mpfi  3.47  2.68   9.0  111  5000  21  27  16500  \n",
      "1    ...  152  mpfi  2.68  3.47   9.0  154  5000  19  26  16500  \n",
      "2    ...  109  mpfi  3.19  3.40  10.0  102  5500  24  30  13950  \n",
      "3    ...  136  mpfi  3.19  3.40   8.0  115  5500  18  22  17450  \n",
      "4    ...  136  mpfi  3.19  3.40   8.5  110  5500  19  25  15250  \n",
      "..   ...  ...   ...   ...   ...   ...  ...   ...  ..  ..    ...  \n",
      "199  ...  141  mpfi  3.78  3.15   9.5  114  5400  23  28  16845  \n",
      "200  ...  141  mpfi  3.78  3.15   8.7  160  5300  19  25  19045  \n",
      "201  ...  173  mpfi  3.58  2.87   8.8  134  5500  18  23  21485  \n",
      "202  ...  145   idi  3.01  3.40  23.0  106  4800  26  27  22470  \n",
      "203  ...  141  mpfi  3.78  3.15   9.5  114  5400  19  25  22625  \n",
      "\n",
      "[204 rows x 26 columns]\n"
     ]
    }
   ],
   "source": [
    "import pandas as pd\n",
    "url=pd.read_csv(\"Desktop//Data Science Bootcamp//Dataset//Dataset,+lesson+4.+imports-85.data\")\n",
    "print(url)"
   ]
  },
  {
   "cell_type": "markdown",
   "id": "a4b3c3d2-193d-43ad-b3b1-16e8062c2029",
   "metadata": {},
   "source": [
    "### Importing a CSV without a header"
   ]
  },
  {
   "cell_type": "code",
   "execution_count": 8,
   "id": "af9e7dbe-b7f0-4c3c-a286-5fb3db43f38c",
   "metadata": {},
   "outputs": [],
   "source": [
    "import pandas as pd\n",
    "url= pd.read_csv((\"Desktop//Data Science Bootcamp//Dataset//Dataset,+lesson+4.+imports-85.data\"),header= None)"
   ]
  },
  {
   "cell_type": "markdown",
   "id": "a63d8cb5-ac66-4322-9914-0512525d1879",
   "metadata": {},
   "source": [
    "### Exporting a Pandas dataframe to CSV"
   ]
  },
  {
   "cell_type": "code",
   "execution_count": 16,
   "id": "96130a84-2e9b-4658-af77-8e8e1883915d",
   "metadata": {},
   "outputs": [
    {
     "name": "stdout",
     "output_type": "stream",
     "text": [
      "None\n"
     ]
    }
   ],
   "source": [
    "path=df.to_csv(\"Desktop//Data Science Bootcamp//Dataset//Dataset,+lesson+4.+imports-85.data\")\n",
    "print(path)"
   ]
  },
  {
   "cell_type": "code",
   "execution_count": null,
   "id": "fd39af41-7911-4221-ac2c-dadc215d642b",
   "metadata": {},
   "outputs": [],
   "source": []
  }
 ],
 "metadata": {
  "kernelspec": {
   "display_name": "Python 3 (ipykernel)",
   "language": "python",
   "name": "python3"
  },
  "language_info": {
   "codemirror_mode": {
    "name": "ipython",
    "version": 3
   },
   "file_extension": ".py",
   "mimetype": "text/x-python",
   "name": "python",
   "nbconvert_exporter": "python",
   "pygments_lexer": "ipython3",
   "version": "3.9.7"
  }
 },
 "nbformat": 4,
 "nbformat_minor": 5
}
