{
 "cells": [
  {
   "cell_type": "markdown",
   "id": "67d4460b-24e3-467d-a4d8-6ee7b6314ac9",
   "metadata": {},
   "source": [
    "# Hypothesis test "
   ]
  },
  {
   "cell_type": "markdown",
   "id": "7f02f449-4897-4509-b7e0-bf6fd537e57a",
   "metadata": {},
   "source": [
    "##### Hypothesis test gives a way of using samples to test whether or not statistical claimes are likely to be true or not"
   ]
  },
  {
   "cell_type": "markdown",
   "id": "5c46aacc-3438-4429-ba1b-64d029941b67",
   "metadata": {},
   "source": [
    "### Test the difference between two groups"
   ]
  },
  {
   "cell_type": "markdown",
   "id": "46620cb6-112b-4581-a172-e83a2618a0a7",
   "metadata": {},
   "source": [
    "###### t-test assesses whether the means of two groups are statistically different from each other. This analysis is appropriate whenever you want to compare the means of two groups"
   ]
  },
  {
   "cell_type": "code",
   "execution_count": 1,
   "id": "9634c336-6d3a-4004-b8c6-ab8dff2544d4",
   "metadata": {},
   "outputs": [],
   "source": [
    "%matplotlib inline\n",
    "import pandas as pd\n",
    "import matplotlib.pyplot as plt\n",
    "from scipy import stats \n",
    "import seaborn as sns \n",
    "import statsmodels.api as sm\n",
    "from sklearn import linear_model"
   ]
  },
  {
   "cell_type": "code",
   "execution_count": 4,
   "id": "29752df5-ab0a-4b3b-99d3-253d021a895a",
   "metadata": {},
   "outputs": [],
   "source": [
    "from scipy.stats import ttest_1samp, wilcoxon, ttest_ind, mannwhitneyu"
   ]
  },
  {
   "cell_type": "code",
   "execution_count": 5,
   "id": "54d82a85-3fae-4971-9a07-d98793e78458",
   "metadata": {},
   "outputs": [],
   "source": [
    "import scipy.stats as stats"
   ]
  },
  {
   "cell_type": "code",
   "execution_count": 6,
   "id": "baab7cb2-b078-4d51-b797-43e435764dda",
   "metadata": {},
   "outputs": [
    {
     "data": {
      "text/html": [
       "<div>\n",
       "<style scoped>\n",
       "    .dataframe tbody tr th:only-of-type {\n",
       "        vertical-align: middle;\n",
       "    }\n",
       "\n",
       "    .dataframe tbody tr th {\n",
       "        vertical-align: top;\n",
       "    }\n",
       "\n",
       "    .dataframe thead th {\n",
       "        text-align: right;\n",
       "    }\n",
       "</style>\n",
       "<table border=\"1\" class=\"dataframe\">\n",
       "  <thead>\n",
       "    <tr style=\"text-align: right;\">\n",
       "      <th></th>\n",
       "      <th>sepal_length</th>\n",
       "      <th>sepal_width</th>\n",
       "      <th>petal_length</th>\n",
       "      <th>petal_width</th>\n",
       "      <th>species</th>\n",
       "    </tr>\n",
       "  </thead>\n",
       "  <tbody>\n",
       "    <tr>\n",
       "      <th>0</th>\n",
       "      <td>5.1</td>\n",
       "      <td>3.5</td>\n",
       "      <td>1.4</td>\n",
       "      <td>0.2</td>\n",
       "      <td>setosa</td>\n",
       "    </tr>\n",
       "    <tr>\n",
       "      <th>1</th>\n",
       "      <td>4.9</td>\n",
       "      <td>3.0</td>\n",
       "      <td>1.4</td>\n",
       "      <td>0.2</td>\n",
       "      <td>setosa</td>\n",
       "    </tr>\n",
       "    <tr>\n",
       "      <th>2</th>\n",
       "      <td>4.7</td>\n",
       "      <td>3.2</td>\n",
       "      <td>1.3</td>\n",
       "      <td>0.2</td>\n",
       "      <td>setosa</td>\n",
       "    </tr>\n",
       "    <tr>\n",
       "      <th>3</th>\n",
       "      <td>4.6</td>\n",
       "      <td>3.1</td>\n",
       "      <td>1.5</td>\n",
       "      <td>0.2</td>\n",
       "      <td>setosa</td>\n",
       "    </tr>\n",
       "    <tr>\n",
       "      <th>4</th>\n",
       "      <td>5.0</td>\n",
       "      <td>3.6</td>\n",
       "      <td>1.4</td>\n",
       "      <td>0.2</td>\n",
       "      <td>setosa</td>\n",
       "    </tr>\n",
       "  </tbody>\n",
       "</table>\n",
       "</div>"
      ],
      "text/plain": [
       "   sepal_length  sepal_width  petal_length  petal_width species\n",
       "0           5.1          3.5           1.4          0.2  setosa\n",
       "1           4.9          3.0           1.4          0.2  setosa\n",
       "2           4.7          3.2           1.3          0.2  setosa\n",
       "3           4.6          3.1           1.5          0.2  setosa\n",
       "4           5.0          3.6           1.4          0.2  setosa"
      ]
     },
     "execution_count": 6,
     "metadata": {},
     "output_type": "execute_result"
    }
   ],
   "source": [
    "# Load the data into a pandas dataframe\n",
    "iris=sns.load_dataset(\"iris\")\n",
    "iris.head()"
   ]
  },
  {
   "cell_type": "markdown",
   "id": "8578acd3-6188-4f4a-b6f0-7e517590928a",
   "metadata": {},
   "source": [
    "#### One-sided t-test"
   ]
  },
  {
   "cell_type": "markdown",
   "id": "6075af31-eda8-4747-a42e-2c7e5d0528dc",
   "metadata": {},
   "source": [
    "###### null hypothesis: expected mean value of sepal length=17\n",
    "###### reject HO if p is less than 0.05"
   ]
  },
  {
   "cell_type": "code",
   "execution_count": 12,
   "id": "26a31e6b-f529-4d3b-9ceb-454ee6ceebe3",
   "metadata": {},
   "outputs": [],
   "source": [
    "t_statistics, p_value= ttest_1samp(iris[\"sepal_length\"],17)"
   ]
  },
  {
   "cell_type": "code",
   "execution_count": 15,
   "id": "b4be6373-10c4-4fac-8594-d52e026d054a",
   "metadata": {},
   "outputs": [
    {
     "name": "stdout",
     "output_type": "stream",
     "text": [
      "one-sample t-test 1.3547273241940764e-170\n"
     ]
    }
   ],
   "source": [
    "print(\"one-sample t-test\", p_value)"
   ]
  },
  {
   "cell_type": "code",
   "execution_count": 16,
   "id": "73af8512-8cdb-43b5-b4ba-5e8debd130f1",
   "metadata": {},
   "outputs": [],
   "source": [
    "# p_value<0.05 ==> alternative hypothesis:\n",
    "# data deviate significantly from the hypothesis that the mean \n",
    "# is 17 at the 5% level of significance "
   ]
  },
  {
   "cell_type": "markdown",
   "id": "d7a8a73b-7bbd-44c2-9372-13bdd78586dd",
   "metadata": {},
   "source": [
    "###### t-test can be applied when the data are normally distributed( these are patrametric tests)\n",
    "\n",
    "###### so test for normality"
   ]
  },
  {
   "cell_type": "code",
   "execution_count": 21,
   "id": "df5cb6a4-b6ed-40b2-a246-3198bd6b713a",
   "metadata": {},
   "outputs": [],
   "source": [
    "import scipy"
   ]
  },
  {
   "cell_type": "code",
   "execution_count": 22,
   "id": "15b60fc3-0157-424d-bae3-2a1d363f449d",
   "metadata": {},
   "outputs": [],
   "source": [
    "shapiro_results=scipy.stats.shapiro(iris[\"sepal_length\"])"
   ]
  },
  {
   "cell_type": "code",
   "execution_count": 23,
   "id": "350a98b9-70f6-43b1-8aa3-bc5c41736f93",
   "metadata": {},
   "outputs": [
    {
     "name": "stdout",
     "output_type": "stream",
     "text": [
      "ShapiroResult(statistic=0.9760897755622864, pvalue=0.01017984002828598)\n"
     ]
    }
   ],
   "source": [
    "print(shapiro_results)"
   ]
  },
  {
   "cell_type": "code",
   "execution_count": 24,
   "id": "6102fed3-a278-4a7e-b58b-446f985097bf",
   "metadata": {},
   "outputs": [],
   "source": [
    "## reject H0"
   ]
  },
  {
   "cell_type": "markdown",
   "id": "30f9bb59-d6b1-4004-b88f-411ae09f23ae",
   "metadata": {},
   "source": [
    "###### in case of non-normal data distributions\n",
    "\n",
    "###### non-parametric tests"
   ]
  },
  {
   "cell_type": "code",
   "execution_count": 27,
   "id": "7419d17f-7a6e-4b51-a59f-2b6601eff273",
   "metadata": {},
   "outputs": [
    {
     "name": "stdout",
     "output_type": "stream",
     "text": [
      "one-sample wilcoxon-test 2.2413414061128356e-26\n"
     ]
    }
   ],
   "source": [
    "# one sample wilcoxon test\n",
    "z_statistics, p_value= wilcoxon(iris[\"sepal_length\"]-17)\n",
    "print(\"one-sample wilcoxon-test\", p_value)"
   ]
  },
  {
   "cell_type": "markdown",
   "id": "3903d66b-f853-41c8-a25c-49982f773c5a",
   "metadata": {},
   "source": [
    "#### Two-sample t-test\n",
    "\n",
    "###### null hypothesis: the two groups have the same mean"
   ]
  },
  {
   "cell_type": "code",
   "execution_count": 28,
   "id": "a108a4cb-766e-45de-bb7e-80f18eff887e",
   "metadata": {},
   "outputs": [],
   "source": [
    "t_statistic, p_value=ttest_ind(iris[\"sepal_length\"], iris[\"petal_length\"])"
   ]
  },
  {
   "cell_type": "code",
   "execution_count": 29,
   "id": "65753201-e2aa-4e5e-909d-70476cca948f",
   "metadata": {},
   "outputs": [
    {
     "name": "stdout",
     "output_type": "stream",
     "text": [
      "two-sample t-test 2.8571040695819004e-31\n"
     ]
    }
   ],
   "source": [
    "print(\"two-sample t-test\", p_value)"
   ]
  },
  {
   "cell_type": "code",
   "execution_count": 31,
   "id": "837b85a0-f3db-4e79-b0a5-1517fb82cccd",
   "metadata": {},
   "outputs": [
    {
     "name": "stdout",
     "output_type": "stream",
     "text": [
      "two-sample, wilcoxon-test 1.7025301467529042e-26\n"
     ]
    }
   ],
   "source": [
    "# two-sample wilcoxon test (non-parametric)\n",
    "# a.k.a Mann Whitney U \n",
    "u, p_value=mannwhitneyu(iris[\"sepal_length\"], iris[\"petal_length\"])\n",
    "print(\"two-sample, wilcoxon-test\", p_value)"
   ]
  },
  {
   "cell_type": "markdown",
   "id": "5d7088d9-8968-4c00-8c54-9a40851677a4",
   "metadata": {},
   "source": [
    "#### paired t-test"
   ]
  },
  {
   "cell_type": "code",
   "execution_count": null,
   "id": "c90d4d5f-86c9-4920-ab2e-bbae2af39522",
   "metadata": {},
   "outputs": [],
   "source": [
    "# paired t-test: doing two measurements on the same experimental axis\n",
    "# e.g, before and after a treatment\n",
    "t_statistics, p_value=ttest_1samp(iris[\"sepal"
   ]
  },
  {
   "cell_type": "code",
   "execution_count": 32,
   "id": "a52b46ea-bd16-46dc-8703-6dd81a366618",
   "metadata": {},
   "outputs": [
    {
     "name": "stdout",
     "output_type": "stream",
     "text": [
      "paired t-test 1.7025301467529042e-26\n"
     ]
    }
   ],
   "source": [
    "# p < 0.05 => alternative hypothesis \n",
    "# the difference in mean is not equal to 0\n",
    "print(\"paired t-test\", p_value)"
   ]
  },
  {
   "cell_type": "code",
   "execution_count": 34,
   "id": "7e1b5087-41ee-4865-a806-91aae119d49e",
   "metadata": {},
   "outputs": [
    {
     "name": "stdout",
     "output_type": "stream",
     "text": [
      "paired wilcoxon-test 2.2611505488375926e-26\n"
     ]
    }
   ],
   "source": [
    "# alternative to paired t-test when data has an ordinary scale or when not\n",
    "# normally distributed \n",
    "z_statistics, p_value=wilcoxon(iris[\"sepal_length\"] - iris[\"petal_length\"])\n",
    "\n",
    "print(\"paired wilcoxon-test\", p_value)"
   ]
  },
  {
   "cell_type": "markdown",
   "id": "3cb9a24e-e910-412e-bd90-4aa22957b9c6",
   "metadata": {},
   "source": [
    "## ANOVA"
   ]
  },
  {
   "cell_type": "markdown",
   "id": "54f696b8-0331-4a28-b1be-b77bbfa5745a",
   "metadata": {},
   "source": [
    "###### Our null hypothesis states that there are equal means in the populations from which the groups of data were sampled "
   ]
  },
  {
   "cell_type": "code",
   "execution_count": 36,
   "id": "e57d9a30-3167-4e4f-90f6-6de88b1936be",
   "metadata": {},
   "outputs": [],
   "source": [
    "%matplotlib inline\n",
    "import pandas as pd\n",
    "import matplotlib.pyplot as plt\n",
    "import numpy as np\n",
    "from scipy import stats \n",
    "import seaborn as sns \n",
    "import statsmodels.api as sm\n",
    "from sklearn import linear_model\n",
    "import scipy.stats as stats"
   ]
  },
  {
   "cell_type": "code",
   "execution_count": 37,
   "id": "ce92ba94-4a1d-47ff-ac16-6ac8cfc4852a",
   "metadata": {},
   "outputs": [
    {
     "data": {
      "text/html": [
       "<div>\n",
       "<style scoped>\n",
       "    .dataframe tbody tr th:only-of-type {\n",
       "        vertical-align: middle;\n",
       "    }\n",
       "\n",
       "    .dataframe tbody tr th {\n",
       "        vertical-align: top;\n",
       "    }\n",
       "\n",
       "    .dataframe thead th {\n",
       "        text-align: right;\n",
       "    }\n",
       "</style>\n",
       "<table border=\"1\" class=\"dataframe\">\n",
       "  <thead>\n",
       "    <tr style=\"text-align: right;\">\n",
       "      <th></th>\n",
       "      <th>sepal_length</th>\n",
       "      <th>sepal_width</th>\n",
       "      <th>petal_length</th>\n",
       "      <th>petal_width</th>\n",
       "      <th>species</th>\n",
       "    </tr>\n",
       "  </thead>\n",
       "  <tbody>\n",
       "    <tr>\n",
       "      <th>0</th>\n",
       "      <td>5.1</td>\n",
       "      <td>3.5</td>\n",
       "      <td>1.4</td>\n",
       "      <td>0.2</td>\n",
       "      <td>setosa</td>\n",
       "    </tr>\n",
       "    <tr>\n",
       "      <th>1</th>\n",
       "      <td>4.9</td>\n",
       "      <td>3.0</td>\n",
       "      <td>1.4</td>\n",
       "      <td>0.2</td>\n",
       "      <td>setosa</td>\n",
       "    </tr>\n",
       "    <tr>\n",
       "      <th>2</th>\n",
       "      <td>4.7</td>\n",
       "      <td>3.2</td>\n",
       "      <td>1.3</td>\n",
       "      <td>0.2</td>\n",
       "      <td>setosa</td>\n",
       "    </tr>\n",
       "    <tr>\n",
       "      <th>3</th>\n",
       "      <td>4.6</td>\n",
       "      <td>3.1</td>\n",
       "      <td>1.5</td>\n",
       "      <td>0.2</td>\n",
       "      <td>setosa</td>\n",
       "    </tr>\n",
       "    <tr>\n",
       "      <th>4</th>\n",
       "      <td>5.0</td>\n",
       "      <td>3.6</td>\n",
       "      <td>1.4</td>\n",
       "      <td>0.2</td>\n",
       "      <td>setosa</td>\n",
       "    </tr>\n",
       "  </tbody>\n",
       "</table>\n",
       "</div>"
      ],
      "text/plain": [
       "   sepal_length  sepal_width  petal_length  petal_width species\n",
       "0           5.1          3.5           1.4          0.2  setosa\n",
       "1           4.9          3.0           1.4          0.2  setosa\n",
       "2           4.7          3.2           1.3          0.2  setosa\n",
       "3           4.6          3.1           1.5          0.2  setosa\n",
       "4           5.0          3.6           1.4          0.2  setosa"
      ]
     },
     "execution_count": 37,
     "metadata": {},
     "output_type": "execute_result"
    }
   ],
   "source": [
    "# load the data into a pandas dataframe \n",
    "iris=sns.load_dataset(\"iris\")\n",
    "iris.head()"
   ]
  },
  {
   "cell_type": "code",
   "execution_count": 38,
   "id": "17d3ea8a-28af-463d-ad29-b68e1a2c7435",
   "metadata": {},
   "outputs": [
    {
     "data": {
      "text/plain": [
       "<AxesSubplot:>"
      ]
     },
     "execution_count": 38,
     "metadata": {},
     "output_type": "execute_result"
    },
    {
     "data": {
      "image/png": "[encoded data removed]",
      "text/plain": [
       "<Figure size 432x288 with 1 Axes>"
      ]
     },
     "metadata": {
      "needs_background": "light"
     },
     "output_type": "display_data"
    }
   ],
   "source": [
    "iris.boxplot()"
   ]
  },
  {
   "cell_type": "markdown",
   "id": "06735381-903f-4e37-b4c1-1e8fde532de0",
   "metadata": {},
   "source": [
    "#### One way ANOVA"
   ]
  },
  {
   "cell_type": "markdown",
   "id": "9cd658ba-0f5c-4603-b236-b3b61d34544d",
   "metadata": {},
   "source": [
    "##### test if the 3 variables are significantly different or not?"
   ]
  },
  {
   "cell_type": "code",
   "execution_count": 39,
   "id": "51d84316-bf38-41d1-91e9-451848b96dad",
   "metadata": {},
   "outputs": [],
   "source": [
    "F, p=stats.f_oneway(iris[\"sepal_length\"], iris[\"petal_length\"], iris[\"sepal_width\"])"
   ]
  },
  {
   "cell_type": "code",
   "execution_count": 41,
   "id": "867baf66-8266-4167-8cc9-e19685059741",
   "metadata": {},
   "outputs": [
    {
     "name": "stdout",
     "output_type": "stream",
     "text": [
      "anova 2.2611505488375926e-26\n"
     ]
    }
   ],
   "source": [
    "print(\"anova\", p_value)"
   ]
  },
  {
   "cell_type": "code",
   "execution_count": null,
   "id": "67987516-6e49-483e-ab99-22341e737fe6",
   "metadata": {},
   "outputs": [],
   "source": []
  },
  {
   "cell_type": "code",
   "execution_count": null,
   "id": "3e19cfb9-f5df-4bb5-9651-09c68efb1b47",
   "metadata": {},
   "outputs": [],
   "source": []
  },
  {
   "cell_type": "code",
   "execution_count": null,
   "id": "39c9c50d-0cc6-418a-9973-974e332d8aff",
   "metadata": {},
   "outputs": [],
   "source": []
  },
  {
   "cell_type": "code",
   "execution_count": null,
   "id": "e5e2ac2b-dc87-4ab4-93d5-4152c790799d",
   "metadata": {},
   "outputs": [],
   "source": []
  },
  {
   "cell_type": "code",
   "execution_count": null,
   "id": "8fb54bcc-72e6-4844-8aa1-2e709d29c2eb",
   "metadata": {},
   "outputs": [],
   "source": []
  },
  {
   "cell_type": "code",
   "execution_count": null,
   "id": "da8a85d8-2528-48bf-92d5-fae3c5f0ce84",
   "metadata": {},
   "outputs": [],
   "source": []
  }
 ],
 "metadata": {
  "kernelspec": {
   "display_name": "Python 3 (ipykernel)",
   "language": "python",
   "name": "python3"
  },
  "language_info": {
   "codemirror_mode": {
    "name": "ipython",
    "version": 3
   },
   "file_extension": ".py",
   "mimetype": "text/x-python",
   "name": "python",
   "nbconvert_exporter": "python",
   "pygments_lexer": "ipython3",
   "version": "3.9.7"
  }
 },
 "nbformat": 4,
 "nbformat_minor": 5
}
