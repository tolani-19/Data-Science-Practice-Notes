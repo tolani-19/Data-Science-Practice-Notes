{
 "cells": [
  {
   "cell_type": "markdown",
   "id": "cc0527fc-cf5c-4093-b7fa-6552fba8de99",
   "metadata": {},
   "source": [
    "# Decision Tree"
   ]
  },
  {
   "cell_type": "markdown",
   "id": "14edbf7a-9251-492f-bac3-1fda9b53ede5",
   "metadata": {},
   "source": [
    "#### Decision Tree is a tree shaped diagram used to determine a course of action. Each branch of the tree reprents a possible decision, occurence or reaction"
   ]
  },
  {
   "cell_type": "markdown",
   "id": "b6149ba6-66be-42be-a35f-e62ab31159f1",
   "metadata": {},
   "source": [
    "#### Advantages of Decision Tree\n",
    "##### - Simple to Understand, interpret and visualize\n",
    "##### - Little effort required for data preparation\n",
    "##### - Can handle both numerical and categorical data\n",
    "##### - Non linear parameters dont effect its performance"
   ]
  },
  {
   "cell_type": "markdown",
   "id": "cfdb2dd7-ee25-4dab-b5a9-d990beb15096",
   "metadata": {},
   "source": [
    "#### Disadvantages of Decision Tree\n",
    "##### - Overfiting occurs when the algorithm captures noise in the data\n",
    "##### - The model can get unstable due to small variation\n",
    "##### - A highly complicated Decision tree tends to have a low bias which makes it difficult for the model to work with new data"
   ]
  },
  {
   "cell_type": "code",
   "execution_count": 25,
   "id": "d6f62652-6e45-4c11-abb4-2ae8212abb11",
   "metadata": {},
   "outputs": [],
   "source": [
    "# import the necessary libraries\n",
    "import pandas as pd\n",
    "import numpy as np\n",
    "from sklearn.model_selection import train_test_split\n",
    "from sklearn.tree import DecisionTreeClassifier \n",
    "from sklearn.metrics import accuracy_score\n",
    "from sklearn import tree\n",
    "\n",
    "\n",
    "\n",
    "# Loading data file\n",
    "balance_data=pd.read_csv(\"//Users//motolanikay-salami//Downloads//Decision+Tree+Dataset.csv\", sep=\",\", header=0)"
   ]
  },
  {
   "cell_type": "code",
   "execution_count": 26,
   "id": "c527effa-f29e-48ef-a5e8-581697e1393d",
   "metadata": {},
   "outputs": [
    {
     "name": "stdout",
     "output_type": "stream",
     "text": [
      "Dataset Length::  1000\n",
      "Dataset Shape::  (1000, 6)\n"
     ]
    }
   ],
   "source": [
    "print(\"Dataset Length:: \", len(balance_data))\n",
    "print(\"Dataset Shape:: \", balance_data.shape )"
   ]
  },
  {
   "cell_type": "code",
   "execution_count": 27,
   "id": "c8953cc7-e8e6-49c0-9611-e1ba08391ee0",
   "metadata": {},
   "outputs": [
    {
     "name": "stdout",
     "output_type": "stream",
     "text": [
      "Datset:: \n"
     ]
    },
    {
     "data": {
      "text/html": [
       "<div>\n",
       "<style scoped>\n",
       "    .dataframe tbody tr th:only-of-type {\n",
       "        vertical-align: middle;\n",
       "    }\n",
       "\n",
       "    .dataframe tbody tr th {\n",
       "        vertical-align: top;\n",
       "    }\n",
       "\n",
       "    .dataframe thead th {\n",
       "        text-align: right;\n",
       "    }\n",
       "</style>\n",
       "<table border=\"1\" class=\"dataframe\">\n",
       "  <thead>\n",
       "    <tr style=\"text-align: right;\">\n",
       "      <th></th>\n",
       "      <th>Initial payment</th>\n",
       "      <th>Last payment</th>\n",
       "      <th>Credit Score</th>\n",
       "      <th>House Number</th>\n",
       "      <th>sum</th>\n",
       "      <th>Result</th>\n",
       "    </tr>\n",
       "  </thead>\n",
       "  <tbody>\n",
       "    <tr>\n",
       "      <th>0</th>\n",
       "      <td>201</td>\n",
       "      <td>10018</td>\n",
       "      <td>250</td>\n",
       "      <td>3046</td>\n",
       "      <td>13515</td>\n",
       "      <td>yes</td>\n",
       "    </tr>\n",
       "    <tr>\n",
       "      <th>1</th>\n",
       "      <td>205</td>\n",
       "      <td>10016</td>\n",
       "      <td>395</td>\n",
       "      <td>3044</td>\n",
       "      <td>13660</td>\n",
       "      <td>yes</td>\n",
       "    </tr>\n",
       "    <tr>\n",
       "      <th>2</th>\n",
       "      <td>257</td>\n",
       "      <td>10129</td>\n",
       "      <td>109</td>\n",
       "      <td>3251</td>\n",
       "      <td>13746</td>\n",
       "      <td>yes</td>\n",
       "    </tr>\n",
       "    <tr>\n",
       "      <th>3</th>\n",
       "      <td>246</td>\n",
       "      <td>10064</td>\n",
       "      <td>324</td>\n",
       "      <td>3137</td>\n",
       "      <td>13771</td>\n",
       "      <td>yes</td>\n",
       "    </tr>\n",
       "    <tr>\n",
       "      <th>4</th>\n",
       "      <td>117</td>\n",
       "      <td>10115</td>\n",
       "      <td>496</td>\n",
       "      <td>3094</td>\n",
       "      <td>13822</td>\n",
       "      <td>yes</td>\n",
       "    </tr>\n",
       "  </tbody>\n",
       "</table>\n",
       "</div>"
      ],
      "text/plain": [
       "   Initial payment  Last payment  Credit Score  House Number    sum Result\n",
       "0              201         10018           250          3046  13515    yes\n",
       "1              205         10016           395          3044  13660    yes\n",
       "2              257         10129           109          3251  13746    yes\n",
       "3              246         10064           324          3137  13771    yes\n",
       "4              117         10115           496          3094  13822    yes"
      ]
     },
     "execution_count": 27,
     "metadata": {},
     "output_type": "execute_result"
    }
   ],
   "source": [
    "print(\"Datset:: \")\n",
    "balance_data.head()"
   ]
  },
  {
   "cell_type": "code",
   "execution_count": 41,
   "id": "0a0beddf-822b-4794-b057-a04bc534e3eb",
   "metadata": {},
   "outputs": [],
   "source": [
    "# Seperating the Target variable\n",
    "X=balance_data.values[:,1:5]\n",
    "Y=balance_data.values[:, 5]"
   ]
  },
  {
   "cell_type": "code",
   "execution_count": 42,
   "id": "435d47ab-acc5-4699-bb80-aec64bd1905e",
   "metadata": {},
   "outputs": [],
   "source": [
    "#Spiliting the Dataset into Test and Train\n",
    "X_train, X_test, y_train, y_test=train_test_split(X, Y, test_size=0.3, random_state=100)"
   ]
  },
  {
   "cell_type": "code",
   "execution_count": 43,
   "id": "693c0ae4-82e7-4d1c-bb41-dd9644024b14",
   "metadata": {},
   "outputs": [
    {
     "data": {
      "text/plain": [
       "DecisionTreeClassifier(criterion='entropy', max_depth=3, min_samples_leaf=5,\n",
       "                       random_state=100)"
      ]
     },
     "execution_count": 43,
     "metadata": {},
     "output_type": "execute_result"
    }
   ],
   "source": [
    "#Function to perform training with Entropy\n",
    "clf_entropy=DecisionTreeClassifier(criterion=\"entropy\", random_state=100, max_depth=3, min_samples_leaf=5)\n",
    "clf_entropy.fit(X_train, y_train)"
   ]
  },
  {
   "cell_type": "code",
   "execution_count": 44,
   "id": "6b1fde4a-56bd-4fd5-9fee-006208ebcc93",
   "metadata": {},
   "outputs": [
    {
     "name": "stdout",
     "output_type": "stream",
     "text": [
      "['yes' 'yes' 'No' 'yes' 'No' 'yes' 'No' 'No' 'No' 'No' 'No' 'No' 'yes'\n",
      " 'No' 'No' 'yes' 'yes' 'No' 'yes' 'No' 'No' 'yes' 'No' 'yes' 'yes' 'No'\n",
      " 'No' 'yes' 'No' 'No' 'No' 'yes' 'yes' 'yes' 'yes' 'No' 'No' 'No' 'yes'\n",
      " 'yes' 'yes' 'yes' 'yes' 'No' 'No' 'yes' 'No' 'yes' 'No' 'No' 'yes' 'No'\n",
      " 'yes' 'yes' 'yes' 'yes' 'No' 'No' 'No' 'yes' 'yes' 'No' 'No' 'yes' 'No'\n",
      " 'yes' 'yes' 'yes' 'No' 'yes' 'No' 'No' 'No' 'yes' 'No' 'yes' 'yes' 'No'\n",
      " 'yes' 'No' 'No' 'No' 'No' 'yes' 'No' 'yes' 'No' 'No' 'yes' 'No' 'yes'\n",
      " 'yes' 'No' 'yes' 'yes' 'No' 'yes' 'yes' 'yes' 'yes' 'No' 'No' 'yes' 'No'\n",
      " 'No' 'yes' 'yes' 'yes' 'No' 'yes' 'yes' 'yes' 'yes' 'No' 'No' 'yes' 'yes'\n",
      " 'yes' 'No' 'yes' 'No' 'No' 'yes' 'yes' 'No' 'No' 'yes' 'yes' 'No' 'No'\n",
      " 'yes' 'yes' 'No' 'yes' 'yes' 'yes' 'No' 'yes' 'yes' 'No' 'No' 'yes' 'yes'\n",
      " 'yes' 'No' 'yes' 'yes' 'yes' 'yes' 'No' 'yes' 'No' 'No' 'No' 'No' 'yes'\n",
      " 'No' 'No' 'No' 'yes' 'No' 'No' 'yes' 'yes' 'No' 'yes' 'No' 'yes' 'No'\n",
      " 'No' 'yes' 'yes' 'No' 'yes' 'No' 'yes' 'yes' 'No' 'No' 'No' 'No' 'No'\n",
      " 'yes' 'No' 'No' 'yes' 'yes' 'yes' 'yes' 'yes' 'No' 'yes' 'No' 'yes' 'No'\n",
      " 'No' 'No' 'yes' 'yes' 'No' 'No' 'yes' 'yes' 'No' 'No' 'No' 'yes' 'yes'\n",
      " 'No' 'No' 'yes' 'yes' 'yes' 'yes' 'yes' 'yes' 'yes' 'yes' 'yes' 'No'\n",
      " 'yes' 'yes' 'No' 'No' 'yes' 'No' 'yes' 'yes' 'No' 'No' 'yes' 'No' 'yes'\n",
      " 'yes' 'yes' 'yes' 'No' 'No' 'No' 'No' 'No' 'yes' 'No' 'yes' 'yes' 'No'\n",
      " 'yes' 'yes' 'No' 'No' 'No' 'yes' 'No' 'No' 'No' 'No' 'No' 'No' 'No' 'yes'\n",
      " 'yes' 'yes' 'yes' 'yes' 'yes' 'No' 'No' 'No' 'No' 'yes' 'No' 'yes' 'yes'\n",
      " 'yes' 'No' 'No' 'No' 'yes' 'yes' 'No' 'yes' 'No' 'No' 'No' 'yes' 'yes'\n",
      " 'No' 'No' 'yes' 'yes' 'No' 'No' 'yes' 'No' 'yes' 'yes' 'No' 'No' 'yes'\n",
      " 'yes']\n"
     ]
    }
   ],
   "source": [
    "# Function to make Predictions\n",
    "y_pred_en=clf_entropy.predict(X_test)\n",
    "print(y_pred_en)"
   ]
  },
  {
   "cell_type": "code",
   "execution_count": 45,
   "id": "3a0b93f7-40c8-4bec-a5df-0a94c7abfdc1",
   "metadata": {},
   "outputs": [
    {
     "name": "stdout",
     "output_type": "stream",
     "text": [
      "Accuracy is \n"
     ]
    },
    {
     "data": {
      "text/plain": [
       "(None, 100.0)"
      ]
     },
     "execution_count": 45,
     "metadata": {},
     "output_type": "execute_result"
    }
   ],
   "source": [
    "# Checking Accuracy\n",
    "print(\"Accuracy is \"), accuracy_score(y_test, y_pred_en)*100"
   ]
  },
  {
   "cell_type": "code",
   "execution_count": null,
   "id": "255eabf1-494e-4577-a13d-3237ef41a125",
   "metadata": {},
   "outputs": [],
   "source": []
  }
 ],
 "metadata": {
  "kernelspec": {
   "display_name": "Python 3 (ipykernel)",
   "language": "python",
   "name": "python3"
  },
  "language_info": {
   "codemirror_mode": {
    "name": "ipython",
    "version": 3
   },
   "file_extension": ".py",
   "mimetype": "text/x-python",
   "name": "python",
   "nbconvert_exporter": "python",
   "pygments_lexer": "ipython3",
   "version": "3.9.7"
  }
 },
 "nbformat": 4,
 "nbformat_minor": 5
}
