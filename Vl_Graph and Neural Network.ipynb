{
 "cells": [
  {
   "cell_type": "code",
   "execution_count": 3,
   "id": "50530380-e7ed-498f-becd-a8b24a19df46",
   "metadata": {},
   "outputs": [
    {
     "name": "stdout",
     "output_type": "stream",
     "text": [
      "tensor([[0.9314, 0.8532, 0.4399],\n",
      "        [0.4165, 0.6747, 0.9869],\n",
      "        [0.5587, 0.9673, 0.9658],\n",
      "        [0.2079, 0.2288, 0.6166],\n",
      "        [0.7915, 0.0353, 0.9776]])\n"
     ]
    }
   ],
   "source": [
    "import torch\n",
    "x = torch.rand(5, 3)\n",
    "print(x)"
   ]
  },
  {
   "cell_type": "code",
   "execution_count": 5,
   "id": "a799e940-8384-4a5c-a43e-9f83b785b3dc",
   "metadata": {},
   "outputs": [],
   "source": [
    "import rdkit\n",
    "from torch_geometric.datasets import MoleculeNet"
   ]
  },
  {
   "cell_type": "code",
   "execution_count": 6,
   "id": "e298d502-3a10-4cd9-9439-b61bb1eff347",
   "metadata": {},
   "outputs": [
    {
     "name": "stderr",
     "output_type": "stream",
     "text": [
      "Downloading https://deepchemdata.s3-us-west-1.amazonaws.com/datasets/delaney-processed.csv\n",
      "Processing...\n",
      "Done!\n"
     ]
    },
    {
     "data": {
      "text/plain": [
       "ESOL(1128)"
      ]
     },
     "execution_count": 6,
     "metadata": {},
     "output_type": "execute_result"
    }
   ],
   "source": [
    "# load the ESOL dataset\n",
    "data=MoleculeNet(root=\",\", name=\"ESOL\")\n",
    "data"
   ]
  },
  {
   "cell_type": "code",
   "execution_count": 7,
   "id": "3b3f06d1-5240-4b43-8a99-00e2a3151c7c",
   "metadata": {},
   "outputs": [
    {
     "name": "stdout",
     "output_type": "stream",
     "text": [
      "Dataset type:  <class 'torch_geometric.datasets.molecule_net.MoleculeNet'>\n",
      "Dataset fetures:  9\n",
      "Dataset target:  734\n",
      "Dataset length:  <bound method InMemoryDataset.len of ESOL(1128)>\n",
      "Dataset sample:  Data(x=[32, 9], edge_index=[2, 68], edge_attr=[68, 3], y=[1, 1], smiles='OCC3OC(OCC2OC(OC(C#N)c1ccccc1)C(O)C(O)C2O)C(O)C(O)C3O ')\n",
      "Sample nodes:  32\n",
      "Sample edges:  68\n"
     ]
    }
   ],
   "source": [
    "# Investigating the dataset\n",
    "print(\"Dataset type: \", type(data))\n",
    "print(\"Dataset fetures: \", data.num_features)\n",
    "print(\"Dataset target: \", data.num_classes)\n",
    "print(\"Dataset length: \", data.len)\n",
    "print(\"Dataset sample: \", data[0])\n",
    "print(\"Sample nodes: \", data[0].num_nodes)\n",
    "print(\"Sample edges: \", data[0].num_edges)\n",
    "\n",
    "\n",
    "#edge_index = graph connection\n",
    "#smiles = molecules with atoms\n",
    "#x=node features (32 nodes have each 9 features)\n",
    "#y=labels(dimmension)"
   ]
  },
  {
   "cell_type": "code",
   "execution_count": 8,
   "id": "c407c10d-3537-48a5-ae7d-d242efb6be6e",
   "metadata": {},
   "outputs": [
    {
     "data": {
      "text/plain": [
       "tensor([[8, 0, 2, 5, 1, 0, 4, 0, 0],\n",
       "        [6, 0, 4, 5, 2, 0, 4, 0, 0],\n",
       "        [6, 0, 4, 5, 1, 0, 4, 0, 1],\n",
       "        [8, 0, 2, 5, 0, 0, 4, 0, 1],\n",
       "        [6, 0, 4, 5, 1, 0, 4, 0, 1],\n",
       "        [8, 0, 2, 5, 0, 0, 4, 0, 0],\n",
       "        [6, 0, 4, 5, 2, 0, 4, 0, 0],\n",
       "        [6, 0, 4, 5, 1, 0, 4, 0, 1],\n",
       "        [8, 0, 2, 5, 0, 0, 4, 0, 1],\n",
       "        [6, 0, 4, 5, 1, 0, 4, 0, 1],\n",
       "        [8, 0, 2, 5, 0, 0, 4, 0, 0],\n",
       "        [6, 0, 4, 5, 1, 0, 4, 0, 0],\n",
       "        [6, 0, 2, 5, 0, 0, 2, 0, 0],\n",
       "        [7, 0, 1, 5, 0, 0, 2, 0, 0],\n",
       "        [6, 0, 3, 5, 0, 0, 3, 1, 1],\n",
       "        [6, 0, 3, 5, 1, 0, 3, 1, 1],\n",
       "        [6, 0, 3, 5, 1, 0, 3, 1, 1],\n",
       "        [6, 0, 3, 5, 1, 0, 3, 1, 1],\n",
       "        [6, 0, 3, 5, 1, 0, 3, 1, 1],\n",
       "        [6, 0, 3, 5, 1, 0, 3, 1, 1],\n",
       "        [6, 0, 4, 5, 1, 0, 4, 0, 1],\n",
       "        [8, 0, 2, 5, 1, 0, 4, 0, 0],\n",
       "        [6, 0, 4, 5, 1, 0, 4, 0, 1],\n",
       "        [8, 0, 2, 5, 1, 0, 4, 0, 0],\n",
       "        [6, 0, 4, 5, 1, 0, 4, 0, 1],\n",
       "        [8, 0, 2, 5, 1, 0, 4, 0, 0],\n",
       "        [6, 0, 4, 5, 1, 0, 4, 0, 1],\n",
       "        [8, 0, 2, 5, 1, 0, 4, 0, 0],\n",
       "        [6, 0, 4, 5, 1, 0, 4, 0, 1],\n",
       "        [8, 0, 2, 5, 1, 0, 4, 0, 0],\n",
       "        [6, 0, 4, 5, 1, 0, 4, 0, 1],\n",
       "        [8, 0, 2, 5, 1, 0, 4, 0, 0]])"
      ]
     },
     "execution_count": 8,
     "metadata": {},
     "output_type": "execute_result"
    }
   ],
   "source": [
    "#Investigating the features\n",
    "#Shape: [num_nodes, num_nodes_features]\n",
    "data[0].x"
   ]
  },
  {
   "cell_type": "code",
   "execution_count": 9,
   "id": "4e87e55a-f0da-409e-8198-0bd13e920dd8",
   "metadata": {},
   "outputs": [
    {
     "data": {
      "text/plain": [
       "tensor([[ 0,  1],\n",
       "        [ 1,  0],\n",
       "        [ 1,  2],\n",
       "        [ 2,  1],\n",
       "        [ 2,  3],\n",
       "        [ 2, 30],\n",
       "        [ 3,  2],\n",
       "        [ 3,  4],\n",
       "        [ 4,  3],\n",
       "        [ 4,  5],\n",
       "        [ 4, 26],\n",
       "        [ 5,  4],\n",
       "        [ 5,  6],\n",
       "        [ 6,  5],\n",
       "        [ 6,  7],\n",
       "        [ 7,  6],\n",
       "        [ 7,  8],\n",
       "        [ 7, 24],\n",
       "        [ 8,  7],\n",
       "        [ 8,  9],\n",
       "        [ 9,  8],\n",
       "        [ 9, 10],\n",
       "        [ 9, 20],\n",
       "        [10,  9],\n",
       "        [10, 11],\n",
       "        [11, 10],\n",
       "        [11, 12],\n",
       "        [11, 14],\n",
       "        [12, 11],\n",
       "        [12, 13],\n",
       "        [13, 12],\n",
       "        [14, 11],\n",
       "        [14, 15],\n",
       "        [14, 19],\n",
       "        [15, 14],\n",
       "        [15, 16],\n",
       "        [16, 15],\n",
       "        [16, 17],\n",
       "        [17, 16],\n",
       "        [17, 18],\n",
       "        [18, 17],\n",
       "        [18, 19],\n",
       "        [19, 14],\n",
       "        [19, 18],\n",
       "        [20,  9],\n",
       "        [20, 21],\n",
       "        [20, 22],\n",
       "        [21, 20],\n",
       "        [22, 20],\n",
       "        [22, 23],\n",
       "        [22, 24],\n",
       "        [23, 22],\n",
       "        [24,  7],\n",
       "        [24, 22],\n",
       "        [24, 25],\n",
       "        [25, 24],\n",
       "        [26,  4],\n",
       "        [26, 27],\n",
       "        [26, 28],\n",
       "        [27, 26],\n",
       "        [28, 26],\n",
       "        [28, 29],\n",
       "        [28, 30],\n",
       "        [29, 28],\n",
       "        [30,  2],\n",
       "        [30, 28],\n",
       "        [30, 31],\n",
       "        [31, 30]])"
      ]
     },
     "execution_count": 9,
     "metadata": {},
     "output_type": "execute_result"
    }
   ],
   "source": [
    "# Investigating the edges in  sparce COO format\n",
    "# Shape [2, num_edges]\n",
    "data[0].edge_index.t()"
   ]
  },
  {
   "cell_type": "code",
   "execution_count": 10,
   "id": "3e908f58-cecb-45f5-a88f-c796a31158df",
   "metadata": {},
   "outputs": [
    {
     "data": {
      "text/plain": [
       "tensor([[-0.7700]])"
      ]
     },
     "execution_count": 10,
     "metadata": {},
     "output_type": "execute_result"
    }
   ],
   "source": [
    "data[0].y"
   ]
  },
  {
   "cell_type": "code",
   "execution_count": 11,
   "id": "529fa873-50c7-413d-ad6f-66b64fffc943",
   "metadata": {},
   "outputs": [
    {
     "data": {
      "text/plain": [
       "'OCC3OC(OCC2OC(OC(C#N)c1ccccc1)C(O)C(O)C2O)C(O)C(O)C3O '"
      ]
     },
     "execution_count": 11,
     "metadata": {},
     "output_type": "execute_result"
    }
   ],
   "source": [
    "data[0][\"smiles\"]"
   ]
  },
  {
   "cell_type": "code",
   "execution_count": 13,
   "id": "3fbd4b5a-d8fb-4b0e-8895-d62f1c72d88b",
   "metadata": {},
   "outputs": [
    {
     "data": {
      "image/png": "[encoded data removed]",
      "text/plain": [
       "<rdkit.Chem.rdchem.Mol at 0x145e69700>"
      ]
     },
     "execution_count": 13,
     "metadata": {},
     "output_type": "execute_result"
    }
   ],
   "source": [
    "from rdkit import Chem\n",
    "from rdkit.Chem.Draw import IPythonConsole\n",
    "molecule=Chem.MolFromSmiles(data[0][\"smiles\"])\n",
    "molecule"
   ]
  },
  {
   "cell_type": "code",
   "execution_count": 15,
   "id": "87f9dcbf-5d43-48d6-bd02-4270f3acd875",
   "metadata": {},
   "outputs": [
    {
     "data": {
      "text/plain": [
       "rdkit.Chem.rdchem.Mol"
      ]
     },
     "execution_count": 15,
     "metadata": {},
     "output_type": "execute_result"
    }
   ],
   "source": [
    "type(molecule)"
   ]
  },
  {
   "cell_type": "code",
   "execution_count": 31,
   "id": "77ce6248-afd2-42c4-bfc1-300fccef43d8",
   "metadata": {},
   "outputs": [
    {
     "name": "stdout",
     "output_type": "stream",
     "text": [
      "GCN(\n",
      "  (initial_conv): GCNConv(9, 64)\n",
      "  (conv1): GCNConv(64, 64)\n",
      "  (conv2): GCNConv(64, 64)\n",
      "  (conv3): GCNConv(64, 64)\n",
      "  (out): Linear(in_features=128, out_features=734, bias=True)\n",
      ")\n",
      "Number of parameters:  107806\n"
     ]
    }
   ],
   "source": [
    "import torch\n",
    "from torch.nn import Linear\n",
    "import torch.nn.functional as F\n",
    "from torch_geometric.nn import GCNConv, TopKPooling, global_mean_pool\n",
    "from torch_geometric.nn import global_mean_pool as gap, global_max_pool as gmp\n",
    "embedding_size=64\n",
    "\n",
    "\n",
    "class GCN(torch.nn.Module):\n",
    "    def __init__(self):\n",
    "        #Init parent\n",
    "        super(GCN, self).__init__()\n",
    "        torch.manual_seed(42)\n",
    "        \n",
    "        #GCN Layers\n",
    "        self.initial_conv = GCNConv(data.num_features, embedding_size)\n",
    "        self.conv1 = GCNConv(embedding_size, embedding_size)\n",
    "        self.conv2 = GCNConv(embedding_size, embedding_size)\n",
    "        self.conv3 = GCNConv(embedding_size, embedding_size)\n",
    "    \n",
    "        #Output layer\n",
    "        self.out=Linear(embedding_size*2, data.num_classes)\n",
    "    \n",
    "    def forward(self, x, edge_index, batch_index):\n",
    "        #First Conv layer\n",
    "        hidden=self.initial_conv(x, edge_index)\n",
    "        hidden=F.tanh(hidden)\n",
    "        \n",
    "        #other Conv layers\n",
    "        hidden=self.conv1(hidden, edge_index)\n",
    "        hidden=F.tanh(hidden)\n",
    "        hidden=self.conv2(hidden, edge_index)\n",
    "        hidden=F.tanh(hidden)\n",
    "        hidden=self.conv3(hidden, edge_index)\n",
    "        hidden=F.tanh(hidden)\n",
    "        \n",
    "        #Global Pooling Layer(Stack different aggregations)\n",
    "        hidden=torch.cat([gmp(hidden, batch_index),\n",
    "                          gap(hidden, batch_index)], dim=1)\n",
    "        #Apply a final(linear) Classifier.\n",
    "        out=self.out(hidden)\n",
    "        \n",
    "        return out, hidden\n",
    "model=GCN()\n",
    "print(model)\n",
    "print(\"Number of parameters: \", sum(p.numel() for p in model.parameters()))    "
   ]
  },
  {
   "cell_type": "code",
   "execution_count": 41,
   "id": "bf9f2952-d438-40e7-96aa-47438ba0b1a0",
   "metadata": {},
   "outputs": [
    {
     "name": "stdout",
     "output_type": "stream",
     "text": [
      "Starting training...\n",
      "Epoch,0 | Train loss 3.5230557918548584\n",
      "Epoch,100 | Train loss 2.226785898208618\n",
      "Epoch,200 | Train loss 1.9202908277511597\n",
      "Epoch,300 | Train loss 2.1104037761688232\n",
      "Epoch,400 | Train loss 1.9358536005020142\n",
      "Epoch,500 | Train loss 1.329263687133789\n",
      "Epoch,600 | Train loss 1.403931975364685\n",
      "Epoch,700 | Train loss 1.2330924272537231\n",
      "Epoch,800 | Train loss 1.1209644079208374\n",
      "Epoch,900 | Train loss 1.0627559423446655\n",
      "Epoch,1000 | Train loss 1.0928292274475098\n",
      "Epoch,1100 | Train loss 1.0360934734344482\n",
      "Epoch,1200 | Train loss 0.81746906042099\n",
      "Epoch,1300 | Train loss 1.0294651985168457\n",
      "Epoch,1400 | Train loss 1.0446511507034302\n",
      "Epoch,1500 | Train loss 1.0899429321289062\n",
      "Epoch,1600 | Train loss 0.968475878238678\n",
      "Epoch,1700 | Train loss 1.0353447198867798\n",
      "Epoch,1800 | Train loss 1.0033009052276611\n",
      "Epoch,1900 | Train loss 1.0406378507614136\n"
     ]
    }
   ],
   "source": [
    "from torch_geometric.data import DataLoader\n",
    "import warnings\n",
    "warnings.filterwarnings(\"ignore\")\n",
    "\n",
    "#Root mean squared error\n",
    "loss_fn=torch.nn.MSELoss()\n",
    "optimizer=torch.optim.Adam(model.parameters(), lr=0.0007)\n",
    "\n",
    "#Use GPU for training\n",
    "device=torch.device(\"cuda:0\" if torch.cuda.is_available() else \"cpu\")\n",
    "model=model.to(device)\n",
    "\n",
    "#wrap data in a data loader\n",
    "data_size=len(data)\n",
    "NUM_GRAPHS_PER_BATCH=64\n",
    "loader=DataLoader(data[:int(data_size*0.8)],\n",
    "                  batch_size=NUM_GRAPHS_PER_BATCH, shuffle=True)\n",
    "test_loader=DataLoader(data[int(data_size*0.8):],\n",
    "                       batch_size=NUM_GRAPHS_PER_BATCH, shuffle=True)\n",
    "def train(data):\n",
    "    # Enumerate over the data\n",
    "    for batch in loader:\n",
    "        #Use GPU\n",
    "        batch.to(device)\n",
    "        # Reset gradients\n",
    "        optimizer.zero_grad()\n",
    "        #Passing the mode features and the connection info\n",
    "        pred, embedding=model(batch.x.float(), batch.edge_index, batch.batch)\n",
    "        # Calculating the loss and gradients\n",
    "        loss=torch.sqrt(loss_fn(pred, batch.y))\n",
    "        loss.backward()\n",
    "        #update using the gradients\n",
    "        optimizer.step()\n",
    "        return loss, embedding\n",
    "    \n",
    "print(\"Starting training...\")\n",
    "losses = []\n",
    "for epoch in range(2000):\n",
    "    loss, h = train(data)\n",
    "    losses.append(loss)\n",
    "    if epoch % 100 == 0:\n",
    "        print(f\"Epoch,{epoch} | Train loss {loss}\")"
   ]
  },
  {
   "cell_type": "code",
   "execution_count": 49,
   "id": "42b3925c-deff-4bfe-acbf-f8b42bc48b58",
   "metadata": {},
   "outputs": [
    {
     "data": {
      "text/plain": [
       "<AxesSubplot:>"
      ]
     },
     "execution_count": 49,
     "metadata": {},
     "output_type": "execute_result"
    },
    {
     "data": {
      "image/png": "[encoded data removed]",
      "text/plain": [
       "<Figure size 432x288 with 1 Axes>"
      ]
     },
     "metadata": {
      "needs_background": "light"
     },
     "output_type": "display_data"
    }
   ],
   "source": [
    "#Visualize learning(training loss)\n",
    "import seaborn as sns\n",
    "losses_float=[float(loss.cpu().detach().numpy()) for loss in losses]\n",
    "loss_indices=[i for i,l in enumerate(losses_float)]\n",
    "plt=sns.lineplot(loss_indices, losses_float)\n",
    "plt"
   ]
  },
  {
   "cell_type": "code",
   "execution_count": 51,
   "id": "f78fc4e1-5e15-4093-94a5-bc4057c4119a",
   "metadata": {},
   "outputs": [],
   "source": [
    "import pandas as pd"
   ]
  },
  {
   "cell_type": "code",
   "execution_count": 53,
   "id": "0a7203b4-6787-47f2-8db4-182bfb26ff11",
   "metadata": {},
   "outputs": [
    {
     "data": {
      "text/html": [
       "<div>\n",
       "<style scoped>\n",
       "    .dataframe tbody tr th:only-of-type {\n",
       "        vertical-align: middle;\n",
       "    }\n",
       "\n",
       "    .dataframe tbody tr th {\n",
       "        vertical-align: top;\n",
       "    }\n",
       "\n",
       "    .dataframe thead th {\n",
       "        text-align: right;\n",
       "    }\n",
       "</style>\n",
       "<table border=\"1\" class=\"dataframe\">\n",
       "  <thead>\n",
       "    <tr style=\"text-align: right;\">\n",
       "      <th></th>\n",
       "      <th>y_real</th>\n",
       "      <th>y_pred</th>\n",
       "    </tr>\n",
       "  </thead>\n",
       "  <tbody>\n",
       "    <tr>\n",
       "      <th>0</th>\n",
       "      <td>0.150</td>\n",
       "      <td>-0.819944</td>\n",
       "    </tr>\n",
       "    <tr>\n",
       "      <th>1</th>\n",
       "      <td>-0.900</td>\n",
       "      <td>-2.256692</td>\n",
       "    </tr>\n",
       "    <tr>\n",
       "      <th>2</th>\n",
       "      <td>-6.350</td>\n",
       "      <td>-3.873670</td>\n",
       "    </tr>\n",
       "    <tr>\n",
       "      <th>3</th>\n",
       "      <td>-2.461</td>\n",
       "      <td>-1.957397</td>\n",
       "    </tr>\n",
       "    <tr>\n",
       "      <th>4</th>\n",
       "      <td>-2.540</td>\n",
       "      <td>-3.208068</td>\n",
       "    </tr>\n",
       "    <tr>\n",
       "      <th>...</th>\n",
       "      <td>...</td>\n",
       "      <td>...</td>\n",
       "    </tr>\n",
       "    <tr>\n",
       "      <th>59</th>\n",
       "      <td>-4.660</td>\n",
       "      <td>-4.845648</td>\n",
       "    </tr>\n",
       "    <tr>\n",
       "      <th>60</th>\n",
       "      <td>-3.370</td>\n",
       "      <td>-3.577387</td>\n",
       "    </tr>\n",
       "    <tr>\n",
       "      <th>61</th>\n",
       "      <td>-5.410</td>\n",
       "      <td>-4.878239</td>\n",
       "    </tr>\n",
       "    <tr>\n",
       "      <th>62</th>\n",
       "      <td>-2.090</td>\n",
       "      <td>-2.984016</td>\n",
       "    </tr>\n",
       "    <tr>\n",
       "      <th>63</th>\n",
       "      <td>-1.300</td>\n",
       "      <td>-1.406492</td>\n",
       "    </tr>\n",
       "  </tbody>\n",
       "</table>\n",
       "<p>64 rows × 2 columns</p>\n",
       "</div>"
      ],
      "text/plain": [
       "    y_real    y_pred\n",
       "0    0.150 -0.819944\n",
       "1   -0.900 -2.256692\n",
       "2   -6.350 -3.873670\n",
       "3   -2.461 -1.957397\n",
       "4   -2.540 -3.208068\n",
       "..     ...       ...\n",
       "59  -4.660 -4.845648\n",
       "60  -3.370 -3.577387\n",
       "61  -5.410 -4.878239\n",
       "62  -2.090 -2.984016\n",
       "63  -1.300 -1.406492\n",
       "\n",
       "[64 rows x 2 columns]"
      ]
     },
     "execution_count": 53,
     "metadata": {},
     "output_type": "execute_result"
    }
   ],
   "source": [
    "#Analyze the results for one batch\n",
    "test_batch=next(iter(test_loader))\n",
    "with torch.no_grad():\n",
    "    test_batch.to(device)\n",
    "    pred, embed=model(test_batch.x.float(), test_batch.edge_index, test_batch.batch)\n",
    "    df=pd.DataFrame()\n",
    "    df[\"y_real\"]=test_batch.y.tolist()\n",
    "    df[\"y_pred\"]=pred.tolist()\n",
    "df[\"y_real\"]=df[\"y_real\"].apply(lambda row: row[0])\n",
    "df[\"y_pred\"]=df[\"y_pred\"].apply(lambda row: row[0])\n",
    "df"
   ]
  },
  {
   "cell_type": "code",
   "execution_count": 54,
   "id": "bdcd4ce9-5e27-483f-98c8-1446400830f4",
   "metadata": {},
   "outputs": [
    {
     "data": {
      "text/plain": [
       "<AxesSubplot:xlabel='y_real', ylabel='y_pred'>"
      ]
     },
     "execution_count": 54,
     "metadata": {},
     "output_type": "execute_result"
    },
    {
     "data": {
      "image/png": "[encoded data removed]",
      "text/plain": [
       "<Figure size 432x288 with 1 Axes>"
      ]
     },
     "metadata": {
      "needs_background": "light"
     },
     "output_type": "display_data"
    }
   ],
   "source": [
    "plt=sns.scatterplot(data=df, x=\"y_real\", y=\"y_pred\")\n",
    "plt.set(xlim=(-7,2))\n",
    "plt.set(ylim=(-7,2))\n",
    "plt"
   ]
  },
  {
   "cell_type": "code",
   "execution_count": null,
   "id": "b632a8f4-6ff5-454a-97e0-1025560ad716",
   "metadata": {},
   "outputs": [],
   "source": []
  }
 ],
 "metadata": {
  "kernelspec": {
   "display_name": "Python 3 (ipykernel)",
   "language": "python",
   "name": "python3"
  },
  "language_info": {
   "codemirror_mode": {
    "name": "ipython",
    "version": 3
   },
   "file_extension": ".py",
   "mimetype": "text/x-python",
   "name": "python",
   "nbconvert_exporter": "python",
   "pygments_lexer": "ipython3",
   "version": "3.9.7"
  }
 },
 "nbformat": 4,
 "nbformat_minor": 5
}
