{
 "cells": [
  {
   "cell_type": "markdown",
   "id": "384154b2-2844-4709-95d7-ac79edd9c93e",
   "metadata": {},
   "source": [
    "## Feature Selection using Fisher Score and Chi2(x2) Test| Titanic Dataset"
   ]
  },
  {
   "cell_type": "markdown",
   "id": "4b41be78-e208-4d4b-a3f0-976da9a437cc",
   "metadata": {},
   "source": [
    "#### What is Fisher Score and Chi(x2) Test"
   ]
  },
  {
   "cell_type": "markdown",
   "id": "20470a3a-9319-4d07-bdea-39fe81045441",
   "metadata": {},
   "source": [
    "##### Fisher score is one of the most widely used supervised feature selection methods. However, it selects each feature independently according to their scores under the Fisher criterion, which leads to a suboptimal subset of feature"
   ]
  },
  {
   "cell_type": "markdown",
   "id": "07da78e7-33d5-4e24-bf0a-47dbab23f467",
   "metadata": {},
   "source": [
    "#### Chi Square(x2) Test"
   ]
  },
  {
   "cell_type": "markdown",
   "id": "a604c7a8-0d28-42a0-9525-0329a654d6d0",
   "metadata": {},
   "source": [
    "##### A chi-squared test, also written as X2 test, is any statistical hypothesis test where the sampling distribution of the test statistic is a chi-squared distribution\n",
    "\n",
    "##### chi-square test measures dependence between stochastic variables, so using this function \"weeds out\" the features that are the most likely to be independent of class and therefore irrelevant for classification"
   ]
  },
  {
   "cell_type": "code",
   "execution_count": 2,
   "id": "402393f5-59fd-4e5b-b9c7-4d7871c8f362",
   "metadata": {},
   "outputs": [],
   "source": [
    "# import the packages\n",
    "import numpy as np\n",
    "import pandas as pd\n",
    "import seaborn as sns\n",
    "import matplotlib.pyplot as plt\n",
    "%matplotlib inline"
   ]
  },
  {
   "cell_type": "code",
   "execution_count": 12,
   "id": "a4ab27a2-04c3-441b-8b77-bf4d2d7979db",
   "metadata": {},
   "outputs": [],
   "source": [
    "# import the packages\n",
    "from sklearn.model_selection import train_test_split\n",
    "from sklearn.ensemble import RandomForestClassifier\n",
    "\n",
    "from sklearn.feature_selection import chi2\n",
    "from sklearn.feature_selection import SelectKBest, SelectPercentile\n",
    "from sklearn.metrics import accuracy_score"
   ]
  },
  {
   "cell_type": "code",
   "execution_count": 13,
   "id": "b81caf86-9e92-48d9-abfe-5eb64e9fb807",
   "metadata": {},
   "outputs": [],
   "source": [
    "titanic=sns.load_dataset(\"titanic\")"
   ]
  },
  {
   "cell_type": "code",
   "execution_count": 10,
   "id": "16de58f3-ceb5-43db-9c74-e027871cfaab",
   "metadata": {},
   "outputs": [
    {
     "data": {
      "text/html": [
       "<div>\n",
       "<style scoped>\n",
       "    .dataframe tbody tr th:only-of-type {\n",
       "        vertical-align: middle;\n",
       "    }\n",
       "\n",
       "    .dataframe tbody tr th {\n",
       "        vertical-align: top;\n",
       "    }\n",
       "\n",
       "    .dataframe thead th {\n",
       "        text-align: right;\n",
       "    }\n",
       "</style>\n",
       "<table border=\"1\" class=\"dataframe\">\n",
       "  <thead>\n",
       "    <tr style=\"text-align: right;\">\n",
       "      <th></th>\n",
       "      <th>survived</th>\n",
       "      <th>pclass</th>\n",
       "      <th>sex</th>\n",
       "      <th>age</th>\n",
       "      <th>sibsp</th>\n",
       "      <th>parch</th>\n",
       "      <th>fare</th>\n",
       "      <th>embarked</th>\n",
       "      <th>class</th>\n",
       "      <th>who</th>\n",
       "      <th>adult_male</th>\n",
       "      <th>deck</th>\n",
       "      <th>embark_town</th>\n",
       "      <th>alive</th>\n",
       "      <th>alone</th>\n",
       "    </tr>\n",
       "  </thead>\n",
       "  <tbody>\n",
       "    <tr>\n",
       "      <th>0</th>\n",
       "      <td>0</td>\n",
       "      <td>3</td>\n",
       "      <td>male</td>\n",
       "      <td>22.0</td>\n",
       "      <td>1</td>\n",
       "      <td>0</td>\n",
       "      <td>7.2500</td>\n",
       "      <td>S</td>\n",
       "      <td>Third</td>\n",
       "      <td>man</td>\n",
       "      <td>True</td>\n",
       "      <td>NaN</td>\n",
       "      <td>Southampton</td>\n",
       "      <td>no</td>\n",
       "      <td>False</td>\n",
       "    </tr>\n",
       "    <tr>\n",
       "      <th>1</th>\n",
       "      <td>1</td>\n",
       "      <td>1</td>\n",
       "      <td>female</td>\n",
       "      <td>38.0</td>\n",
       "      <td>1</td>\n",
       "      <td>0</td>\n",
       "      <td>71.2833</td>\n",
       "      <td>C</td>\n",
       "      <td>First</td>\n",
       "      <td>woman</td>\n",
       "      <td>False</td>\n",
       "      <td>C</td>\n",
       "      <td>Cherbourg</td>\n",
       "      <td>yes</td>\n",
       "      <td>False</td>\n",
       "    </tr>\n",
       "    <tr>\n",
       "      <th>2</th>\n",
       "      <td>1</td>\n",
       "      <td>3</td>\n",
       "      <td>female</td>\n",
       "      <td>26.0</td>\n",
       "      <td>0</td>\n",
       "      <td>0</td>\n",
       "      <td>7.9250</td>\n",
       "      <td>S</td>\n",
       "      <td>Third</td>\n",
       "      <td>woman</td>\n",
       "      <td>False</td>\n",
       "      <td>NaN</td>\n",
       "      <td>Southampton</td>\n",
       "      <td>yes</td>\n",
       "      <td>True</td>\n",
       "    </tr>\n",
       "    <tr>\n",
       "      <th>3</th>\n",
       "      <td>1</td>\n",
       "      <td>1</td>\n",
       "      <td>female</td>\n",
       "      <td>35.0</td>\n",
       "      <td>1</td>\n",
       "      <td>0</td>\n",
       "      <td>53.1000</td>\n",
       "      <td>S</td>\n",
       "      <td>First</td>\n",
       "      <td>woman</td>\n",
       "      <td>False</td>\n",
       "      <td>C</td>\n",
       "      <td>Southampton</td>\n",
       "      <td>yes</td>\n",
       "      <td>False</td>\n",
       "    </tr>\n",
       "    <tr>\n",
       "      <th>4</th>\n",
       "      <td>0</td>\n",
       "      <td>3</td>\n",
       "      <td>male</td>\n",
       "      <td>35.0</td>\n",
       "      <td>0</td>\n",
       "      <td>0</td>\n",
       "      <td>8.0500</td>\n",
       "      <td>S</td>\n",
       "      <td>Third</td>\n",
       "      <td>man</td>\n",
       "      <td>True</td>\n",
       "      <td>NaN</td>\n",
       "      <td>Southampton</td>\n",
       "      <td>no</td>\n",
       "      <td>True</td>\n",
       "    </tr>\n",
       "  </tbody>\n",
       "</table>\n",
       "</div>"
      ],
      "text/plain": [
       "   survived  pclass     sex   age  sibsp  parch     fare embarked  class  \\\n",
       "0         0       3    male  22.0      1      0   7.2500        S  Third   \n",
       "1         1       1  female  38.0      1      0  71.2833        C  First   \n",
       "2         1       3  female  26.0      0      0   7.9250        S  Third   \n",
       "3         1       1  female  35.0      1      0  53.1000        S  First   \n",
       "4         0       3    male  35.0      0      0   8.0500        S  Third   \n",
       "\n",
       "     who  adult_male deck  embark_town alive  alone  \n",
       "0    man        True  NaN  Southampton    no  False  \n",
       "1  woman       False    C    Cherbourg   yes  False  \n",
       "2  woman       False  NaN  Southampton   yes   True  \n",
       "3  woman       False    C  Southampton   yes  False  \n",
       "4    man        True  NaN  Southampton    no   True  "
      ]
     },
     "execution_count": 10,
     "metadata": {},
     "output_type": "execute_result"
    }
   ],
   "source": [
    "titanic.head()"
   ]
  },
  {
   "cell_type": "code",
   "execution_count": 11,
   "id": "11fe3781-d5a6-43c9-8318-130de50c2337",
   "metadata": {},
   "outputs": [
    {
     "data": {
      "text/plain": [
       "survived         0\n",
       "pclass           0\n",
       "sex              0\n",
       "age            177\n",
       "sibsp            0\n",
       "parch            0\n",
       "fare             0\n",
       "embarked         2\n",
       "class            0\n",
       "who              0\n",
       "adult_male       0\n",
       "deck           688\n",
       "embark_town      2\n",
       "alive            0\n",
       "alone            0\n",
       "dtype: int64"
      ]
     },
     "execution_count": 11,
     "metadata": {},
     "output_type": "execute_result"
    }
   ],
   "source": [
    "titanic.isnull().sum()"
   ]
  },
  {
   "cell_type": "code",
   "execution_count": 14,
   "id": "364f7970-064a-488b-9c17-1796da72a793",
   "metadata": {},
   "outputs": [],
   "source": [
    "titanic.drop(labels= [\"age\", \"deck\"], axis=1, inplace=True)"
   ]
  },
  {
   "cell_type": "code",
   "execution_count": 15,
   "id": "1a3ea698-59af-4de4-9fc1-da3c57664593",
   "metadata": {},
   "outputs": [],
   "source": [
    "titanic= titanic.dropna()"
   ]
  },
  {
   "cell_type": "code",
   "execution_count": 16,
   "id": "b14d2f42-9343-44a1-b175-c1fd2d8671ad",
   "metadata": {},
   "outputs": [
    {
     "data": {
      "text/plain": [
       "survived       0\n",
       "pclass         0\n",
       "sex            0\n",
       "sibsp          0\n",
       "parch          0\n",
       "fare           0\n",
       "embarked       0\n",
       "class          0\n",
       "who            0\n",
       "adult_male     0\n",
       "embark_town    0\n",
       "alive          0\n",
       "alone          0\n",
       "dtype: int64"
      ]
     },
     "execution_count": 16,
     "metadata": {},
     "output_type": "execute_result"
    }
   ],
   "source": [
    "titanic.isnull().sum()"
   ]
  },
  {
   "cell_type": "code",
   "execution_count": 31,
   "id": "8a705ef4-5729-468e-a4d6-972aa3d6bde7",
   "metadata": {},
   "outputs": [],
   "source": [
    "data=titanic[[\"pclass\", \"sex\", \"sibsp\", \"parch\", \"embarked\", \"who\", \"alone\"]].copy()"
   ]
  },
  {
   "cell_type": "code",
   "execution_count": 32,
   "id": "e0430b9f-bf50-4d19-bcd6-6df504e2c039",
   "metadata": {},
   "outputs": [
    {
     "data": {
      "text/html": [
       "<div>\n",
       "<style scoped>\n",
       "    .dataframe tbody tr th:only-of-type {\n",
       "        vertical-align: middle;\n",
       "    }\n",
       "\n",
       "    .dataframe tbody tr th {\n",
       "        vertical-align: top;\n",
       "    }\n",
       "\n",
       "    .dataframe thead th {\n",
       "        text-align: right;\n",
       "    }\n",
       "</style>\n",
       "<table border=\"1\" class=\"dataframe\">\n",
       "  <thead>\n",
       "    <tr style=\"text-align: right;\">\n",
       "      <th></th>\n",
       "      <th>pclass</th>\n",
       "      <th>sex</th>\n",
       "      <th>sibsp</th>\n",
       "      <th>parch</th>\n",
       "      <th>embarked</th>\n",
       "      <th>who</th>\n",
       "      <th>alone</th>\n",
       "    </tr>\n",
       "  </thead>\n",
       "  <tbody>\n",
       "    <tr>\n",
       "      <th>0</th>\n",
       "      <td>3</td>\n",
       "      <td>male</td>\n",
       "      <td>1</td>\n",
       "      <td>0</td>\n",
       "      <td>S</td>\n",
       "      <td>man</td>\n",
       "      <td>False</td>\n",
       "    </tr>\n",
       "    <tr>\n",
       "      <th>1</th>\n",
       "      <td>1</td>\n",
       "      <td>female</td>\n",
       "      <td>1</td>\n",
       "      <td>0</td>\n",
       "      <td>C</td>\n",
       "      <td>woman</td>\n",
       "      <td>False</td>\n",
       "    </tr>\n",
       "    <tr>\n",
       "      <th>2</th>\n",
       "      <td>3</td>\n",
       "      <td>female</td>\n",
       "      <td>0</td>\n",
       "      <td>0</td>\n",
       "      <td>S</td>\n",
       "      <td>woman</td>\n",
       "      <td>True</td>\n",
       "    </tr>\n",
       "    <tr>\n",
       "      <th>3</th>\n",
       "      <td>1</td>\n",
       "      <td>female</td>\n",
       "      <td>1</td>\n",
       "      <td>0</td>\n",
       "      <td>S</td>\n",
       "      <td>woman</td>\n",
       "      <td>False</td>\n",
       "    </tr>\n",
       "    <tr>\n",
       "      <th>4</th>\n",
       "      <td>3</td>\n",
       "      <td>male</td>\n",
       "      <td>0</td>\n",
       "      <td>0</td>\n",
       "      <td>S</td>\n",
       "      <td>man</td>\n",
       "      <td>True</td>\n",
       "    </tr>\n",
       "  </tbody>\n",
       "</table>\n",
       "</div>"
      ],
      "text/plain": [
       "   pclass     sex  sibsp  parch embarked    who  alone\n",
       "0       3    male      1      0        S    man  False\n",
       "1       1  female      1      0        C  woman  False\n",
       "2       3  female      0      0        S  woman   True\n",
       "3       1  female      1      0        S  woman  False\n",
       "4       3    male      0      0        S    man   True"
      ]
     },
     "execution_count": 32,
     "metadata": {},
     "output_type": "execute_result"
    }
   ],
   "source": [
    "data.head()"
   ]
  },
  {
   "cell_type": "code",
   "execution_count": 33,
   "id": "d6024a90-2423-4b80-9468-4b06b77e1816",
   "metadata": {},
   "outputs": [
    {
     "data": {
      "text/plain": [
       "pclass      0\n",
       "sex         0\n",
       "sibsp       0\n",
       "parch       0\n",
       "embarked    0\n",
       "who         0\n",
       "alone       0\n",
       "dtype: int64"
      ]
     },
     "execution_count": 33,
     "metadata": {},
     "output_type": "execute_result"
    }
   ],
   "source": [
    "data.isnull().sum()"
   ]
  },
  {
   "cell_type": "code",
   "execution_count": 34,
   "id": "82782333-a1d0-416f-bea2-4eb55353fec5",
   "metadata": {},
   "outputs": [],
   "source": [
    "sex={\"male\":0, \"female\":1}\n",
    "data[\"sex\"]=data[\"sex\"].map(sex)"
   ]
  },
  {
   "cell_type": "code",
   "execution_count": 35,
   "id": "6b30d790-4e30-4337-89ed-7385e382d430",
   "metadata": {},
   "outputs": [
    {
     "data": {
      "text/html": [
       "<div>\n",
       "<style scoped>\n",
       "    .dataframe tbody tr th:only-of-type {\n",
       "        vertical-align: middle;\n",
       "    }\n",
       "\n",
       "    .dataframe tbody tr th {\n",
       "        vertical-align: top;\n",
       "    }\n",
       "\n",
       "    .dataframe thead th {\n",
       "        text-align: right;\n",
       "    }\n",
       "</style>\n",
       "<table border=\"1\" class=\"dataframe\">\n",
       "  <thead>\n",
       "    <tr style=\"text-align: right;\">\n",
       "      <th></th>\n",
       "      <th>pclass</th>\n",
       "      <th>sex</th>\n",
       "      <th>sibsp</th>\n",
       "      <th>parch</th>\n",
       "      <th>embarked</th>\n",
       "      <th>who</th>\n",
       "      <th>alone</th>\n",
       "    </tr>\n",
       "  </thead>\n",
       "  <tbody>\n",
       "    <tr>\n",
       "      <th>0</th>\n",
       "      <td>3</td>\n",
       "      <td>0</td>\n",
       "      <td>1</td>\n",
       "      <td>0</td>\n",
       "      <td>S</td>\n",
       "      <td>man</td>\n",
       "      <td>False</td>\n",
       "    </tr>\n",
       "    <tr>\n",
       "      <th>1</th>\n",
       "      <td>1</td>\n",
       "      <td>1</td>\n",
       "      <td>1</td>\n",
       "      <td>0</td>\n",
       "      <td>C</td>\n",
       "      <td>woman</td>\n",
       "      <td>False</td>\n",
       "    </tr>\n",
       "    <tr>\n",
       "      <th>2</th>\n",
       "      <td>3</td>\n",
       "      <td>1</td>\n",
       "      <td>0</td>\n",
       "      <td>0</td>\n",
       "      <td>S</td>\n",
       "      <td>woman</td>\n",
       "      <td>True</td>\n",
       "    </tr>\n",
       "    <tr>\n",
       "      <th>3</th>\n",
       "      <td>1</td>\n",
       "      <td>1</td>\n",
       "      <td>1</td>\n",
       "      <td>0</td>\n",
       "      <td>S</td>\n",
       "      <td>woman</td>\n",
       "      <td>False</td>\n",
       "    </tr>\n",
       "    <tr>\n",
       "      <th>4</th>\n",
       "      <td>3</td>\n",
       "      <td>0</td>\n",
       "      <td>0</td>\n",
       "      <td>0</td>\n",
       "      <td>S</td>\n",
       "      <td>man</td>\n",
       "      <td>True</td>\n",
       "    </tr>\n",
       "  </tbody>\n",
       "</table>\n",
       "</div>"
      ],
      "text/plain": [
       "   pclass  sex  sibsp  parch embarked    who  alone\n",
       "0       3    0      1      0        S    man  False\n",
       "1       1    1      1      0        C  woman  False\n",
       "2       3    1      0      0        S  woman   True\n",
       "3       1    1      1      0        S  woman  False\n",
       "4       3    0      0      0        S    man   True"
      ]
     },
     "execution_count": 35,
     "metadata": {},
     "output_type": "execute_result"
    }
   ],
   "source": [
    "data.head()"
   ]
  },
  {
   "cell_type": "code",
   "execution_count": 36,
   "id": "c953cf27-36ec-448b-b081-06dd1e3294d5",
   "metadata": {},
   "outputs": [],
   "source": [
    "ports={\"S\":0, \"C\":1, \"Q\":2}\n",
    "data[\"embarked\"]=data[\"embarked\"].map(ports)"
   ]
  },
  {
   "cell_type": "code",
   "execution_count": 37,
   "id": "84892236-41a1-42a9-9015-6fb0dfc94c29",
   "metadata": {},
   "outputs": [],
   "source": [
    "who={\"man\":0, \"woman\":1, \"child\":2}\n",
    "data[\"who\"]=data[\"who\"].map(who)     "
   ]
  },
  {
   "cell_type": "code",
   "execution_count": 38,
   "id": "3080d155-6c11-451e-adfb-7cf47cad83cb",
   "metadata": {},
   "outputs": [],
   "source": [
    "alone={True:1, False:0}\n",
    "data[\"alone\"]=data[\"alone\"].map(alone)"
   ]
  },
  {
   "cell_type": "code",
   "execution_count": 39,
   "id": "f2013e78-cf18-43e1-bfec-72363fb4ea1d",
   "metadata": {},
   "outputs": [
    {
     "data": {
      "text/html": [
       "<div>\n",
       "<style scoped>\n",
       "    .dataframe tbody tr th:only-of-type {\n",
       "        vertical-align: middle;\n",
       "    }\n",
       "\n",
       "    .dataframe tbody tr th {\n",
       "        vertical-align: top;\n",
       "    }\n",
       "\n",
       "    .dataframe thead th {\n",
       "        text-align: right;\n",
       "    }\n",
       "</style>\n",
       "<table border=\"1\" class=\"dataframe\">\n",
       "  <thead>\n",
       "    <tr style=\"text-align: right;\">\n",
       "      <th></th>\n",
       "      <th>pclass</th>\n",
       "      <th>sex</th>\n",
       "      <th>sibsp</th>\n",
       "      <th>parch</th>\n",
       "      <th>embarked</th>\n",
       "      <th>who</th>\n",
       "      <th>alone</th>\n",
       "    </tr>\n",
       "  </thead>\n",
       "  <tbody>\n",
       "    <tr>\n",
       "      <th>0</th>\n",
       "      <td>3</td>\n",
       "      <td>0</td>\n",
       "      <td>1</td>\n",
       "      <td>0</td>\n",
       "      <td>0</td>\n",
       "      <td>0</td>\n",
       "      <td>0</td>\n",
       "    </tr>\n",
       "    <tr>\n",
       "      <th>1</th>\n",
       "      <td>1</td>\n",
       "      <td>1</td>\n",
       "      <td>1</td>\n",
       "      <td>0</td>\n",
       "      <td>1</td>\n",
       "      <td>1</td>\n",
       "      <td>0</td>\n",
       "    </tr>\n",
       "    <tr>\n",
       "      <th>2</th>\n",
       "      <td>3</td>\n",
       "      <td>1</td>\n",
       "      <td>0</td>\n",
       "      <td>0</td>\n",
       "      <td>0</td>\n",
       "      <td>1</td>\n",
       "      <td>1</td>\n",
       "    </tr>\n",
       "    <tr>\n",
       "      <th>3</th>\n",
       "      <td>1</td>\n",
       "      <td>1</td>\n",
       "      <td>1</td>\n",
       "      <td>0</td>\n",
       "      <td>0</td>\n",
       "      <td>1</td>\n",
       "      <td>0</td>\n",
       "    </tr>\n",
       "    <tr>\n",
       "      <th>4</th>\n",
       "      <td>3</td>\n",
       "      <td>0</td>\n",
       "      <td>0</td>\n",
       "      <td>0</td>\n",
       "      <td>0</td>\n",
       "      <td>0</td>\n",
       "      <td>1</td>\n",
       "    </tr>\n",
       "  </tbody>\n",
       "</table>\n",
       "</div>"
      ],
      "text/plain": [
       "   pclass  sex  sibsp  parch  embarked  who  alone\n",
       "0       3    0      1      0         0    0      0\n",
       "1       1    1      1      0         1    1      0\n",
       "2       3    1      0      0         0    1      1\n",
       "3       1    1      1      0         0    1      0\n",
       "4       3    0      0      0         0    0      1"
      ]
     },
     "execution_count": 39,
     "metadata": {},
     "output_type": "execute_result"
    }
   ],
   "source": [
    "data.head()"
   ]
  },
  {
   "cell_type": "markdown",
   "id": "140a5bfb-1a64-4ffa-9ae9-2c57bfd2b34f",
   "metadata": {},
   "source": [
    "#### Do F-Test"
   ]
  },
  {
   "cell_type": "code",
   "execution_count": 46,
   "id": "56371b1d-2b19-450c-950c-f543681bb973",
   "metadata": {},
   "outputs": [],
   "source": [
    "X=data.copy()\n",
    "y=titanic[\"survived\"]"
   ]
  },
  {
   "cell_type": "code",
   "execution_count": 47,
   "id": "4c9b1ebc-f09a-4915-8947-2548e7181aee",
   "metadata": {},
   "outputs": [
    {
     "data": {
      "text/plain": [
       "((889, 7), (889,))"
      ]
     },
     "execution_count": 47,
     "metadata": {},
     "output_type": "execute_result"
    }
   ],
   "source": [
    "X.shape, y.shape"
   ]
  },
  {
   "cell_type": "code",
   "execution_count": 48,
   "id": "62eb07ea-e8fa-4af0-afd7-1fee5b3e696e",
   "metadata": {},
   "outputs": [],
   "source": [
    "X_train, X_test, y_train, y_test=train_test_split(X, y, test_size=0.2, random_state=0)"
   ]
  },
  {
   "cell_type": "code",
   "execution_count": 44,
   "id": "d5ba1cdc-ae87-4987-bd91-b74c1e407630",
   "metadata": {},
   "outputs": [],
   "source": [
    "f_score=chi2(X_train, y_train)"
   ]
  },
  {
   "cell_type": "code",
   "execution_count": 49,
   "id": "16a23ddb-3f4f-47f9-8e73-82ff32dbae61",
   "metadata": {},
   "outputs": [
    {
     "data": {
      "text/plain": [
       "(array([ 22.65169202, 152.91534343,   0.52934285,  10.35663782,\n",
       "         16.13255653, 161.42431175,  13.4382363 ]),\n",
       " array([1.94189138e-06, 3.99737147e-35, 4.66883271e-01, 1.29009955e-03,\n",
       "        5.90599986e-05, 5.52664700e-37, 2.46547298e-04]))"
      ]
     },
     "execution_count": 49,
     "metadata": {},
     "output_type": "execute_result"
    }
   ],
   "source": [
    "f_score"
   ]
  },
  {
   "cell_type": "code",
   "execution_count": 53,
   "id": "5dfa6a86-c00d-40b7-823c-02df6383456b",
   "metadata": {},
   "outputs": [],
   "source": [
    "p_values=pd.Series(f_score[1], index=X_train.columns)\n",
    "p_values.sort_values(ascending=True, inplace=True)"
   ]
  },
  {
   "cell_type": "code",
   "execution_count": 54,
   "id": "4eb7ea78-762a-4647-b032-63e0c8f61c1c",
   "metadata": {},
   "outputs": [
    {
     "data": {
      "text/plain": [
       "who         5.526647e-37\n",
       "sex         3.997371e-35\n",
       "pclass      1.941891e-06\n",
       "embarked    5.906000e-05\n",
       "alone       2.465473e-04\n",
       "parch       1.290100e-03\n",
       "sibsp       4.668833e-01\n",
       "dtype: float64"
      ]
     },
     "execution_count": 54,
     "metadata": {},
     "output_type": "execute_result"
    }
   ],
   "source": [
    "p_values"
   ]
  },
  {
   "cell_type": "code",
   "execution_count": 55,
   "id": "d9631f45-697b-4a22-9571-26e94783af2a",
   "metadata": {},
   "outputs": [
    {
     "data": {
      "text/plain": [
       "<AxesSubplot:>"
      ]
     },
     "execution_count": 55,
     "metadata": {},
     "output_type": "execute_result"
    },
    {
     "data": {
      "image/png": "[encoded data removed]",
      "text/plain": [
       "<Figure size 432x288 with 1 Axes>"
      ]
     },
     "metadata": {
      "needs_background": "light"
     },
     "output_type": "display_data"
    }
   ],
   "source": [
    "p_values.plot.bar()"
   ]
  },
  {
   "cell_type": "code",
   "execution_count": 56,
   "id": "7a2bf7a0-3ec4-466c-a3a5-e5022bf3bbc4",
   "metadata": {},
   "outputs": [],
   "source": [
    "X_train_2=X_train[[\"who\", \"sex\"]]\n",
    "X_test_2=X_test[[\"who\", \"sex\"]]                  "
   ]
  },
  {
   "cell_type": "code",
   "execution_count": 59,
   "id": "25473069-4de0-409e-9bce-8043e5b20cf6",
   "metadata": {},
   "outputs": [],
   "source": [
    "def run_randomForest(X_train, X_test, y_train, y_test):\n",
    "    clf=RandomForestClassifier(n_estimators=100, random_state=0, n_jobs=-1)\n",
    "    clf.fit(X_train, y_train)\n",
    "    y_pred=clf.predict(X_test)\n",
    "    print(\"Accuracy: \", accuracy_score(y_test, y_pred))"
   ]
  },
  {
   "cell_type": "code",
   "execution_count": 60,
   "id": "a9f0200c-e5c4-4dc8-8e3d-58d8db8c1ab9",
   "metadata": {},
   "outputs": [
    {
     "name": "stdout",
     "output_type": "stream",
     "text": [
      "Accuracy:  0.7191011235955056\n",
      "CPU times: user 278 ms, sys: 81.4 ms, total: 360 ms\n",
      "Wall time: 382 ms\n"
     ]
    }
   ],
   "source": [
    "%%time\n",
    "run_randomForest(X_train_2, X_test_2, y_train, y_test)"
   ]
  },
  {
   "cell_type": "code",
   "execution_count": 61,
   "id": "f9a5dd08-7a3a-423c-b8df-a9d8c67de233",
   "metadata": {},
   "outputs": [],
   "source": [
    "X_train_3=X_train[[\"who\", \"sex\", \"pclass\"]]\n",
    "X_test_3=X_test[[\"who\", \"sex\", \"pclass\"]]  "
   ]
  },
  {
   "cell_type": "code",
   "execution_count": 62,
   "id": "e55622de-ac34-49a7-b5ad-b3af8c326ad5",
   "metadata": {},
   "outputs": [
    {
     "name": "stdout",
     "output_type": "stream",
     "text": [
      "Accuracy:  0.7415730337078652\n",
      "CPU times: user 249 ms, sys: 74.3 ms, total: 323 ms\n",
      "Wall time: 285 ms\n"
     ]
    }
   ],
   "source": [
    "%%time\n",
    "run_randomForest(X_train_3, X_test_3, y_train, y_test)"
   ]
  },
  {
   "cell_type": "code",
   "execution_count": 63,
   "id": "e6924b65-893d-48fc-91af-fc1e136ef5e7",
   "metadata": {},
   "outputs": [],
   "source": [
    "X_train_4=X_train[[\"who\", \"sex\", \"pclass\", \"embarked\"]]\n",
    "X_test_4=X_test[[\"who\", \"sex\", \"pclass\", \"embarked\"]]  "
   ]
  },
  {
   "cell_type": "code",
   "execution_count": 64,
   "id": "5c15cb47-f25b-4af4-9f7e-302e2fc4ea60",
   "metadata": {},
   "outputs": [
    {
     "name": "stdout",
     "output_type": "stream",
     "text": [
      "Accuracy:  0.7584269662921348\n",
      "CPU times: user 269 ms, sys: 72.2 ms, total: 341 ms\n",
      "Wall time: 328 ms\n"
     ]
    }
   ],
   "source": [
    "%%time\n",
    "run_randomForest(X_train_4, X_test_4, y_train, y_test)"
   ]
  },
  {
   "cell_type": "code",
   "execution_count": 65,
   "id": "ddb095c3-414f-4f40-8975-93b8e67ff31a",
   "metadata": {},
   "outputs": [],
   "source": [
    "X_train_4=X_train[[\"who\", \"sex\", \"pclass\", \"alone\"]]\n",
    "X_test_4=X_test[[\"who\", \"sex\", \"pclass\", \"alone\"]]  "
   ]
  },
  {
   "cell_type": "code",
   "execution_count": 66,
   "id": "47efb3b6-cf60-4c24-ae68-a7427abfed63",
   "metadata": {},
   "outputs": [
    {
     "name": "stdout",
     "output_type": "stream",
     "text": [
      "Accuracy:  0.7528089887640449\n",
      "CPU times: user 269 ms, sys: 76.4 ms, total: 345 ms\n",
      "Wall time: 329 ms\n"
     ]
    }
   ],
   "source": [
    "%%time\n",
    "run_randomForest(X_train_4, X_test_4, y_train, y_test)"
   ]
  },
  {
   "cell_type": "code",
   "execution_count": 67,
   "id": "3d427d38-8115-42b4-aa16-99644be552f5",
   "metadata": {},
   "outputs": [],
   "source": [
    "X_train_5=X_train[[\"who\", \"sex\", \"pclass\", \"embarked\", \"alone\"]]\n",
    "X_test_5=X_test[[\"who\", \"sex\", \"pclass\", \"embarked\", \"alone\"]]  "
   ]
  },
  {
   "cell_type": "code",
   "execution_count": 68,
   "id": "4b2b2549-8cf7-41c3-a40e-1b2281cbbc19",
   "metadata": {},
   "outputs": [
    {
     "name": "stdout",
     "output_type": "stream",
     "text": [
      "Accuracy:  0.7528089887640449\n",
      "CPU times: user 256 ms, sys: 70.8 ms, total: 327 ms\n",
      "Wall time: 335 ms\n"
     ]
    }
   ],
   "source": [
    "%%time\n",
    "run_randomForest(X_train_5, X_test_5, y_train, y_test)"
   ]
  },
  {
   "cell_type": "code",
   "execution_count": 69,
   "id": "780ecc4e-3e69-497e-a710-fb141369bdef",
   "metadata": {},
   "outputs": [
    {
     "name": "stdout",
     "output_type": "stream",
     "text": [
      "Accuracy:  0.7359550561797753\n",
      "CPU times: user 266 ms, sys: 76.6 ms, total: 342 ms\n",
      "Wall time: 294 ms\n"
     ]
    }
   ],
   "source": [
    "%%time\n",
    "run_randomForest(X_train, X_test, y_train, y_test)"
   ]
  },
  {
   "cell_type": "markdown",
   "id": "bfbb14ad-323a-4f32-9399-b334cf96def5",
   "metadata": {},
   "source": [
    "### Feature Dimension Reduction using LDA and PCA with Python| Principal Component Analysis in Feature Selection"
   ]
  },
  {
   "cell_type": "markdown",
   "id": "69f2bf33-c9d4-4849-8aeb-bc31e23a512a",
   "metadata": {},
   "source": [
    "###### Linear Discriminant Analysis is a supervised algorithm as it takes the class label into consideration. it is a way to reduce \"dimmensionality\" while at the same time preserving as much of the class discrimination information as possible"
   ]
  },
  {
   "cell_type": "markdown",
   "id": "594582dc-031b-4ef4-9f54-5c7a514eac68",
   "metadata": {},
   "source": [
    "###### Pricipal Componenet Analysis(PCA) is a linear dimensionality reduction technique that can be utilized for extracting information from a high-dimmensional space by projecting it into a lower-dimmensional sub-space. it tries to preserve the essential parts that have more variation of the data and remove the non-essential parts with fewer variation"
   ]
  },
  {
   "cell_type": "code",
   "execution_count": 3,
   "id": "e832de0f-c8ab-4c4d-be84-df4966024889",
   "metadata": {},
   "outputs": [],
   "source": [
    "import pandas as pd\n",
    "import numpy as np\n",
    "import seaborn as sns\n",
    "import matplotlib.pyplot as plt\n",
    "%matplotlib inline"
   ]
  },
  {
   "cell_type": "code",
   "execution_count": 4,
   "id": "1aeb9af4-5974-4abe-9012-6712d9d1e105",
   "metadata": {},
   "outputs": [],
   "source": [
    "from sklearn.model_selection import train_test_split\n",
    "from sklearn.ensemble import RandomForestClassifier\n",
    "from sklearn.metrics import accuracy_score, roc_auc_score\n",
    "from sklearn.feature_selection import VarianceThreshold\n",
    "from sklearn.preprocessing import StandardScaler"
   ]
  },
  {
   "cell_type": "code",
   "execution_count": 5,
   "id": "5881532c-8ff5-4124-be6e-0d19e1aad51f",
   "metadata": {},
   "outputs": [
    {
     "data": {
      "text/html": [
       "<div>\n",
       "<style scoped>\n",
       "    .dataframe tbody tr th:only-of-type {\n",
       "        vertical-align: middle;\n",
       "    }\n",
       "\n",
       "    .dataframe tbody tr th {\n",
       "        vertical-align: top;\n",
       "    }\n",
       "\n",
       "    .dataframe thead th {\n",
       "        text-align: right;\n",
       "    }\n",
       "</style>\n",
       "<table border=\"1\" class=\"dataframe\">\n",
       "  <thead>\n",
       "    <tr style=\"text-align: right;\">\n",
       "      <th></th>\n",
       "      <th>ID</th>\n",
       "      <th>var3</th>\n",
       "      <th>var15</th>\n",
       "      <th>imp_ent_var16_ult1</th>\n",
       "      <th>imp_op_var39_comer_ult1</th>\n",
       "      <th>imp_op_var39_comer_ult3</th>\n",
       "      <th>imp_op_var40_comer_ult1</th>\n",
       "      <th>imp_op_var40_comer_ult3</th>\n",
       "      <th>imp_op_var40_efect_ult1</th>\n",
       "      <th>imp_op_var40_efect_ult3</th>\n",
       "      <th>...</th>\n",
       "      <th>saldo_medio_var33_hace2</th>\n",
       "      <th>saldo_medio_var33_hace3</th>\n",
       "      <th>saldo_medio_var33_ult1</th>\n",
       "      <th>saldo_medio_var33_ult3</th>\n",
       "      <th>saldo_medio_var44_hace2</th>\n",
       "      <th>saldo_medio_var44_hace3</th>\n",
       "      <th>saldo_medio_var44_ult1</th>\n",
       "      <th>saldo_medio_var44_ult3</th>\n",
       "      <th>var38</th>\n",
       "      <th>TARGET</th>\n",
       "    </tr>\n",
       "  </thead>\n",
       "  <tbody>\n",
       "    <tr>\n",
       "      <th>0</th>\n",
       "      <td>1</td>\n",
       "      <td>2</td>\n",
       "      <td>23</td>\n",
       "      <td>0.0</td>\n",
       "      <td>0.0</td>\n",
       "      <td>0.0</td>\n",
       "      <td>0.0</td>\n",
       "      <td>0.0</td>\n",
       "      <td>0</td>\n",
       "      <td>0</td>\n",
       "      <td>...</td>\n",
       "      <td>0.0</td>\n",
       "      <td>0.0</td>\n",
       "      <td>0.0</td>\n",
       "      <td>0.0</td>\n",
       "      <td>0.0</td>\n",
       "      <td>0.0</td>\n",
       "      <td>0.0</td>\n",
       "      <td>0.0</td>\n",
       "      <td>39205.170000</td>\n",
       "      <td>0</td>\n",
       "    </tr>\n",
       "    <tr>\n",
       "      <th>1</th>\n",
       "      <td>3</td>\n",
       "      <td>2</td>\n",
       "      <td>34</td>\n",
       "      <td>0.0</td>\n",
       "      <td>0.0</td>\n",
       "      <td>0.0</td>\n",
       "      <td>0.0</td>\n",
       "      <td>0.0</td>\n",
       "      <td>0</td>\n",
       "      <td>0</td>\n",
       "      <td>...</td>\n",
       "      <td>0.0</td>\n",
       "      <td>0.0</td>\n",
       "      <td>0.0</td>\n",
       "      <td>0.0</td>\n",
       "      <td>0.0</td>\n",
       "      <td>0.0</td>\n",
       "      <td>0.0</td>\n",
       "      <td>0.0</td>\n",
       "      <td>49278.030000</td>\n",
       "      <td>0</td>\n",
       "    </tr>\n",
       "    <tr>\n",
       "      <th>2</th>\n",
       "      <td>4</td>\n",
       "      <td>2</td>\n",
       "      <td>23</td>\n",
       "      <td>0.0</td>\n",
       "      <td>0.0</td>\n",
       "      <td>0.0</td>\n",
       "      <td>0.0</td>\n",
       "      <td>0.0</td>\n",
       "      <td>0</td>\n",
       "      <td>0</td>\n",
       "      <td>...</td>\n",
       "      <td>0.0</td>\n",
       "      <td>0.0</td>\n",
       "      <td>0.0</td>\n",
       "      <td>0.0</td>\n",
       "      <td>0.0</td>\n",
       "      <td>0.0</td>\n",
       "      <td>0.0</td>\n",
       "      <td>0.0</td>\n",
       "      <td>67333.770000</td>\n",
       "      <td>0</td>\n",
       "    </tr>\n",
       "    <tr>\n",
       "      <th>3</th>\n",
       "      <td>8</td>\n",
       "      <td>2</td>\n",
       "      <td>37</td>\n",
       "      <td>0.0</td>\n",
       "      <td>195.0</td>\n",
       "      <td>195.0</td>\n",
       "      <td>0.0</td>\n",
       "      <td>0.0</td>\n",
       "      <td>0</td>\n",
       "      <td>0</td>\n",
       "      <td>...</td>\n",
       "      <td>0.0</td>\n",
       "      <td>0.0</td>\n",
       "      <td>0.0</td>\n",
       "      <td>0.0</td>\n",
       "      <td>0.0</td>\n",
       "      <td>0.0</td>\n",
       "      <td>0.0</td>\n",
       "      <td>0.0</td>\n",
       "      <td>64007.970000</td>\n",
       "      <td>0</td>\n",
       "    </tr>\n",
       "    <tr>\n",
       "      <th>4</th>\n",
       "      <td>10</td>\n",
       "      <td>2</td>\n",
       "      <td>39</td>\n",
       "      <td>0.0</td>\n",
       "      <td>0.0</td>\n",
       "      <td>0.0</td>\n",
       "      <td>0.0</td>\n",
       "      <td>0.0</td>\n",
       "      <td>0</td>\n",
       "      <td>0</td>\n",
       "      <td>...</td>\n",
       "      <td>0.0</td>\n",
       "      <td>0.0</td>\n",
       "      <td>0.0</td>\n",
       "      <td>0.0</td>\n",
       "      <td>0.0</td>\n",
       "      <td>0.0</td>\n",
       "      <td>0.0</td>\n",
       "      <td>0.0</td>\n",
       "      <td>117310.979016</td>\n",
       "      <td>0</td>\n",
       "    </tr>\n",
       "  </tbody>\n",
       "</table>\n",
       "<p>5 rows × 371 columns</p>\n",
       "</div>"
      ],
      "text/plain": [
       "   ID  var3  var15  imp_ent_var16_ult1  imp_op_var39_comer_ult1  \\\n",
       "0   1     2     23                 0.0                      0.0   \n",
       "1   3     2     34                 0.0                      0.0   \n",
       "2   4     2     23                 0.0                      0.0   \n",
       "3   8     2     37                 0.0                    195.0   \n",
       "4  10     2     39                 0.0                      0.0   \n",
       "\n",
       "   imp_op_var39_comer_ult3  imp_op_var40_comer_ult1  imp_op_var40_comer_ult3  \\\n",
       "0                      0.0                      0.0                      0.0   \n",
       "1                      0.0                      0.0                      0.0   \n",
       "2                      0.0                      0.0                      0.0   \n",
       "3                    195.0                      0.0                      0.0   \n",
       "4                      0.0                      0.0                      0.0   \n",
       "\n",
       "   imp_op_var40_efect_ult1  imp_op_var40_efect_ult3  ...  \\\n",
       "0                        0                        0  ...   \n",
       "1                        0                        0  ...   \n",
       "2                        0                        0  ...   \n",
       "3                        0                        0  ...   \n",
       "4                        0                        0  ...   \n",
       "\n",
       "   saldo_medio_var33_hace2  saldo_medio_var33_hace3  saldo_medio_var33_ult1  \\\n",
       "0                      0.0                      0.0                     0.0   \n",
       "1                      0.0                      0.0                     0.0   \n",
       "2                      0.0                      0.0                     0.0   \n",
       "3                      0.0                      0.0                     0.0   \n",
       "4                      0.0                      0.0                     0.0   \n",
       "\n",
       "   saldo_medio_var33_ult3  saldo_medio_var44_hace2  saldo_medio_var44_hace3  \\\n",
       "0                     0.0                      0.0                      0.0   \n",
       "1                     0.0                      0.0                      0.0   \n",
       "2                     0.0                      0.0                      0.0   \n",
       "3                     0.0                      0.0                      0.0   \n",
       "4                     0.0                      0.0                      0.0   \n",
       "\n",
       "   saldo_medio_var44_ult1  saldo_medio_var44_ult3          var38  TARGET  \n",
       "0                     0.0                     0.0   39205.170000       0  \n",
       "1                     0.0                     0.0   49278.030000       0  \n",
       "2                     0.0                     0.0   67333.770000       0  \n",
       "3                     0.0                     0.0   64007.970000       0  \n",
       "4                     0.0                     0.0  117310.979016       0  \n",
       "\n",
       "[5 rows x 371 columns]"
      ]
     },
     "execution_count": 5,
     "metadata": {},
     "output_type": "execute_result"
    }
   ],
   "source": [
    "data=pd.read_csv(\"//Users//motolanikay-salami//Downloads//santander-train.csv\", nrows=20000)\n",
    "data.head()"
   ]
  },
  {
   "cell_type": "code",
   "execution_count": 6,
   "id": "801a2885-0d34-45e4-99f1-8e24ca7e7003",
   "metadata": {},
   "outputs": [
    {
     "data": {
      "text/plain": [
       "((20000, 370), (20000,))"
      ]
     },
     "execution_count": 6,
     "metadata": {},
     "output_type": "execute_result"
    }
   ],
   "source": [
    "X=data.drop(\"TARGET\", axis=1)\n",
    "y=data[\"TARGET\"]\n",
    "\n",
    "\n",
    "X.shape,y.shape"
   ]
  },
  {
   "cell_type": "code",
   "execution_count": 7,
   "id": "3eb1bccc-a663-4b72-87c4-454fbb8fcc6d",
   "metadata": {},
   "outputs": [],
   "source": [
    "X_train, X_test, y_train, y_test=train_test_split(X, y, test_size=0.2, random_state=0, stratify=y)"
   ]
  },
  {
   "cell_type": "markdown",
   "id": "07e46c7e-8c50-423d-a8a8-014581725367",
   "metadata": {},
   "source": [
    "#### Remove Constant, Quasi Constant and Duplicate Features"
   ]
  },
  {
   "cell_type": "code",
   "execution_count": 8,
   "id": "ac57a53d-b36c-4dd6-acd9-e71e125cf064",
   "metadata": {},
   "outputs": [],
   "source": [
    "# remove constant and quasi constant features\n",
    "constant_filter=VarianceThreshold(threshold=0.01)\n",
    "constant_filter.fit(X_train)\n",
    "X_train_filter=constant_filter.transform(X_train)\n",
    "X_test_filter=constant_filter.transform(X_test)"
   ]
  },
  {
   "cell_type": "code",
   "execution_count": 9,
   "id": "9fa24174-87df-4a7c-9586-dbf27562d586",
   "metadata": {},
   "outputs": [
    {
     "data": {
      "text/plain": [
       "((16000, 245), (4000, 245))"
      ]
     },
     "execution_count": 9,
     "metadata": {},
     "output_type": "execute_result"
    }
   ],
   "source": [
    "X_train_filter.shape, X_test_filter.shape"
   ]
  },
  {
   "cell_type": "code",
   "execution_count": 10,
   "id": "e8f46c29-d8b3-43d0-97bd-8df37bfe9373",
   "metadata": {},
   "outputs": [],
   "source": [
    "# remove duplicate features\n",
    "X_train_T=X_train_filter.T\n",
    "X_test_T=X_test_filter.T"
   ]
  },
  {
   "cell_type": "code",
   "execution_count": 11,
   "id": "f13ab688-7d89-42c2-a5b1-5ed3872777a2",
   "metadata": {},
   "outputs": [],
   "source": [
    "X_train_T=pd.DataFrame(X_train_T)\n",
    "X_test_T=pd.DataFrame(X_test_T)"
   ]
  },
  {
   "cell_type": "code",
   "execution_count": 12,
   "id": "7e893e85-334b-4a46-b8ff-5efe2a8f9140",
   "metadata": {},
   "outputs": [
    {
     "data": {
      "text/plain": [
       "18"
      ]
     },
     "execution_count": 12,
     "metadata": {},
     "output_type": "execute_result"
    }
   ],
   "source": [
    "X_train_T.duplicated().sum()"
   ]
  },
  {
   "cell_type": "code",
   "execution_count": 13,
   "id": "40e4d6a9-6b7a-4035-915c-1656ef8ebad3",
   "metadata": {},
   "outputs": [],
   "source": [
    "duplicated_features=X_train_T.duplicated()"
   ]
  },
  {
   "cell_type": "code",
   "execution_count": 14,
   "id": "800fb9bc-cf3e-4d41-99d5-5a8dfa812c34",
   "metadata": {},
   "outputs": [],
   "source": [
    "features_to_keep=[not index for index in duplicated_features]\n",
    "\n",
    "X_train_unique=X_train_T[features_to_keep].T\n",
    "X_test_unique=X_test_T[features_to_keep].T"
   ]
  },
  {
   "cell_type": "code",
   "execution_count": 15,
   "id": "130792e3-5b0f-4e19-a62b-ae9851034621",
   "metadata": {},
   "outputs": [],
   "source": [
    "scaler=StandardScaler().fit(X_train_unique)\n",
    "X_train_unique=scaler.transform(X_train_unique)\n",
    "X_test_unique=scaler.transform(X_test_unique)"
   ]
  },
  {
   "cell_type": "code",
   "execution_count": 16,
   "id": "606f664f-8eac-431d-9828-b9aa92f01e31",
   "metadata": {},
   "outputs": [],
   "source": [
    "X_train_unique=pd.DataFrame(X_train_unique)\n",
    "X_test_unique=pd.DataFrame(X_test_unique)"
   ]
  },
  {
   "cell_type": "code",
   "execution_count": 17,
   "id": "dc2091de-f9a8-4719-bf41-137a15c9e187",
   "metadata": {},
   "outputs": [
    {
     "data": {
      "text/plain": [
       "((16000, 227), (4000, 227))"
      ]
     },
     "execution_count": 17,
     "metadata": {},
     "output_type": "execute_result"
    }
   ],
   "source": [
    "X_train_unique.shape, X_test_unique.shape"
   ]
  },
  {
   "cell_type": "markdown",
   "id": "568b7a0f-b019-4514-af3e-34d72855193b",
   "metadata": {},
   "source": [
    "#### Removal of correlated Feature"
   ]
  },
  {
   "cell_type": "code",
   "execution_count": 18,
   "id": "4dee0674-5257-45de-a1b7-2283ca0da6cb",
   "metadata": {},
   "outputs": [],
   "source": [
    "corrmat=X_train_unique.corr()"
   ]
  },
  {
   "cell_type": "code",
   "execution_count": 19,
   "id": "859ee4bb-8fa7-47cd-9b72-9a0b094720dd",
   "metadata": {},
   "outputs": [
    {
     "data": {
      "text/plain": [
       "(227, 227)"
      ]
     },
     "execution_count": 19,
     "metadata": {},
     "output_type": "execute_result"
    }
   ],
   "source": [
    "corrmat.shape"
   ]
  },
  {
   "cell_type": "code",
   "execution_count": 20,
   "id": "b8bb0690-6a5a-4d6e-a919-c725664cbfaa",
   "metadata": {},
   "outputs": [
    {
     "name": "stdout",
     "output_type": "stream",
     "text": [
      "correlated features:  148\n"
     ]
    }
   ],
   "source": [
    "# find correlated features \n",
    "def get_correlation(data, threshold):\n",
    "    corr_col=set()\n",
    "    corrmat=data.corr()\n",
    "    for i in range(len(corrmat.columns)):\n",
    "        for j in range(i):\n",
    "            if abs(corrmat.iloc[i, j])>threshold:\n",
    "                colname=corrmat.columns[i]\n",
    "                corr_col.add(colname)\n",
    "    return corr_col\n",
    "\n",
    "corr_features=get_correlation(X_train_unique, 0.70)\n",
    "print(\"correlated features: \", len(set(corr_features)) )"
   ]
  },
  {
   "cell_type": "code",
   "execution_count": 21,
   "id": "be93570e-e72d-457a-9e2b-66633cf1e7a9",
   "metadata": {},
   "outputs": [],
   "source": [
    "X_train_uncorr=X_train_unique.drop(labels=corr_features, axis=1)\n",
    "X_test_uncorr=X_test_unique.drop(labels=corr_features, axis=1)"
   ]
  },
  {
   "cell_type": "code",
   "execution_count": 22,
   "id": "a9ac2507-4268-4c89-b87d-ebee4cf46264",
   "metadata": {},
   "outputs": [
    {
     "data": {
      "text/plain": [
       "((16000, 79), (4000, 79))"
      ]
     },
     "execution_count": 22,
     "metadata": {},
     "output_type": "execute_result"
    }
   ],
   "source": [
    "X_train_uncorr.shape, X_test_uncorr.shape"
   ]
  },
  {
   "cell_type": "markdown",
   "id": "4b7f4423-c679-4416-bdd7-8301c1ad1946",
   "metadata": {},
   "source": [
    "#### Feature Dimension Reduction by LDA OR Is it as a Classifier"
   ]
  },
  {
   "cell_type": "code",
   "execution_count": 23,
   "id": "88e442a3-b831-4750-82e6-79e6f4966a01",
   "metadata": {},
   "outputs": [],
   "source": [
    "from sklearn.discriminant_analysis import LinearDiscriminantAnalysis as LDA"
   ]
  },
  {
   "cell_type": "code",
   "execution_count": 24,
   "id": "066585a9-8634-4fc9-9684-fcfe8e289f79",
   "metadata": {},
   "outputs": [],
   "source": [
    "lda=LDA(n_components=1)\n",
    "X_train_lda=lda.fit_transform(X_train_uncorr, y_train)"
   ]
  },
  {
   "cell_type": "code",
   "execution_count": 25,
   "id": "b1da36cb-e6fb-400b-ada5-099ae883ee4f",
   "metadata": {},
   "outputs": [
    {
     "data": {
      "text/plain": [
       "(16000, 1)"
      ]
     },
     "execution_count": 25,
     "metadata": {},
     "output_type": "execute_result"
    }
   ],
   "source": [
    "X_train_lda.shape"
   ]
  },
  {
   "cell_type": "code",
   "execution_count": 26,
   "id": "645f9977-0fda-4384-be86-d3d625f49491",
   "metadata": {},
   "outputs": [],
   "source": [
    "X_test_lda=lda.transform(X_test_uncorr)"
   ]
  },
  {
   "cell_type": "code",
   "execution_count": 27,
   "id": "39aa8840-950c-4fb4-a62f-103aaf9432d5",
   "metadata": {},
   "outputs": [
    {
     "data": {
      "text/plain": [
       "(4000, 1)"
      ]
     },
     "execution_count": 27,
     "metadata": {},
     "output_type": "execute_result"
    }
   ],
   "source": [
    "X_test_lda.shape"
   ]
  },
  {
   "cell_type": "code",
   "execution_count": 28,
   "id": "fc75002e-ef00-4a6c-9e2a-889f98474ffd",
   "metadata": {},
   "outputs": [],
   "source": [
    "def run_randomForest(X_train, X_test, y_train, y_test):\n",
    "    clf=RandomForestClassifier(n_estimators=100, random_state=0, n_jobs=-1)\n",
    "    clf.fit(X_train, y_train)\n",
    "    y_pred=clf.predict(X_test)\n",
    "    print(\"Accuracy on test set: \")\n",
    "    print(accuracy_score(y_pred, y_test))"
   ]
  },
  {
   "cell_type": "code",
   "execution_count": 29,
   "id": "daba73d1-5862-42b9-91ce-788f7bc168b7",
   "metadata": {},
   "outputs": [
    {
     "data": {
      "text/plain": [
       "(4000,)"
      ]
     },
     "execution_count": 29,
     "metadata": {},
     "output_type": "execute_result"
    }
   ],
   "source": [
    "y_test.shape"
   ]
  },
  {
   "cell_type": "code",
   "execution_count": 30,
   "id": "ee5da07d-95d3-4b31-964b-e8af9f51a39b",
   "metadata": {},
   "outputs": [
    {
     "name": "stdout",
     "output_type": "stream",
     "text": [
      "Accuracy on test set: \n",
      "0.93025\n",
      "CPU times: user 3.32 s, sys: 112 ms, total: 3.43 s\n",
      "Wall time: 1.47 s\n"
     ]
    }
   ],
   "source": [
    "%%time\n",
    "run_randomForest(X_train_lda, X_test_lda, y_train, y_test)"
   ]
  },
  {
   "cell_type": "code",
   "execution_count": 31,
   "id": "7c896678-eba6-4d50-88c3-a0f0ddb84ab3",
   "metadata": {},
   "outputs": [
    {
     "name": "stdout",
     "output_type": "stream",
     "text": [
      "Accuracy on test set: \n",
      "0.9585\n",
      "CPU times: user 6.17 s, sys: 176 ms, total: 6.35 s\n",
      "Wall time: 2.53 s\n"
     ]
    }
   ],
   "source": [
    "%%time\n",
    "run_randomForest(X_train, X_test, y_train, y_test)"
   ]
  },
  {
   "cell_type": "markdown",
   "id": "549ea050-4c95-45f3-9547-a1357b0cd087",
   "metadata": {},
   "source": [
    "#### Feature Reduction by PCA"
   ]
  },
  {
   "cell_type": "code",
   "execution_count": 32,
   "id": "1c674ecb-c979-4775-bd86-164070ecd59d",
   "metadata": {},
   "outputs": [],
   "source": [
    "from sklearn.decomposition import PCA"
   ]
  },
  {
   "cell_type": "code",
   "execution_count": 33,
   "id": "df3abbc1-df1a-49ab-b8a8-71c9f0ef3dc6",
   "metadata": {},
   "outputs": [
    {
     "data": {
      "text/plain": [
       "PCA(n_components=2, random_state=42)"
      ]
     },
     "execution_count": 33,
     "metadata": {},
     "output_type": "execute_result"
    }
   ],
   "source": [
    "pca=PCA(n_components=2, random_state=42)\n",
    "pca.fit(X_test_uncorr)"
   ]
  },
  {
   "cell_type": "code",
   "execution_count": 34,
   "id": "988ed3ac-4b4b-455b-8bae-755d52a15742",
   "metadata": {},
   "outputs": [
    {
     "data": {
      "text/plain": [
       "((16000, 2), (16000, 79))"
      ]
     },
     "execution_count": 34,
     "metadata": {},
     "output_type": "execute_result"
    }
   ],
   "source": [
    "X_train_pca=pca.transform(X_train_uncorr)\n",
    "X_test_pca=pca.transform(X_test_uncorr)\n",
    "X_train_pca.shape, X_train_uncorr.shape"
   ]
  },
  {
   "cell_type": "code",
   "execution_count": 35,
   "id": "35c36c8c-0247-4a88-9fb7-cd4f4adb3aa0",
   "metadata": {},
   "outputs": [
    {
     "name": "stdout",
     "output_type": "stream",
     "text": [
      "Accuracy on test set: \n",
      "0.9565\n",
      "CPU times: user 3.2 s, sys: 88 ms, total: 3.29 s\n",
      "Wall time: 1.35 s\n"
     ]
    }
   ],
   "source": [
    "%%time\n",
    "run_randomForest(X_train_pca, X_test_pca, y_train, y_test)"
   ]
  },
  {
   "cell_type": "code",
   "execution_count": 36,
   "id": "6126d51f-c702-4626-ba74-1d6cd1c24aa3",
   "metadata": {},
   "outputs": [
    {
     "name": "stdout",
     "output_type": "stream",
     "text": [
      "Selected Comp:  1\n",
      "Accuracy on test set: \n",
      "0.931\n",
      "\n",
      "Selected Comp:  2\n",
      "Accuracy on test set: \n",
      "0.9565\n",
      "\n",
      "Selected Comp:  3\n",
      "Accuracy on test set: \n",
      "0.95725\n",
      "\n",
      "Selected Comp:  4\n",
      "Accuracy on test set: \n",
      "0.956\n",
      "\n",
      "Selected Comp:  5\n",
      "Accuracy on test set: \n",
      "0.955\n",
      "\n",
      "Selected Comp:  6\n",
      "Accuracy on test set: \n",
      "0.95575\n",
      "\n",
      "Selected Comp:  7\n",
      "Accuracy on test set: \n",
      "0.9565\n",
      "\n",
      "Selected Comp:  8\n",
      "Accuracy on test set: \n",
      "0.956\n",
      "\n",
      "Selected Comp:  9\n",
      "Accuracy on test set: \n",
      "0.957\n",
      "\n",
      "Selected Comp:  10\n",
      "Accuracy on test set: \n",
      "0.956\n",
      "\n",
      "Selected Comp:  11\n",
      "Accuracy on test set: \n",
      "0.956\n",
      "\n",
      "Selected Comp:  12\n",
      "Accuracy on test set: \n",
      "0.9555\n",
      "\n",
      "Selected Comp:  13\n",
      "Accuracy on test set: \n",
      "0.95625\n",
      "\n",
      "Selected Comp:  14\n",
      "Accuracy on test set: \n",
      "0.956\n",
      "\n",
      "Selected Comp:  15\n",
      "Accuracy on test set: \n",
      "0.95525\n",
      "\n",
      "Selected Comp:  16\n",
      "Accuracy on test set: \n",
      "0.95575\n",
      "\n",
      "Selected Comp:  17\n",
      "Accuracy on test set: \n",
      "0.9555\n",
      "\n",
      "Selected Comp:  18\n",
      "Accuracy on test set: \n",
      "0.95475\n",
      "\n",
      "Selected Comp:  19\n",
      "Accuracy on test set: \n",
      "0.9565\n",
      "\n",
      "Selected Comp:  20\n",
      "Accuracy on test set: \n",
      "0.95625\n",
      "\n",
      "Selected Comp:  21\n",
      "Accuracy on test set: \n",
      "0.95575\n",
      "\n",
      "Selected Comp:  22\n",
      "Accuracy on test set: \n",
      "0.9555\n",
      "\n",
      "Selected Comp:  23\n",
      "Accuracy on test set: \n",
      "0.95575\n",
      "\n",
      "Selected Comp:  24\n",
      "Accuracy on test set: \n",
      "0.95525\n",
      "\n",
      "Selected Comp:  25\n",
      "Accuracy on test set: \n",
      "0.95525\n",
      "\n",
      "Selected Comp:  26\n",
      "Accuracy on test set: \n",
      "0.95525\n",
      "\n",
      "Selected Comp:  27\n",
      "Accuracy on test set: \n",
      "0.955\n",
      "\n",
      "Selected Comp:  28\n",
      "Accuracy on test set: \n",
      "0.95575\n",
      "\n",
      "Selected Comp:  29\n",
      "Accuracy on test set: \n",
      "0.95575\n",
      "\n",
      "Selected Comp:  30\n",
      "Accuracy on test set: \n",
      "0.956\n",
      "\n",
      "Selected Comp:  31\n",
      "Accuracy on test set: \n",
      "0.956\n",
      "\n",
      "Selected Comp:  32\n",
      "Accuracy on test set: \n",
      "0.9565\n",
      "\n",
      "Selected Comp:  33\n",
      "Accuracy on test set: \n",
      "0.956\n",
      "\n",
      "Selected Comp:  34\n",
      "Accuracy on test set: \n",
      "0.9565\n",
      "\n",
      "Selected Comp:  35\n",
      "Accuracy on test set: \n",
      "0.956\n",
      "\n",
      "Selected Comp:  36\n",
      "Accuracy on test set: \n",
      "0.956\n",
      "\n",
      "Selected Comp:  37\n",
      "Accuracy on test set: \n",
      "0.956\n",
      "\n",
      "Selected Comp:  38\n",
      "Accuracy on test set: \n",
      "0.956\n",
      "\n",
      "Selected Comp:  39\n",
      "Accuracy on test set: \n",
      "0.956\n",
      "\n",
      "Selected Comp:  40\n",
      "Accuracy on test set: \n",
      "0.956\n",
      "\n",
      "Selected Comp:  41\n",
      "Accuracy on test set: \n",
      "0.95575\n",
      "\n",
      "Selected Comp:  42\n",
      "Accuracy on test set: \n",
      "0.95575\n",
      "\n",
      "Selected Comp:  43\n",
      "Accuracy on test set: \n",
      "0.95625\n",
      "\n",
      "Selected Comp:  44\n",
      "Accuracy on test set: \n",
      "0.9555\n",
      "\n",
      "Selected Comp:  45\n",
      "Accuracy on test set: \n",
      "0.95575\n",
      "\n",
      "Selected Comp:  46\n",
      "Accuracy on test set: \n",
      "0.95525\n",
      "\n",
      "Selected Comp:  47\n",
      "Accuracy on test set: \n",
      "0.955\n",
      "\n",
      "Selected Comp:  48\n",
      "Accuracy on test set: \n",
      "0.956\n",
      "\n",
      "Selected Comp:  49\n",
      "Accuracy on test set: \n",
      "0.9555\n",
      "\n",
      "Selected Comp:  50\n",
      "Accuracy on test set: \n",
      "0.95625\n",
      "\n",
      "Selected Comp:  51\n",
      "Accuracy on test set: \n",
      "0.95675\n",
      "\n",
      "Selected Comp:  52\n",
      "Accuracy on test set: \n",
      "0.95575\n",
      "\n",
      "Selected Comp:  53\n",
      "Accuracy on test set: \n",
      "0.9555\n",
      "\n",
      "Selected Comp:  54\n",
      "Accuracy on test set: \n",
      "0.9555\n",
      "\n",
      "Selected Comp:  55\n",
      "Accuracy on test set: \n",
      "0.955\n",
      "\n",
      "Selected Comp:  56\n",
      "Accuracy on test set: \n",
      "0.956\n",
      "\n",
      "Selected Comp:  57\n",
      "Accuracy on test set: \n",
      "0.9555\n",
      "\n",
      "Selected Comp:  58\n",
      "Accuracy on test set: \n",
      "0.95575\n",
      "\n",
      "Selected Comp:  59\n",
      "Accuracy on test set: \n",
      "0.95525\n",
      "\n",
      "Selected Comp:  60\n",
      "Accuracy on test set: \n",
      "0.95575\n",
      "\n",
      "Selected Comp:  61\n",
      "Accuracy on test set: \n",
      "0.9555\n",
      "\n",
      "Selected Comp:  62\n",
      "Accuracy on test set: \n",
      "0.956\n",
      "\n",
      "Selected Comp:  63\n",
      "Accuracy on test set: \n",
      "0.957\n",
      "\n",
      "Selected Comp:  64\n",
      "Accuracy on test set: \n",
      "0.95525\n",
      "\n",
      "Selected Comp:  65\n",
      "Accuracy on test set: \n",
      "0.95475\n",
      "\n",
      "Selected Comp:  66\n",
      "Accuracy on test set: \n",
      "0.95525\n",
      "\n",
      "Selected Comp:  67\n",
      "Accuracy on test set: \n",
      "0.9555\n",
      "\n",
      "Selected Comp:  68\n",
      "Accuracy on test set: \n",
      "0.956\n",
      "\n",
      "Selected Comp:  69\n",
      "Accuracy on test set: \n",
      "0.9555\n",
      "\n",
      "Selected Comp:  70\n",
      "Accuracy on test set: \n",
      "0.956\n",
      "\n",
      "Selected Comp:  71\n",
      "Accuracy on test set: \n",
      "0.95525\n",
      "\n",
      "Selected Comp:  72\n",
      "Accuracy on test set: \n",
      "0.9555\n",
      "\n",
      "Selected Comp:  73\n",
      "Accuracy on test set: \n",
      "0.95575\n",
      "\n",
      "Selected Comp:  74\n",
      "Accuracy on test set: \n",
      "0.95625\n",
      "\n",
      "Selected Comp:  75\n",
      "Accuracy on test set: \n",
      "0.95525\n",
      "\n",
      "Selected Comp:  76\n",
      "Accuracy on test set: \n",
      "0.95525\n",
      "\n",
      "Selected Comp:  77\n",
      "Accuracy on test set: \n",
      "0.95475\n",
      "\n",
      "Selected Comp:  78\n",
      "Accuracy on test set: \n",
      "0.9555\n",
      "\n"
     ]
    }
   ],
   "source": [
    "for component in range(1, 79):\n",
    "    pca=PCA(n_components=component, random_state=42)\n",
    "    pca.fit(X_test_uncorr)\n",
    "    X_train_pca=pca.transform(X_train_uncorr)\n",
    "    X_test_pca=pca.transform(X_test_uncorr)\n",
    "    print(\"Selected Comp: \", component)\n",
    "    run_randomForest(X_train_pca, X_test_pca, y_train, y_test)\n",
    "    print()"
   ]
  },
  {
   "cell_type": "code",
   "execution_count": null,
   "id": "43f3a281-fbb9-4878-9af0-5bcda4cd9258",
   "metadata": {},
   "outputs": [],
   "source": []
  },
  {
   "cell_type": "code",
   "execution_count": null,
   "id": "1527fe7c-9ddf-4053-8a91-505fbc66c0b6",
   "metadata": {},
   "outputs": [],
   "source": []
  }
 ],
 "metadata": {
  "kernelspec": {
   "display_name": "Python 3",
   "language": "python",
   "name": "python3"
  },
  "language_info": {
   "codemirror_mode": {
    "name": "ipython",
    "version": 3
   },
   "file_extension": ".py",
   "mimetype": "text/x-python",
   "name": "python",
   "nbconvert_exporter": "python",
   "pygments_lexer": "ipython3",
   "version": "3.6.13"
  }
 },
 "nbformat": 4,
 "nbformat_minor": 5
}
